{
 "cells": [
  {
   "cell_type": "markdown",
   "metadata": {
    "toc": true
   },
   "source": [
    "<h1>Table of Contents<span class=\"tocSkip\"></span></h1>\n",
    "<div class=\"toc\"><ul class=\"toc-item\"><li><span><a href=\"#Data-Source\" data-toc-modified-id=\"Data-Source-1\"><span class=\"toc-item-num\">1&nbsp;&nbsp;</span>Data Source</a></span></li><li><span><a href=\"#Imports-and-Update-The-Latest-Data\" data-toc-modified-id=\"Imports-and-Update-The-Latest-Data-2\"><span class=\"toc-item-num\">2&nbsp;&nbsp;</span>Imports and Update The Latest Data</a></span></li><li><span><a href=\"#Historical-air-4-Thai-Data\" data-toc-modified-id=\"Historical-air-4-Thai-Data-3\"><span class=\"toc-item-num\">3&nbsp;&nbsp;</span>Historical air 4 Thai Data</a></span></li><li><span><a href=\"#Power-Plants\" data-toc-modified-id=\"Power-Plants-4\"><span class=\"toc-item-num\">4&nbsp;&nbsp;</span>Power Plants</a></span></li><li><span><a href=\"#Weather-Files\" data-toc-modified-id=\"Weather-Files-5\"><span class=\"toc-item-num\">5&nbsp;&nbsp;</span>Weather Files</a></span><ul class=\"toc-item\"><li><span><a href=\"#Assemble-from-raw-data\" data-toc-modified-id=\"Assemble-from-raw-data-5.1\"><span class=\"toc-item-num\">5.1&nbsp;&nbsp;</span>Assemble from raw data</a></span></li><li><span><a href=\"#Update-weather-all-cities\" data-toc-modified-id=\"Update-weather-all-cities-5.2\"><span class=\"toc-item-num\">5.2&nbsp;&nbsp;</span>Update weather all cities</a></span></li><li><span><a href=\"#Add-New-Weather-Stations-from-URL\" data-toc-modified-id=\"Add-New-Weather-Stations-from-URL-5.3\"><span class=\"toc-item-num\">5.3&nbsp;&nbsp;</span>Add New Weather Stations from URL</a></span></li><li><span><a href=\"#Weather-Debug\" data-toc-modified-id=\"Weather-Debug-5.4\"><span class=\"toc-item-num\">5.4&nbsp;&nbsp;</span>Weather Debug</a></span></li></ul></li><li><span><a href=\"#Merge-Weather-Data-from-OpenWeatherMap\" data-toc-modified-id=\"Merge-Weather-Data-from-OpenWeatherMap-6\"><span class=\"toc-item-num\">6&nbsp;&nbsp;</span>Merge Weather Data from OpenWeatherMap</a></span><ul class=\"toc-item\"><li><span><a href=\"#Fix-Weather-Units\" data-toc-modified-id=\"Fix-Weather-Units-6.1\"><span class=\"toc-item-num\">6.1&nbsp;&nbsp;</span>Fix Weather Units</a></span></li></ul></li><li><span><a href=\"#Holiday-In-Thailand\" data-toc-modified-id=\"Holiday-In-Thailand-7\"><span class=\"toc-item-num\">7&nbsp;&nbsp;</span>Holiday In Thailand</a></span></li><li><span><a href=\"#Hotspots-Data\" data-toc-modified-id=\"Hotspots-Data-8\"><span class=\"toc-item-num\">8&nbsp;&nbsp;</span>Hotspots Data</a></span><ul class=\"toc-item\"><li><span><a href=\"#Fire-For-Chiang-Mai\" data-toc-modified-id=\"Fire-For-Chiang-Mai-8.1\"><span class=\"toc-item-num\">8.1&nbsp;&nbsp;</span>Fire For Chiang Mai</a></span></li><li><span><a href=\"#Impove-Speed-of-Files-reading\" data-toc-modified-id=\"Impove-Speed-of-Files-reading-8.2\"><span class=\"toc-item-num\">8.2&nbsp;&nbsp;</span>Impove Speed of Files reading</a></span></li></ul></li><li><span><a href=\"#Data-From-Hanoi-US-Embassy\" data-toc-modified-id=\"Data-From-Hanoi-US-Embassy-9\"><span class=\"toc-item-num\">9&nbsp;&nbsp;</span>Data From Hanoi US Embassy</a></span></li><li><span><a href=\"#Vietnam-EPA\" data-toc-modified-id=\"Vietnam-EPA-10\"><span class=\"toc-item-num\">10&nbsp;&nbsp;</span>Vietnam EPA</a></span></li></ul></div>"
   ]
  },
  {
   "cell_type": "markdown",
   "metadata": {},
   "source": [
    "# Data Source \n",
    "1. Berekely Earth 'http://berkeleyearth.lbl.gov/air-quality/maps/cities/Thailand/'\n",
    "2. Screaped Air4Thai Data 'http://air4thai.pcd.go.th/webV2/history/'\n",
    "3. CDC Data 'https://www.cmuccdc.org/download_json/'\n",
    "4. Old Air4Thai data from Thailand EPA"
   ]
  },
  {
   "cell_type": "markdown",
   "metadata": {},
   "source": [
    "# Imports and Update The Latest Data"
   ]
  },
  {
   "cell_type": "markdown",
   "metadata": {},
   "source": [
    "Update pollution data from 3 sources and update weather data "
   ]
  },
  {
   "cell_type": "code",
   "execution_count": 6,
   "metadata": {},
   "outputs": [
    {
     "name": "stdout",
     "output_type": "stream",
     "text": [
      "The autoreload extension is already loaded. To reload it, use:\n",
      "  %reload_ext autoreload\n"
     ]
    }
   ],
   "source": [
    "#  Load the \"autoreload\" extension so that code can change\n",
    "%load_ext autoreload\n",
    "%reload_ext autoreload\n",
    "\n",
    "#  always reload modules so that as you change code in src, it gets loaded\n",
    "%autoreload 2\n",
    "%matplotlib inline\n",
    "\n",
    "import sys\n",
    "sys.path.append('../')\n",
    "from src.imports import *\n",
    "from src.data.download_data import *\n",
    "from src.data.read_data import *\n",
    "from src.data.fire_data import *\n",
    "from src.data.vn_data import *\n",
    "from src.data.weather_data import *\n",
    "from src.gen_functions import *\n",
    "from src.features.dataset import Dataset"
   ]
  },
  {
   "cell_type": "code",
   "execution_count": 3,
   "metadata": {},
   "outputs": [],
   "source": [
    "b_folder='../data/pm25/'\n",
    "a4th_folder='../data/air4thai_hourly/'\n",
    "cm_folder ='../data/cm_proc/'\n",
    "cdc_folder = '../data/cdc_data/'\n",
    "aqm_folder = '../data/aqm_hourly2/'\n",
    "aqm_folder2 = '../data/aqm_hourly3/'\n",
    "w_folder = '../data/weather_cities/'"
   ]
  },
  {
   "cell_type": "code",
   "execution_count": 18,
   "metadata": {
    "scrolled": false
   },
   "outputs": [
    {
     "name": "stdout",
     "output_type": "stream",
     "text": [
      "download Berkeley PM2.5 data for all files in http://berkeleyearth.lbl.gov/air-quality/maps/cities/Thailand/\n",
      "download Berkeley PM2.5 data for all files in http://berkeleyearth.lbl.gov/air-quality/maps/cities/Viet_Nam/\n",
      "download Berkeley PM2.5 data for all files in http://berkeleyearth.lbl.gov/air-quality/maps/cities/Indonesia/\n",
      "download Berkeley PM2.5 data for all files in http://berkeleyearth.lbl.gov/air-quality/maps/cities/Myanmar/\n",
      "download Berkeley PM2.5 data for all files in http://berkeleyearth.lbl.gov/air-quality/maps/cities/Singapore/\n",
      "download Berkeley PM2.5 data for all files in http://berkeleyearth.lbl.gov/air-quality/maps/cities/Laos/\n",
      "download Berkeley PM2.5 data for all files in http://berkeleyearth.lbl.gov/air-quality/maps/cities/Cambodia/\n",
      "100% [............................................................................] 449726 / 449726download Berkeley PM2.5 data for all files in http://berkeleyearth.lbl.gov/air-quality/maps/cities/Malaysia/\n",
      "100% [............................................................................] 715875 / 715875\n",
      " Download us embassy data in ASEAN for 2020\n",
      "100% [..............................................................................] 11101 / 11101download more pollution data from Thailand PCD\n",
      "['02t', '03t', '05t', '08t', '10t', '11t', '12t', '13t', '14t', '16t', '17t', '18t', '19t', '20t', '21t', '22t', '24t', '25t', '26t', '27t', '28t', '29t', '30t', '31t', '32t', '33t', '34t', '35t', '36t', '37t', '38t', '39t', '40t', '41t', '42t', '43t', '44t', '46t', '47t', '50t', '52t', '53t', '54t', '57t', '58t', '59t', '60t', '61t', '62t', '63t', '67t', '68t', '69t', '70t', '71t', '72t', '73t', '74t', '75t', '76t', '77t', '79t', '80t', '81t', '82t', '83t', '84t', 'm1', 'm3', 'm4', 'm8', 'm9', 'o10', 'o20', 'o22', 'o23', 'o24', 'o25', 'o26', 'o27', 'o28', 'o29']\n"
     ]
    },
    {
     "data": {
      "application/vnd.jupyter.widget-view+json": {
       "model_id": "60f6c1d4eb724450baf96e49fd9314ae",
       "version_major": 2,
       "version_minor": 0
      },
      "text/plain": [
       "HBox(children=(FloatProgress(value=1.0, bar_style='info', max=1.0), HTML(value='')))"
      ]
     },
     "metadata": {},
     "output_type": "display_data"
    },
    {
     "name": "stdout",
     "output_type": "stream",
     "text": [
      "\n",
      "-1 / unknowndownload data from Chiang Mai University Project (CDC)\n",
      "number of stations 496\n"
     ]
    },
    {
     "data": {
      "application/vnd.jupyter.widget-view+json": {
       "model_id": "fcfa936e95b94476b4f1c3f66a654836",
       "version_major": 2,
       "version_minor": 0
      },
      "text/plain": [
       "HBox(children=(FloatProgress(value=0.0, max=404.0), HTML(value='')))"
      ]
     },
     "metadata": {},
     "output_type": "display_data"
    },
    {
     "name": "stdout",
     "output_type": "stream",
     "text": [
      "\n",
      "Update weather data for all cities\n"
     ]
    },
    {
     "data": {
      "application/vnd.jupyter.widget-view+json": {
       "model_id": "bb8b33549e9742ed95c34a20c2f6c166",
       "version_major": 2,
       "version_minor": 0
      },
      "text/plain": [
       "HBox(children=(FloatProgress(value=0.0, max=15.0), HTML(value='')))"
      ]
     },
     "metadata": {},
     "output_type": "display_data"
    },
    {
     "name": "stdout",
     "output_type": "stream",
     "text": [
      "update weather data for  Mueang Chiang Mai\n",
      "updateing file: ../data/weather_cities/Mueang_Chiang_Mai.csv\n",
      "missing date 0\n",
      "update weather data for  Soc Son\n",
      "updateing file: ../data/weather_cities/Soc_Son.csv\n",
      "missing date 3\n"
     ]
    },
    {
     "data": {
      "application/vnd.jupyter.widget-view+json": {
       "model_id": "b569e6926c3b4b79b37bcb452b2e4902",
       "version_major": 2,
       "version_minor": 0
      },
      "text/plain": [
       "HBox(children=(FloatProgress(value=1.0, bar_style='info', max=1.0), HTML(value='')))"
      ]
     },
     "metadata": {},
     "output_type": "display_data"
    },
    {
     "name": "stdout",
     "output_type": "stream",
     "text": [
      "\n",
      "update weather data for  Soc Son\n",
      "updateing file: ../data/weather_cities/Soc_Son.csv\n",
      "missing date 0\n",
      "update weather data for  Bangkok\n",
      "updateing file: ../data/weather_cities/Bangkok.csv\n",
      "missing date 3\n"
     ]
    },
    {
     "data": {
      "application/vnd.jupyter.widget-view+json": {
       "model_id": "ee4a866db0b04bfc89bb140cfa2a2f32",
       "version_major": 2,
       "version_minor": 0
      },
      "text/plain": [
       "HBox(children=(FloatProgress(value=1.0, bar_style='info', max=1.0), HTML(value='')))"
      ]
     },
     "metadata": {},
     "output_type": "display_data"
    },
    {
     "name": "stdout",
     "output_type": "stream",
     "text": [
      "\n",
      "update weather data for  Mueang Chiang Rai\n",
      "updateing file: ../data/weather_cities/Mueang_Chiang_Rai.csv\n",
      "missing date 0\n",
      "update weather data for  Mueang Tak\n",
      "updateing file: ../data/weather_cities/Mueang_Tak.csv\n",
      "missing date 3\n"
     ]
    },
    {
     "data": {
      "application/vnd.jupyter.widget-view+json": {
       "model_id": "0fd52c339452451d979f34901265ee27",
       "version_major": 2,
       "version_minor": 0
      },
      "text/plain": [
       "HBox(children=(FloatProgress(value=1.0, bar_style='info', max=1.0), HTML(value='')))"
      ]
     },
     "metadata": {},
     "output_type": "display_data"
    },
    {
     "name": "stdout",
     "output_type": "stream",
     "text": [
      "\n",
      "update weather data for  Yangon\n",
      "updateing file: ../data/weather_cities/Yangon.csv\n",
      "missing date 3\n"
     ]
    },
    {
     "data": {
      "application/vnd.jupyter.widget-view+json": {
       "model_id": "5e1742f9187f44c8b4148c56558920e8",
       "version_major": 2,
       "version_minor": 0
      },
      "text/plain": [
       "HBox(children=(FloatProgress(value=1.0, bar_style='info', max=1.0), HTML(value='')))"
      ]
     },
     "metadata": {},
     "output_type": "display_data"
    },
    {
     "name": "stdout",
     "output_type": "stream",
     "text": [
      "\n",
      "update weather data for  Tada-U\n",
      "updateing file: ../data/weather_cities/Tada-U.csv\n",
      "missing date 3\n"
     ]
    },
    {
     "data": {
      "application/vnd.jupyter.widget-view+json": {
       "model_id": "63a30667db6d44ff95a0887b6e182bee",
       "version_major": 2,
       "version_minor": 0
      },
      "text/plain": [
       "HBox(children=(FloatProgress(value=1.0, bar_style='info', max=1.0), HTML(value='')))"
      ]
     },
     "metadata": {},
     "output_type": "display_data"
    },
    {
     "name": "stdout",
     "output_type": "stream",
     "text": [
      "\n",
      "update weather data for  Sikhottabong\n",
      "updateing file: ../data/weather_cities/Sikhottabong.csv\n",
      "missing date 3\n"
     ]
    },
    {
     "data": {
      "application/vnd.jupyter.widget-view+json": {
       "model_id": "446285a190314f62ae28d8c145b0ba79",
       "version_major": 2,
       "version_minor": 0
      },
      "text/plain": [
       "HBox(children=(FloatProgress(value=1.0, bar_style='info', max=1.0), HTML(value='')))"
      ]
     },
     "metadata": {},
     "output_type": "display_data"
    },
    {
     "name": "stdout",
     "output_type": "stream",
     "text": [
      "\n",
      "update weather data for  Luang Prabang District\n",
      "updateing file: ../data/weather_cities/Luang_Prabang_District.csv\n",
      "missing date 3\n"
     ]
    },
    {
     "data": {
      "application/vnd.jupyter.widget-view+json": {
       "model_id": "ca4c9b15da12472a95e8c36617217649",
       "version_major": 2,
       "version_minor": 0
      },
      "text/plain": [
       "HBox(children=(FloatProgress(value=1.0, bar_style='info', max=1.0), HTML(value='')))"
      ]
     },
     "metadata": {},
     "output_type": "display_data"
    },
    {
     "name": "stdout",
     "output_type": "stream",
     "text": [
      "\n",
      "update weather data for  Kunming\n",
      "updateing file: ../data/weather_cities/Kunming.csv\n",
      "missing date 3\n"
     ]
    },
    {
     "data": {
      "application/vnd.jupyter.widget-view+json": {
       "model_id": "b6b3e186119f4545b8acb5b01e0ceb2e",
       "version_major": 2,
       "version_minor": 0
      },
      "text/plain": [
       "HBox(children=(FloatProgress(value=1.0, bar_style='info', max=1.0), HTML(value='')))"
      ]
     },
     "metadata": {},
     "output_type": "display_data"
    },
    {
     "name": "stdout",
     "output_type": "stream",
     "text": [
      "\n",
      "update weather data for  East Jakarta\n",
      "updateing file: ../data/weather_cities/East_Jakarta.csv\n",
      "missing date 3\n"
     ]
    },
    {
     "data": {
      "application/vnd.jupyter.widget-view+json": {
       "model_id": "df406425569b44b481453831e3792ddd",
       "version_major": 2,
       "version_minor": 0
      },
      "text/plain": [
       "HBox(children=(FloatProgress(value=1.0, bar_style='info', max=1.0), HTML(value='')))"
      ]
     },
     "metadata": {},
     "output_type": "display_data"
    },
    {
     "name": "stdout",
     "output_type": "stream",
     "text": [
      "\n",
      "update weather data for  Mueang Nakhon Si Thammarat\n",
      "updateing file: ../data/weather_cities/Mueang_Nakhon_Si_Thammarat.csv\n",
      "missing date 3\n"
     ]
    },
    {
     "data": {
      "application/vnd.jupyter.widget-view+json": {
       "model_id": "710a4937cbab4b789e204b122b1833ed",
       "version_major": 2,
       "version_minor": 0
      },
      "text/plain": [
       "HBox(children=(FloatProgress(value=1.0, bar_style='info', max=1.0), HTML(value='')))"
      ]
     },
     "metadata": {},
     "output_type": "display_data"
    },
    {
     "name": "stdout",
     "output_type": "stream",
     "text": [
      "\n",
      "update weather data for  Hai Chau\n",
      "updateing file: ../data/weather_cities/Hai_Chau.csv\n",
      "missing date 3\n"
     ]
    },
    {
     "data": {
      "application/vnd.jupyter.widget-view+json": {
       "model_id": "be696503606e4117b9a43c42cc5da9cd",
       "version_major": 2,
       "version_minor": 0
      },
      "text/plain": [
       "HBox(children=(FloatProgress(value=1.0, bar_style='info', max=1.0), HTML(value='')))"
      ]
     },
     "metadata": {},
     "output_type": "display_data"
    },
    {
     "name": "stdout",
     "output_type": "stream",
     "text": [
      "\n",
      "update weather data for  Chaloem Phra Kiat\n",
      "updateing file: ../data/weather_cities/Chaloem_Phra_Kiat.csv\n",
      "missing date 3\n"
     ]
    },
    {
     "data": {
      "application/vnd.jupyter.widget-view+json": {
       "model_id": "b13a0f2a3e5c49a3a4be37cc0e603c74",
       "version_major": 2,
       "version_minor": 0
      },
      "text/plain": [
       "HBox(children=(FloatProgress(value=1.0, bar_style='info', max=1.0), HTML(value='')))"
      ]
     },
     "metadata": {},
     "output_type": "display_data"
    },
    {
     "name": "stdout",
     "output_type": "stream",
     "text": [
      "\n",
      "\n"
     ]
    }
   ],
   "source": [
    "main(cdc_data=True, build_json=True)"
   ]
  },
  {
   "cell_type": "code",
   "execution_count": 19,
   "metadata": {},
   "outputs": [
    {
     "name": "stdout",
     "output_type": "stream",
     "text": [
      "download Berkeley PM2.5 data for all files in http://berkeleyearth.lbl.gov/air-quality/maps/cities/Thailand/\n",
      "100% [............................................................................] 882554 / 882554download Berkeley PM2.5 data for all files in http://berkeleyearth.lbl.gov/air-quality/maps/cities/Viet_Nam/\n",
      "100% [............................................................................] 845829 / 845829download Berkeley PM2.5 data for all files in http://berkeleyearth.lbl.gov/air-quality/maps/cities/Indonesia/\n",
      "100% [................................................................................] 6073 / 6073download Berkeley PM2.5 data for all files in http://berkeleyearth.lbl.gov/air-quality/maps/cities/Myanmar/\n",
      "100% [............................................................................] 174233 / 174233download Berkeley PM2.5 data for all files in http://berkeleyearth.lbl.gov/air-quality/maps/cities/Singapore/\n",
      "download Berkeley PM2.5 data for all files in http://berkeleyearth.lbl.gov/air-quality/maps/cities/Laos/\n",
      "100% [............................................................................] 652057 / 652057download Berkeley PM2.5 data for all files in http://berkeleyearth.lbl.gov/air-quality/maps/cities/Cambodia/\n",
      "100% [............................................................................] 449895 / 449895download Berkeley PM2.5 data for all files in http://berkeleyearth.lbl.gov/air-quality/maps/cities/Malaysia/\n",
      "100% [............................................................................] 716037 / 716037\n",
      " Download us embassy data in ASEAN for 2020\n",
      "100% [..............................................................................] 11101 / 11101download more pollution data from Thailand PCD\n",
      "['02t', '03t', '05t', '08t', '10t', '11t', '12t', '13t', '14t', '16t', '17t', '18t', '19t', '20t', '21t', '22t', '24t', '25t', '26t', '27t', '28t', '29t', '30t', '31t', '32t', '33t', '34t', '35t', '36t', '37t', '38t', '39t', '40t', '41t', '42t', '43t', '44t', '46t', '47t', '50t', '52t', '53t', '54t', '57t', '58t', '59t', '60t', '61t', '62t', '63t', '67t', '68t', '69t', '70t', '71t', '72t', '73t', '74t', '75t', '76t', '77t', '79t', '80t', '81t', '82t', '83t', '84t', 'm1', 'm3', 'm4', 'm8', 'm9', 'o10', 'o20', 'o22', 'o23', 'o24', 'o25', 'o26', 'o27', 'o28', 'o29']\n"
     ]
    },
    {
     "data": {
      "application/vnd.jupyter.widget-view+json": {
       "model_id": "2da38928dfff46c8a7c1780b3aafb947",
       "version_major": 2,
       "version_minor": 0
      },
      "text/plain": [
       "HBox(children=(FloatProgress(value=1.0, bar_style='info', max=1.0), HTML(value='')))"
      ]
     },
     "metadata": {},
     "output_type": "display_data"
    },
    {
     "name": "stdout",
     "output_type": "stream",
     "text": [
      "\n",
      "-1 / unknownUpdate weather data for all cities\n"
     ]
    },
    {
     "data": {
      "application/vnd.jupyter.widget-view+json": {
       "model_id": "accfa736f73140bf839d41adc79fe7b1",
       "version_major": 2,
       "version_minor": 0
      },
      "text/plain": [
       "HBox(children=(FloatProgress(value=0.0, max=15.0), HTML(value='')))"
      ]
     },
     "metadata": {},
     "output_type": "display_data"
    },
    {
     "name": "stdout",
     "output_type": "stream",
     "text": [
      "update weather data for  Mueang Chiang Mai\n",
      "updateing file: ../data/weather_cities/Mueang_Chiang_Mai.csv\n",
      "missing date 0\n",
      "update weather data for  Soc Son\n",
      "updateing file: ../data/weather_cities/Soc_Son.csv\n",
      "missing date 1\n"
     ]
    },
    {
     "data": {
      "application/vnd.jupyter.widget-view+json": {
       "model_id": "d2fbe21e39fb43588c519a13c7b5c6e4",
       "version_major": 2,
       "version_minor": 0
      },
      "text/plain": [
       "HBox(children=(FloatProgress(value=1.0, bar_style='info', max=1.0), HTML(value='')))"
      ]
     },
     "metadata": {},
     "output_type": "display_data"
    },
    {
     "name": "stdout",
     "output_type": "stream",
     "text": [
      "\n",
      "update weather data for  Soc Son\n",
      "updateing file: ../data/weather_cities/Soc_Son.csv\n",
      "missing date 0\n",
      "update weather data for  Bangkok\n",
      "updateing file: ../data/weather_cities/Bangkok.csv\n",
      "missing date 1\n"
     ]
    },
    {
     "data": {
      "application/vnd.jupyter.widget-view+json": {
       "model_id": "8a6ad75c85ca4b63aa9a43a50c12c6b5",
       "version_major": 2,
       "version_minor": 0
      },
      "text/plain": [
       "HBox(children=(FloatProgress(value=1.0, bar_style='info', max=1.0), HTML(value='')))"
      ]
     },
     "metadata": {},
     "output_type": "display_data"
    },
    {
     "name": "stdout",
     "output_type": "stream",
     "text": [
      "\n",
      "update weather data for  Mueang Chiang Rai\n",
      "updateing file: ../data/weather_cities/Mueang_Chiang_Rai.csv\n",
      "missing date 0\n",
      "update weather data for  Mueang Tak\n",
      "updateing file: ../data/weather_cities/Mueang_Tak.csv\n",
      "missing date 1\n"
     ]
    },
    {
     "data": {
      "application/vnd.jupyter.widget-view+json": {
       "model_id": "2bdaf2d028fa42d1bd43b41cbf013158",
       "version_major": 2,
       "version_minor": 0
      },
      "text/plain": [
       "HBox(children=(FloatProgress(value=1.0, bar_style='info', max=1.0), HTML(value='')))"
      ]
     },
     "metadata": {},
     "output_type": "display_data"
    },
    {
     "name": "stdout",
     "output_type": "stream",
     "text": [
      "\n",
      "update weather data for  Yangon\n",
      "updateing file: ../data/weather_cities/Yangon.csv\n",
      "missing date 1\n"
     ]
    },
    {
     "data": {
      "application/vnd.jupyter.widget-view+json": {
       "model_id": "4ea3a46cc3194080897356d0ccc36b0c",
       "version_major": 2,
       "version_minor": 0
      },
      "text/plain": [
       "HBox(children=(FloatProgress(value=1.0, bar_style='info', max=1.0), HTML(value='')))"
      ]
     },
     "metadata": {},
     "output_type": "display_data"
    },
    {
     "name": "stdout",
     "output_type": "stream",
     "text": [
      "\n",
      "update weather data for  Tada-U\n",
      "updateing file: ../data/weather_cities/Tada-U.csv\n",
      "missing date 1\n"
     ]
    },
    {
     "data": {
      "application/vnd.jupyter.widget-view+json": {
       "model_id": "d0aac824e9ed49a7b14dc3c6cce1c3f0",
       "version_major": 2,
       "version_minor": 0
      },
      "text/plain": [
       "HBox(children=(FloatProgress(value=1.0, bar_style='info', max=1.0), HTML(value='')))"
      ]
     },
     "metadata": {},
     "output_type": "display_data"
    },
    {
     "name": "stdout",
     "output_type": "stream",
     "text": [
      "\n",
      "update weather data for  Sikhottabong\n",
      "updateing file: ../data/weather_cities/Sikhottabong.csv\n",
      "missing date 1\n"
     ]
    },
    {
     "data": {
      "application/vnd.jupyter.widget-view+json": {
       "model_id": "c7893fc5cae249619c34848bf45d4afc",
       "version_major": 2,
       "version_minor": 0
      },
      "text/plain": [
       "HBox(children=(FloatProgress(value=1.0, bar_style='info', max=1.0), HTML(value='')))"
      ]
     },
     "metadata": {},
     "output_type": "display_data"
    },
    {
     "name": "stdout",
     "output_type": "stream",
     "text": [
      "\n",
      "update weather data for  Luang Prabang District\n",
      "updateing file: ../data/weather_cities/Luang_Prabang_District.csv\n",
      "missing date 1\n"
     ]
    },
    {
     "data": {
      "application/vnd.jupyter.widget-view+json": {
       "model_id": "cec64ba49ae6430c9b0933b43ead98c1",
       "version_major": 2,
       "version_minor": 0
      },
      "text/plain": [
       "HBox(children=(FloatProgress(value=1.0, bar_style='info', max=1.0), HTML(value='')))"
      ]
     },
     "metadata": {},
     "output_type": "display_data"
    },
    {
     "name": "stdout",
     "output_type": "stream",
     "text": [
      "\n",
      "update weather data for  Kunming\n",
      "updateing file: ../data/weather_cities/Kunming.csv\n",
      "missing date 1\n"
     ]
    },
    {
     "data": {
      "application/vnd.jupyter.widget-view+json": {
       "model_id": "efb99c6a650c434fb068c7d2116f48ee",
       "version_major": 2,
       "version_minor": 0
      },
      "text/plain": [
       "HBox(children=(FloatProgress(value=1.0, bar_style='info', max=1.0), HTML(value='')))"
      ]
     },
     "metadata": {},
     "output_type": "display_data"
    },
    {
     "name": "stdout",
     "output_type": "stream",
     "text": [
      "\n",
      "update weather data for  East Jakarta\n",
      "updateing file: ../data/weather_cities/East_Jakarta.csv\n",
      "missing date 1\n"
     ]
    },
    {
     "data": {
      "application/vnd.jupyter.widget-view+json": {
       "model_id": "af14a8b2f59440359f1d8bb388c2e5a9",
       "version_major": 2,
       "version_minor": 0
      },
      "text/plain": [
       "HBox(children=(FloatProgress(value=1.0, bar_style='info', max=1.0), HTML(value='')))"
      ]
     },
     "metadata": {},
     "output_type": "display_data"
    },
    {
     "name": "stdout",
     "output_type": "stream",
     "text": [
      "\n",
      "update weather data for  Mueang Nakhon Si Thammarat\n",
      "updateing file: ../data/weather_cities/Mueang_Nakhon_Si_Thammarat.csv\n",
      "missing date 1\n"
     ]
    },
    {
     "data": {
      "application/vnd.jupyter.widget-view+json": {
       "model_id": "c7cf20795dcd43b7b4e0e4e8e368f74e",
       "version_major": 2,
       "version_minor": 0
      },
      "text/plain": [
       "HBox(children=(FloatProgress(value=1.0, bar_style='info', max=1.0), HTML(value='')))"
      ]
     },
     "metadata": {},
     "output_type": "display_data"
    },
    {
     "name": "stdout",
     "output_type": "stream",
     "text": [
      "\n",
      "update weather data for  Hai Chau\n",
      "updateing file: ../data/weather_cities/Hai_Chau.csv\n",
      "missing date 1\n"
     ]
    },
    {
     "data": {
      "application/vnd.jupyter.widget-view+json": {
       "model_id": "6429482166184fce85a6d13ef7386846",
       "version_major": 2,
       "version_minor": 0
      },
      "text/plain": [
       "HBox(children=(FloatProgress(value=1.0, bar_style='info', max=1.0), HTML(value='')))"
      ]
     },
     "metadata": {},
     "output_type": "display_data"
    },
    {
     "name": "stdout",
     "output_type": "stream",
     "text": [
      "\n",
      "update weather data for  Chaloem Phra Kiat\n",
      "updateing file: ../data/weather_cities/Chaloem_Phra_Kiat.csv\n",
      "missing date 1\n"
     ]
    },
    {
     "data": {
      "application/vnd.jupyter.widget-view+json": {
       "model_id": "8dbb7e98db634a72b6e1d3a5b2f98b3d",
       "version_major": 2,
       "version_minor": 0
      },
      "text/plain": [
       "HBox(children=(FloatProgress(value=1.0, bar_style='info', max=1.0), HTML(value='')))"
      ]
     },
     "metadata": {},
     "output_type": "display_data"
    },
    {
     "name": "stdout",
     "output_type": "stream",
     "text": [
      "\n",
      "\n"
     ]
    }
   ],
   "source": [
    "main(cdc_data=False, build_json=False)"
   ]
  },
  {
   "cell_type": "code",
   "execution_count": 4,
   "metadata": {
    "scrolled": true
   },
   "outputs": [
    {
     "name": "stderr",
     "output_type": "stream",
     "text": [
      "\r",
      "  0%|                                                                                                             | 0/404 [00:00<?, ?it/s]"
     ]
    },
    {
     "name": "stdout",
     "output_type": "stream",
     "text": [
      "number of stations 430\n"
     ]
    },
    {
     "name": "stderr",
     "output_type": "stream",
     "text": [
      "100%|███████████████████████████████████████████████████████████████████████████████████████████████████| 404/404 [39:15<00:00,  5.83s/it]\n"
     ]
    }
   ],
   "source": [
    "download_cdc_data(station_url='https://www.cmuccdc.org/api/ccdc/stations', \n",
    "                  dl_url= 'https://www.cmuccdc.org/download_json/', \n",
    "                  data_folder='../data/cdc_data/')"
   ]
  },
  {
   "cell_type": "code",
   "execution_count": null,
   "metadata": {},
   "outputs": [
    {
     "name": "stderr",
     "output_type": "stream",
     "text": [
      "\r",
      "0it [00:00, ?it/s]"
     ]
    },
    {
     "name": "stdout",
     "output_type": "stream",
     "text": [
      "['02t', '03t', '05t', '08t', '10t', '11t', '12t', '13t', '14t', '16t', '17t', '18t', '19t', '20t', '21t', '22t', '24t', '25t', '26t', '27t', '28t', '29t', '30t', '31t', '32t', '33t', '34t', '35t', '36t', '37t', '38t', '39t', '40t', '41t', '42t', '43t', '44t', '46t', '47t', '50t', '52t', '53t', '54t', '57t', '58t', '59t', '60t', '61t', '62t', '63t', '67t', '68t', '69t', '70t', '71t', '72t', '73t', '74t', '75t', '76t', '77t', '79t', '80t', '81t', '82t', '83t', '84t', 'm1', 'm3', 'm4', 'm8', 'm9', 'o10', 'o20', 'o22', 'o23', 'o24', 'o25', 'o26', 'o27', 'o28', 'o29']\n"
     ]
    },
    {
     "name": "stderr",
     "output_type": "stream",
     "text": [
      "44it [13:48, 18.85s/it]"
     ]
    }
   ],
   "source": [
    "update_last_air4Thai(url='http://air4thai.pcd.go.th/webV2/history/',data_folder='../data/air4thai_hourly/')"
   ]
  },
  {
   "cell_type": "code",
   "execution_count": 45,
   "metadata": {},
   "outputs": [
    {
     "data": {
      "application/vnd.jupyter.widget-view+json": {
       "model_id": "2ccc27346c2348839998b4077a3a1583",
       "version_major": 2,
       "version_minor": 0
      },
      "text/plain": [
       "HBox(children=(FloatProgress(value=0.0, max=1.0), HTML(value='')))"
      ]
     },
     "metadata": {},
     "output_type": "display_data"
    },
    {
     "name": "stdout",
     "output_type": "stream",
     "text": [
      "update weather data for  Bangkok\n",
      "updateing file: ../data/weather_cities/Bangkok.csv\n",
      "missing date 2\n"
     ]
    },
    {
     "name": "stderr",
     "output_type": "stream",
     "text": [
      "1it [00:08,  8.95s/it]"
     ]
    },
    {
     "name": "stdout",
     "output_type": "stream",
     "text": [
      "daily table shape (48, 11)\n",
      "(48, 11)\n"
     ]
    },
    {
     "name": "stderr",
     "output_type": "stream",
     "text": [
      "2it [00:19,  9.85s/it]"
     ]
    },
    {
     "name": "stdout",
     "output_type": "stream",
     "text": [
      "daily table shape (48, 11)\n",
      "(48, 11)\n"
     ]
    },
    {
     "name": "stderr",
     "output_type": "stream",
     "text": [
      "\n"
     ]
    },
    {
     "name": "stdout",
     "output_type": "stream",
     "text": [
      "new_weather shape (96, 11)\n",
      "\n"
     ]
    }
   ],
   "source": [
    "# update weather data \n",
    "city_names = ['Bangkok',\n",
    "        'Mueang Chiang Mai',\n",
    "        'Soc Son',\n",
    "        'Mueang Chiang Rai',\n",
    "        'Mueang Tak',\n",
    "        'Yangon',\n",
    "        'Tada-U',\n",
    "        'Sikhottabong',\n",
    "        'Luang Prabang District',\n",
    "        'Kunming', 'East Jakarta', \n",
    "        'Mueang Nakhon Si Thammarat', \n",
    "        'Hai Chau', 'Chaloem Phra Kiat' ]\n",
    "    \n",
    "city_names = ['Bangkok']\n",
    "weather_station_info = find_weather_stations(city_names, weather_json_file=w_folder + 'weather_station_info.json')\n",
    "len(weather_station_info)\n",
    "\n",
    "for city_json in tqdm_notebook(weather_station_info):\n",
    "    print('update weather data for ', city_json['city_name'])\n",
    "    start_date = datetime(2020, 8, 22)\n",
    "    end_date = datetime(2020, 12, 6)\n",
    "    update_weather(\n",
    "            city_json,\n",
    "            data_folder=w_folder,\n",
    "            start_date=start_date,\n",
    "            end_date=end_date)"
   ]
  },
  {
   "cell_type": "code",
   "execution_count": 4,
   "metadata": {},
   "outputs": [
    {
     "name": "stdout",
     "output_type": "stream",
     "text": [
      "download more pollution data from Thailand PCD\n"
     ]
    },
    {
     "name": "stderr",
     "output_type": "stream",
     "text": [
      "\r",
      "0it [00:00, ?it/s]"
     ]
    },
    {
     "name": "stdout",
     "output_type": "stream",
     "text": [
      "['02t', '03t', '05t', '08t', '10t', '11t', '12t', '13t', '14t', '16t', '17t', '18t', '19t', '20t', '21t', '22t', '24t', '25t', '26t', '27t', '28t', '29t', '30t', '31t', '32t', '33t', '34t', '35t', '36t', '37t', '38t', '39t', '40t', '41t', '42t', '43t', '44t', '46t', '47t', '50t', '52t', '53t', '54t', '57t', '58t', '59t', '60t', '61t', '62t', '63t', '67t', '68t', '69t', '70t', '71t', '72t', '73t', '74t', '75t', '76t', '77t', '79t', '80t', '81t', '82t', '83t', '84t', 'm1', 'm3', 'm4', 'm8', 'm9', 'o10', 'o20', 'o22', 'o23', 'o24', 'o25', 'o26', 'o27', 'o28', 'o29']\n"
     ]
    },
    {
     "name": "stderr",
     "output_type": "stream",
     "text": [
      "82it [28:11, 20.63s/it]\n"
     ]
    },
    {
     "name": "stdout",
     "output_type": "stream",
     "text": [
      "-1 / unknown"
     ]
    }
   ],
   "source": [
    "update_last_air4Thai()"
   ]
  },
  {
   "cell_type": "markdown",
   "metadata": {},
   "source": [
    "# Historical air 4 Thai Data"
   ]
  },
  {
   "cell_type": "code",
   "execution_count": 7,
   "metadata": {},
   "outputs": [
    {
     "name": "stdout",
     "output_type": "stream",
     "text": [
      "['35t', '36t', 'm9', 'o10', 'o20', 'o22']\n"
     ]
    }
   ],
   "source": [
    "# load stations information for air4 Thai\n",
    "station_info_file = aqm_folder + 'stations_locations.json'\n",
    "with open(station_info_file, 'r',encoding=\"utf8\") as f:\n",
    "    station_info = json.load(f)\n",
    "station_info = station_info['stations']\n",
    "\n",
    "# find stations in Chiangmai and parase that files\n",
    "cm_station_ids = []\n",
    "cm_station_info = []\n",
    "for i, stations in enumerate(station_info):\n",
    "    if 'Chiang Mai' in stations['areaEN']:\n",
    "        cm_station_ids.append(stations['stationID'])\n",
    "        cm_station_info.append(stations)\n",
    "print(cm_station_ids)"
   ]
  },
  {
   "cell_type": "code",
   "execution_count": 22,
   "metadata": {
    "code_folding": []
   },
   "outputs": [
    {
     "name": "stdout",
     "output_type": "stream",
     "text": [
      "save filename ../data/aqm_hourly2/process/35t.csv\n",
      "save filename ../data/aqm_hourly2/process/36t.csv\n"
     ]
    }
   ],
   "source": [
    "# parase historical data \n",
    "for station_id in cm_station_ids:\n",
    "    # find all files that start with this stations\n",
    "    p = Path(aqm_folder)\n",
    "    filenames = []\n",
    "    for i in p.glob('**/*.xlsx'):\n",
    "        if station_id in i.name:\n",
    "            filenames.append(str(i))\n",
    "        \n",
    "    # if filename exist load that file\n",
    "    if len(filenames) >0:\n",
    "\n",
    "        save_filename = aqm_folder + 'process/' + station_id + '.csv'\n",
    "        print('save filename', save_filename)\n",
    "        station_data = read_his_xl(filenames[0])\n",
    "        #print(station_data.head())\n",
    "\n",
    "        # save the data if the dataframe is not empty\n",
    "        if len(station_data)> 0:\n",
    "            station_data.to_csv(save_filename,index=True)"
   ]
  },
  {
   "cell_type": "code",
   "execution_count": 10,
   "metadata": {},
   "outputs": [
    {
     "name": "stdout",
     "output_type": "stream",
     "text": [
      "../data/cm_proc/35t.csv\n",
      "../data/cm_proc/36t.csv\n",
      "../data/cm_proc/m9.csv\n",
      "../data/cm_proc/o10.csv\n",
      "../data/cm_proc/o20.csv\n",
      "../data/cm_proc/o22.csv\n"
     ]
    }
   ],
   "source": [
    "# combine new and old air4Thai data \n",
    "gas_cols = ['CO', 'O3', 'NO2', 'SO2', 'PM10', 'PM2.5']\n",
    "for station_id in cm_station_ids:\n",
    "    try: \n",
    "        old_data = pd.read_csv(aqm_folder + 'process/'+station_id + '.csv')\n",
    "    except:\n",
    "        old_data = pd.DataFrame()\n",
    "    else:\n",
    "        old_data['datetime'] = pd.to_datetime(old_data['datetime'])\n",
    "        old_data = old_data.set_index('datetime')\n",
    "        # keep only the gass columns\n",
    "        old_data = old_data[gas_cols]\n",
    "    \n",
    "    new_data = pd.read_csv(a4th_folder + station_id + '.csv',na_values='-').set_index('datetime')\n",
    "    new_data.columns = [s.split(' (')[0] for s in new_data.columns]\n",
    "    # keep only the gass columns\n",
    "    new_data = new_data[gas_cols]\n",
    "    # concatinate data and save\n",
    "    data = pd.concat([old_data,new_data])\n",
    "    filename = cm_folder+station_id + '.csv'\n",
    "    print(filename)\n",
    "    data.to_csv(filename)"
   ]
  },
  {
   "cell_type": "code",
   "execution_count": 45,
   "metadata": {},
   "outputs": [],
   "source": [
    "cm_data1 = pd.read_csv(aqm_folder + 'process/35t.csv')\n",
    "cm_data1['datetime'] = pd.to_datetime(cm_data1['datetime'])\n",
    "cm_data1 = cm_data1.set_index('datetime')\n",
    "# keep only gas columns\n",
    "cm_data1 = cm_data1[['CO', 'O3', 'NO2', 'SO2', 'PM10', 'PM2.5']]\n",
    "\n",
    "cm_data2 = pd.read_csv(aqm_folder + 'process/36t.csv')\n",
    "cm_data2['datetime'] = pd.to_datetime(cm_data2['datetime'])\n",
    "cm_data2 = cm_data2.set_index('datetime')\n"
   ]
  },
  {
   "cell_type": "code",
   "execution_count": 8,
   "metadata": {
    "scrolled": true
   },
   "outputs": [
    {
     "name": "stdout",
     "output_type": "stream",
     "text": [
      "     date  hour   CO  NO NO2 SO2  NOX      Pressure           Rain  \\\n",
      "0  960101   100  2.6  51  32   5   83                                \n",
      "1  960101   200  2.8  71  30   6  101                                \n",
      "2  960101   300  2.8  75  29   6  104                                \n",
      "3  960101   400  2.5  52  25   5   78                                \n",
      "4  960101   500  1.4  17  21   5   39                                \n",
      "\n",
      "        Rel hum          Temp      Wind dir     Wind speed            CO8  \n",
      "0                                                                          \n",
      "1                                                                    2.45  \n",
      "2                                                                 2.25714  \n",
      "3                                                                  2.1125  \n",
      "4                                                                   1.975  \n",
      "    date  hour        CO  NO            O3 NO2 SO2 NOX PM10 PM2.5 Pressure  \\\n",
      "0  30101   100      1.73  16                38   4  53  NaN   NaN     29.9   \n",
      "1  30101   200      1.79  16                36   3  52  NaN   NaN     29.9   \n",
      "2  30101   300      1.38  12                32   2  44  NaN   NaN     29.9   \n",
      "3  30101   400  0.639999   5                24   2  29  NaN   NaN     29.9   \n",
      "4  30101   500      0.57   4                26   3  30  NaN   NaN     29.9   \n",
      "\n",
      "  Rain  Rel hum  Temp Wind dir Wind speed       CO8  \n",
      "0    0     68.6  27.9      289       1.36      1.07  \n",
      "1    0  68.7999  27.9      341        1.5   1.04625  \n",
      "2    0       69  27.8       13       1.32      1.02  \n",
      "3    0     66.1  27.9       94       1.56  0.982499  \n",
      "4    0     70.5  27.4      115       1.59  0.993749  \n",
      "     date  hour CO SO2 NO NO2 NOX Wind speed Wind dir  Temp  ... Unnamed: 27  \\\n",
      "0  100101   100  -   0  1  13  14       1.37      213  28.4  ...         NaN   \n",
      "1  100101   200  -   0  0  14  15       1.42      218  28.1  ...         NaN   \n",
      "2  100101   300  -   0  2  19  20       1.27      213  27.9  ...         NaN   \n",
      "3  100101   400  -   0  1  18  19       1.12      225  27.8  ...         NaN   \n",
      "4  100101   500  -   1  2  20  22       0.98      247  27.7  ...         NaN   \n",
      "\n",
      "  Unnamed: 28 Unnamed: 29 Unnamed: 30 Unnamed: 31  Unnamed: 32  Unnamed: 33  \\\n",
      "0         NaN         NaN         NaN         NaN          NaN          NaN   \n",
      "1         NaN         NaN         NaN         NaN          NaN          NaN   \n",
      "2         NaN         NaN         NaN         NaN          NaN          NaN   \n",
      "3         NaN         NaN         NaN         NaN          NaN          NaN   \n",
      "4         NaN         NaN         NaN         NaN          NaN          NaN   \n",
      "\n",
      "   Unnamed: 34  Unnamed: 35  Unnamed: 36  \n",
      "0          NaN          NaN          NaN  \n",
      "1          NaN          NaN          NaN  \n",
      "2          NaN          NaN          NaN  \n",
      "3          NaN          NaN          NaN  \n",
      "4          NaN          NaN          NaN  \n",
      "\n",
      "[5 rows x 37 columns]\n",
      "     date  hour CO SO2 NO NO2 PM10 O3 PM2.5\n",
      "0  130101   100  -   -  -   -    -  -   NaN\n",
      "1  130101   200  -   -  -   -    -  -   NaN\n",
      "2  130101   300  -   -  -   -    -  -   NaN\n",
      "3  130101   400  -   -  -   -    -  -   NaN\n",
      "4  130101   500  -   -  -   -    -  -   NaN\n",
      "     date  hour CO NO2 Temp O3 PM10 PM2.5\n",
      "0  170301   100  -   -    -  -    -   NaN\n",
      "1  170301   200  -   -    -  -    -   NaN\n",
      "2  170301   300  -   -    -  -    -   NaN\n",
      "3  170301   400  -   -    -  -    -   NaN\n",
      "4  170301   500  -   -    -  -    -   NaN\n",
      "     date  hour CO O3 NO2 SO2\n",
      "0  960101   100  1  6  36   3\n",
      "1  960101   200  1  4  41   2\n",
      "2  960101   300  1  4  39   2\n",
      "3  960101   400  1  4  39   3\n",
      "4  960101   500  1  4  40   5\n",
      "    date  hour   CO  O3 NO2 SO2 PM10\n",
      "0  30101   100  1.1   5  33   5  NaN\n",
      "1  30101   200  1.1   4  36   6  NaN\n",
      "2  30101   300  0.5   6  28   4  NaN\n",
      "3  30101   400  0.3   8  21   3  NaN\n",
      "4  30101   500    0  12  14   3  NaN\n",
      "     date  hour   CO SO2 NO2  O3 PM10 PM2.5  Unnamed: 8  Unnamed: 9  ...  \\\n",
      "0  100101   100  0.5   3  12  11   34   NaN         NaN         NaN  ...   \n",
      "1  100101   200  0.4   3   9  13   27   NaN         NaN         NaN  ...   \n",
      "2  100101   300  0.4   3  11  12   25   NaN         NaN         NaN  ...   \n",
      "3  100101   400  0.5   3  12  11   24   NaN         NaN         NaN  ...   \n",
      "4  100101   500  0.6   4  13  10   31   NaN         NaN         NaN  ...   \n",
      "\n",
      "   Unnamed: 14  Unnamed: 15  Unnamed: 16  Unnamed: 17  Unnamed: 18  \\\n",
      "0          NaN          NaN          NaN          NaN          NaN   \n",
      "1          NaN          NaN          NaN          NaN          NaN   \n",
      "2          NaN          NaN          NaN          NaN          NaN   \n",
      "3          NaN          NaN          NaN          NaN          NaN   \n",
      "4          NaN          NaN          NaN          NaN          NaN   \n",
      "\n",
      "   Unnamed: 19  Unnamed: 20  Unnamed: 21  Unnamed: 22  Unnamed: 23  \n",
      "0          NaN          NaN          NaN          NaN          NaN  \n",
      "1          NaN          NaN          NaN          NaN          NaN  \n",
      "2          NaN          NaN          NaN          NaN          NaN  \n",
      "3          NaN          NaN          NaN          NaN          NaN  \n",
      "4          NaN          NaN          NaN          NaN          NaN  \n",
      "\n",
      "[5 rows x 24 columns]\n",
      "     date  hour   CO SO2 NO2  O3 PM10 PM2.5\n",
      "0  170101   100  0.4   1   2  24   45    44\n",
      "1  170101   200  0.3   1   0  26   58    48\n",
      "2  170101   300  0.3   1   0  26   37    36\n",
      "3  170101   400  0.3   1   0  29   37    35\n",
      "4  170101   500  0.3   0   0  27   39    37\n",
      "     date  hour             CO            O3           NO2            SO2  \\\n",
      "0  960101   100                                                             \n",
      "1  960101   200                                                             \n",
      "2  960101   300                                                             \n",
      "3  960101   400                                                             \n",
      "4  960101   500                                                             \n",
      "\n",
      "           PM10  \n",
      "0                \n",
      "1                \n",
      "2                \n",
      "3                \n",
      "4                \n",
      "    date  hour        CO  O3 NO2 SO2 PM10\n",
      "0  30101   100       0.7   5  31   2   54\n",
      "1  30101   200       0.7   9  26   2   47\n",
      "2  30101   300       0.5  12  15   2   52\n",
      "3  30101   400  0.599999   6  19   3   40\n",
      "4  30101   500       0.5   3  21   1   64\n",
      "     date  hour             CO            O3           NO2            SO2  \\\n",
      "0  960101   100                                                             \n",
      "1  960101   200                                                             \n",
      "2  960101   300                                                             \n",
      "3  960101   400                                                             \n",
      "4  960101   500                                                             \n",
      "\n",
      "           PM10  \n",
      "0                \n",
      "1                \n",
      "2                \n",
      "3                \n",
      "4                \n",
      "    date  hour        CO O3 NO2 SO2 PM10\n",
      "0  30101   100  0.799998  2  35   5   51\n",
      "1  30101   200  0.799998  2  33   5   45\n",
      "2  30101   300  0.499998  4  26   1   42\n",
      "3  30101   400  0.599998  3  25   0   37\n",
      "4  30101   500  0.599998  1  27   2   53\n",
      "     date  hour   CO NO2 SO2 O3 PM10  Unnamed: 7  Unnamed: 8  Unnamed: 9  ...  \\\n",
      "0  100101   100    1  28   4  6   65         NaN         NaN         NaN  ...   \n",
      "1  100101   200  0.7  27   3  5   39         NaN         NaN         NaN  ...   \n",
      "2  100101   300  0.2  28   2  6   10         NaN         NaN         NaN  ...   \n",
      "3  100101   400  0.2  29   2  5   16         NaN         NaN         NaN  ...   \n",
      "4  100101   500  0.4  27   3  5   24         NaN         NaN         NaN  ...   \n",
      "\n",
      "   Unnamed: 14  Unnamed: 15  Unnamed: 16  Unnamed: 17  Unnamed: 18  \\\n",
      "0          NaN          NaN          NaN          NaN          NaN   \n",
      "1          NaN          NaN          NaN          NaN          NaN   \n",
      "2          NaN          NaN          NaN          NaN          NaN   \n",
      "3          NaN          NaN          NaN          NaN          NaN   \n",
      "4          NaN          NaN          NaN          NaN          NaN   \n",
      "\n",
      "   Unnamed: 19  Unnamed: 20  Unnamed: 21  Unnamed: 22  Unnamed: 23  \n",
      "0          NaN          NaN          NaN          NaN          NaN  \n",
      "1          NaN          NaN          NaN          NaN          NaN  \n",
      "2          NaN          NaN          NaN          NaN          NaN  \n",
      "3          NaN          NaN          NaN          NaN          NaN  \n",
      "4          NaN          NaN          NaN          NaN          NaN  \n",
      "\n",
      "[5 rows x 24 columns]\n"
     ]
    },
    {
     "name": "stdout",
     "output_type": "stream",
     "text": [
      "     date  hour   CO NO2 SO2  O3 PM10 PM2.5\n",
      "0  170101   100    1  18   3  40   26   NaN\n",
      "1  170101   200  0.9  21   4  34   21   NaN\n",
      "2  170101   300  0.9  19   3  35   18   NaN\n",
      "3  170101   400  0.9  17   3  35   16   NaN\n",
      "4  170101   500  0.9  17   3  34   16   NaN\n",
      "     date  hour             CO            O3           NO2            SO2  \\\n",
      "0  960101   100                                                             \n",
      "1  960101   200                                                             \n",
      "2  960101   300                                                             \n",
      "3  960101   400                                                             \n",
      "4  960101   500                                                             \n",
      "\n",
      "           PM10  \n",
      "0                \n",
      "1                \n",
      "2                \n",
      "3                \n",
      "4                \n",
      "    date  hour   CO O3 NO2 SO2 PM10\n",
      "0  30101   100  1.5  5  47   6   89\n",
      "1  30101   200  1.5  5  44   2   49\n",
      "2  30101   300  1.3  5  36   1   44\n",
      "3  30101   400  1.3  4  33   2   42\n",
      "4  30101   500  1.4  4  32   4   57\n",
      "     date  hour   CO NO2 SO2  O3 PM10  Unnamed: 7  Unnamed: 8  Unnamed: 9  \\\n",
      "0  100101   100    1  15   3  16   37         NaN         NaN         NaN   \n",
      "1  100101   200  1.1  19   3  11   31         NaN         NaN         NaN   \n",
      "2  100101   300  1.1  23   3   7   35         NaN         NaN         NaN   \n",
      "3  100101   400  0.7  16   3  13   37         NaN         NaN         NaN   \n",
      "4  100101   500  0.9  15   3  13   30         NaN         NaN         NaN   \n",
      "\n",
      "   ...  Unnamed: 15  Unnamed: 16  Unnamed: 17  Unnamed: 18  Unnamed: 19  \\\n",
      "0  ...          NaN          NaN          NaN          NaN          NaN   \n",
      "1  ...          NaN          NaN          NaN          NaN          NaN   \n",
      "2  ...          NaN          NaN          NaN          NaN          NaN   \n",
      "3  ...          NaN          NaN          NaN          NaN          NaN   \n",
      "4  ...          NaN          NaN          NaN          NaN          NaN   \n",
      "\n",
      "   Unnamed: 20  Unnamed: 21  Unnamed: 22  Unnamed: 23  Unnamed: 24  \n",
      "0          NaN          NaN          NaN          NaN          NaN  \n",
      "1          NaN          NaN          NaN          NaN          NaN  \n",
      "2          NaN          NaN          NaN          NaN          NaN  \n",
      "3          NaN          NaN          NaN          NaN          NaN  \n",
      "4          NaN          NaN          NaN          NaN          NaN  \n",
      "\n",
      "[5 rows x 25 columns]\n",
      "     date  hour CO NO2 SO2 O3 PM10 PM2.5\n",
      "0  170101   100  -   -   -  -    -   NaN\n",
      "1  170101   200  -   -   -  -    -   NaN\n",
      "2  170101   300  -   -   -  -    -   NaN\n",
      "3  170101   400  -   -   -  -    -   NaN\n",
      "4  170101   500  -   -   -  -    -   NaN\n",
      "    date  hour    CO(ppm) PM10(มคก./ลบ.ม.)\n",
      "0  10101   100   0.599999               57\n",
      "1  10101   200        1.1               84\n",
      "2  10101   300          1               73\n",
      "3  10101   400  0.0999999               66\n",
      "4  10101   500        0.2               69\n",
      "    date  hour    CO(ppm) PM10(มคก./ลบ.ม.)\n",
      "0  80101   100        0.2               62\n",
      "1  80101   200  0.0999999               64\n",
      "2  80101   300          0               55\n",
      "3  80101   400          0               59\n",
      "4  80101   500          0               54\n",
      "     date  hour CO(ppm) PM10  Unnamed: 4  Unnamed: 5  Unnamed: 6  Unnamed: 7\n",
      "0  150101   100     2.2    -         NaN         NaN         NaN         NaN\n",
      "1  150101   200     1.5    -         NaN         NaN         NaN         NaN\n",
      "2  150101   300     1.2    -         NaN         NaN         NaN         NaN\n",
      "3  150101   400     1.1    -         NaN         NaN         NaN         NaN\n",
      "4  150101   500     1.1    -         NaN         NaN         NaN         NaN\n",
      "     date  hour  CO  NO2 PM10 PM2.5\n",
      "0  170601   100 NaN  NaN  NaN   NaN\n",
      "1  170601   200 NaN  NaN  NaN   NaN\n",
      "2  170601   300 NaN  NaN  NaN   NaN\n",
      "3  170601   400 NaN  NaN  NaN   NaN\n",
      "4  170601   500 NaN  NaN  NaN   NaN\n",
      "     date  hour             CO            NO            O3           NO2  \\\n",
      "0  960101   100                                                            \n",
      "1  960101   200                                                            \n",
      "2  960101   300                                                            \n",
      "3  960101   400                                                            \n",
      "4  960101   500                                                            \n",
      "\n",
      "             SO2          PM10  \n",
      "0                               \n",
      "1                               \n",
      "2                               \n",
      "3                               \n",
      "4                               \n",
      "    date  hour             CO            O3           NO2            SO2 PM10\n",
      "0  30101   100            1.7             3            50              7   79\n",
      "1  30101   200            1.6             2            42              5   86\n",
      "2  30101   300                                                             82\n",
      "3  30101   400            1.1             4            32              4   54\n",
      "4  30101   500            1.9             3            37              7   70\n",
      "     date  hour   CO NO2 SO2  O3 PM10 PM2.5  Unnamed: 8  Unnamed: 9  ...  \\\n",
      "0  100101   100  0.9  20   0  10   19   NaN         NaN         NaN  ...   \n",
      "1  100101   200  0.9  23   0   8   23   NaN         NaN         NaN  ...   \n",
      "2  100101   300  0.9  23   0   8   15   NaN         NaN         NaN  ...   \n",
      "3  100101   400    1  25   0   5   20   NaN         NaN         NaN  ...   \n",
      "4  100101   500  0.8  15   0  12   16   NaN         NaN         NaN  ...   \n",
      "\n",
      "   Unnamed: 19  Unnamed: 20  Unnamed: 21  Unnamed: 22  Unnamed: 23  \\\n",
      "0          NaN          NaN          NaN          NaN          NaN   \n",
      "1          NaN          NaN          NaN          NaN          NaN   \n",
      "2          NaN          NaN          NaN          NaN          NaN   \n",
      "3          NaN          NaN          NaN          NaN          NaN   \n",
      "4          NaN          NaN          NaN          NaN          NaN   \n",
      "\n",
      "   Unnamed: 24  Unnamed: 25  Unnamed: 26  Unnamed: 27  Unnamed: 28  \n",
      "0          NaN          NaN          NaN          NaN          NaN  \n",
      "1          NaN          NaN          NaN          NaN          NaN  \n",
      "2          NaN          NaN          NaN          NaN          NaN  \n",
      "3          NaN          NaN          NaN          NaN          NaN  \n",
      "4          NaN          NaN          NaN          NaN          NaN  \n",
      "\n",
      "[5 rows x 29 columns]\n",
      "     date  hour   CO NO2 SO2  O3 PM10 PM2.5\n",
      "0  170101   100  0.8  20   2  26   68    58\n",
      "1  170101   200  0.7  19   2  26   47    40\n",
      "2  170101   300  0.7  18   2  24   41    38\n",
      "3  170101   400  0.7  19   1  23   49    41\n",
      "4  170101   500  0.8  20   1  20   47    33\n",
      "     date  hour             CO            O3           NO2            SO2  \\\n",
      "0  960101   100                                                             \n",
      "1  960101   200                                                             \n",
      "2  960101   300                                                             \n",
      "3  960101   400                                                             \n",
      "4  960101   500                                                             \n",
      "\n",
      "           PM10  \n",
      "0                \n",
      "1                \n",
      "2                \n",
      "3                \n",
      "4                \n",
      "    date  hour        CO O3 NO2 SO2 PM10\n",
      "0  30101   100       1.3  4  36   5   33\n",
      "1  30101   200       1.3  4  34   5   30\n",
      "2  30101   300       0.7  6  24   2   23\n",
      "3  30101   400  0.599999  5  20   2   18\n",
      "4  30101   500         1  3  23   2   23\n",
      "     date  hour   CO NO2 SO2 O3 PM10  Unnamed: 7  Unnamed: 8  Unnamed: 9  ...  \\\n",
      "0  100101   100  1.3  32   4  3   35         NaN         NaN         NaN  ...   \n",
      "1  100101   200  1.5  33   7  3   30         NaN         NaN         NaN  ...   \n",
      "2  100101   300  1.3  32   7  3   22         NaN         NaN         NaN  ...   \n",
      "3  100101   400  1.3  30   7  4   15         NaN         NaN         NaN  ...   \n",
      "4  100101   500  1.3  30   5  4   18         NaN         NaN         NaN  ...   \n",
      "\n",
      "   Unnamed: 12  Unnamed: 13  Unnamed: 14  Unnamed: 15  Unnamed: 16  \\\n",
      "0          NaN          NaN          NaN          NaN          NaN   \n",
      "1          NaN          NaN          NaN          NaN          NaN   \n",
      "2          NaN          NaN          NaN          NaN          NaN   \n",
      "3          NaN          NaN          NaN          NaN          NaN   \n",
      "4          NaN          NaN          NaN          NaN          NaN   \n",
      "\n",
      "   Unnamed: 17  Unnamed: 18  Unnamed: 19  Unnamed: 20  Unnamed: 21  \n",
      "0          NaN          NaN          NaN          NaN          NaN  \n",
      "1          NaN          NaN          NaN          NaN          NaN  \n",
      "2          NaN          NaN          NaN          NaN          NaN  \n",
      "3          NaN          NaN          NaN          NaN          NaN  \n",
      "4          NaN          NaN          NaN          NaN          NaN  \n",
      "\n",
      "[5 rows x 22 columns]\n"
     ]
    },
    {
     "name": "stdout",
     "output_type": "stream",
     "text": [
      "     date  hour  CO  NO2 PM10 PM2.5\n",
      "0  170601   100 NaN  NaN  NaN   NaN\n",
      "1  170601   200 NaN  NaN  NaN   NaN\n",
      "2  170601   300 NaN  NaN  NaN   NaN\n",
      "3  170601   400 NaN  NaN  NaN   NaN\n",
      "4  170601   500 NaN  NaN  NaN   NaN\n",
      "     date  hour             CO            O3           NO2            SO2  \\\n",
      "0  960101   100                                                             \n",
      "1  960101   200                                                             \n",
      "2  960101   300                                                             \n",
      "3  960101   400                                                             \n",
      "4  960101   500                                                             \n",
      "\n",
      "           PM10  \n",
      "0                \n",
      "1                \n",
      "2                \n",
      "3                \n",
      "4                \n",
      "    date  hour   CO O3 NO2 SO2 PM10\n",
      "0  30101   100  3.9  3  47  12   51\n",
      "1  30101   200  4.7  3  46  12   50\n",
      "2  30101   300  2.1  3  34   4   58\n",
      "3  30101   400  2.7  3  33   8   69\n",
      "4  30101   500  3.5  4  37  10   70\n",
      "    date  hour             CO   O3           NO2            SO2           PM10\n",
      "0  40101   100                 NaN                                            \n",
      "1  40101   200                 NaN                                            \n",
      "2  40101   300                 NaN                                            \n",
      "3  40101   400                 NaN                                            \n",
      "4  40101   500                 NaN                                            \n",
      "     date  hour    CO NO2 SO2  O3 PM10 PM2.5  Unnamed: 8  Unnamed: 9  ...  \\\n",
      "0  100101   100  0.36  20   1  12   34   NaN         NaN         NaN  ...   \n",
      "1  100101   200  0.25  20   0  11   60   NaN         NaN         NaN  ...   \n",
      "2  100101   300  0.22  21   0   9   48   NaN         NaN         NaN  ...   \n",
      "3  100101   400  0.28  20   1   9   14   NaN         NaN         NaN  ...   \n",
      "4  100101   500  0.24  17   0  12   26   NaN         NaN         NaN  ...   \n",
      "\n",
      "   Unnamed: 17  Unnamed: 18  Unnamed: 19  Unnamed: 20  Unnamed: 21  \\\n",
      "0          NaN          NaN          NaN          NaN          NaN   \n",
      "1          NaN          NaN          NaN          NaN          NaN   \n",
      "2          NaN          NaN          NaN          NaN          NaN   \n",
      "3          NaN          NaN          NaN          NaN          NaN   \n",
      "4          NaN          NaN          NaN          NaN          NaN   \n",
      "\n",
      "   Unnamed: 22  Unnamed: 23  Unnamed: 24  Unnamed: 25  Unnamed: 26  \n",
      "0          NaN          NaN          NaN          NaN          NaN  \n",
      "1          NaN          NaN          NaN          NaN          NaN  \n",
      "2          NaN          NaN          NaN          NaN          NaN  \n",
      "3          NaN          NaN          NaN          NaN          NaN  \n",
      "4          NaN          NaN          NaN          NaN          NaN  \n",
      "\n",
      "[5 rows x 27 columns]\n",
      "     date  hour   CO NO2  O3 PM10 PM2.5\n",
      "0  170101   100    -   -   -   58    33\n",
      "1  170101   200  0.9  18  23   46    32\n",
      "2  170101   300  0.9  18  22   41    28\n",
      "3  170101   400  0.9  18  21   38    25\n",
      "4  170101   500  0.9  17  20   37    24\n",
      "    date  hour             CO            O3           NO2            SO2  \\\n",
      "0  50101   100                                                             \n",
      "1  50101   200                                                             \n",
      "2  50101   300                                                             \n",
      "3  50101   400                                                             \n",
      "4  50101   500                                                             \n",
      "\n",
      "            PM10  \n",
      "0                 \n",
      "1                 \n",
      "2                 \n",
      "3                 \n",
      "4                 \n",
      "     date  hour   CO NO2 SO2 O3 PM10 PM2.5 Unnamed: 8  Unnamed: 9  ...  \\\n",
      "0  100101   100  0.9  15   4  3   37   NaN        NaN         NaN  ...   \n",
      "1  100101   200  0.9  14   4  3   37   NaN        NaN         NaN  ...   \n",
      "2  100101   300  0.9  14   4  3   46   NaN        NaN         NaN  ...   \n",
      "3  100101   400  0.9  14   5  4   50   NaN        NaN         NaN  ...   \n",
      "4  100101   500  0.8  14   4  3   52   NaN        NaN         NaN  ...   \n",
      "\n",
      "   Unnamed: 17  Unnamed: 18  Unnamed: 19  Unnamed: 20  Unnamed: 21  \\\n",
      "0          NaN          NaN          NaN          NaN          NaN   \n",
      "1          NaN          NaN          NaN          NaN          NaN   \n",
      "2          NaN          NaN          NaN          NaN          NaN   \n",
      "3          NaN          NaN          NaN          NaN          NaN   \n",
      "4          NaN          NaN          NaN          NaN          NaN   \n",
      "\n",
      "   Unnamed: 22  Unnamed: 23  Unnamed: 24  Unnamed: 25  Unnamed: 26  \n",
      "0          NaN          NaN          NaN          NaN          NaN  \n",
      "1          NaN          NaN          NaN          NaN          NaN  \n",
      "2          NaN          NaN          NaN          NaN          NaN  \n",
      "3          NaN          NaN          NaN          NaN          NaN  \n",
      "4          NaN          NaN          NaN          NaN          NaN  \n",
      "\n",
      "[5 rows x 27 columns]\n",
      "     date  hour NO2 SO2  O3 PM10 PM2.5\n",
      "0  170101   100   7   2  31   66    52\n",
      "1  170101   200  11   2  26   44    36\n",
      "2  170101   300   9   2  27   38    37\n",
      "3  170101   400   2   1  32   38    36\n",
      "4  170101   500   1   1  33   37    34\n",
      "['02t', '03t', '05t', '11t', '12t', '50t', '52t', '53t', '59t', '61t']\n",
      "['10t', '54t']\n"
     ]
    }
   ],
   "source": [
    "# process bangkok data\n",
    "station_ids = ['02t',\n",
    " '03t',\n",
    " '05t',\n",
    " '10t',\n",
    " '11t',\n",
    " '12t',\n",
    " '50t',\n",
    " '52t',\n",
    " '53t',\n",
    " '54t',\n",
    " '59t',\n",
    " '61t']\n",
    "\n",
    "good_stations = []\n",
    "bad_stations = []\n",
    "for ids in station_ids:\n",
    "    path = Path(aqm_folder)\n",
    "    files = [*path.rglob(f'({ids})*.xlsx')]\n",
    "    try:\n",
    "        df = read_his_xl(files[0])\n",
    "    except:\n",
    "        bad_stations.append(ids)\n",
    "    else:\n",
    "        good_stations.append(ids)\n",
    "        df.to_csv('C:/Users/Benny/Documents/Fern/aqi_thailand2/data/aqm_hourly2/process/'+ids+'.csv')\n",
    "        \n",
    "print(good_stations)\n",
    "print(bad_stations)"
   ]
  },
  {
   "cell_type": "markdown",
   "metadata": {
    "heading_collapsed": true
   },
   "source": [
    "# Power Plants"
   ]
  },
  {
   "cell_type": "code",
   "execution_count": 92,
   "metadata": {
    "hidden": true
   },
   "outputs": [],
   "source": [
    "url = 'https://th.wikipedia.org/wiki/%E0%B8%A3%E0%B8%B2%E0%B8%A2%E0%B8%8A%E0%B8%B7%E0%B9%88%E0%B8%AD%E0%B9%82%E0%B8%A3%E0%B8%87%E0%B9%84%E0%B8%9F%E0%B8%9F%E0%B9%89%E0%B8%B2%E0%B9%83%E0%B8%99%E0%B9%84%E0%B8%97%E0%B8%A2'\n",
    "url = 'https://en.wikipedia.org/wiki/List_of_power_stations_in_Thailand'\n",
    "table_list = pd.read_html(url)\n",
    "len(table_list)\n",
    "p_folder = '../data/power_plants/'\n",
    "for i, table in enumerate(table_list):\n",
    "    table.to_csv(p_folder + f'table_eng{i}.csv',index=False)"
   ]
  },
  {
   "cell_type": "markdown",
   "metadata": {},
   "source": [
    "# Weather Files"
   ]
  },
  {
   "cell_type": "code",
   "execution_count": 55,
   "metadata": {},
   "outputs": [
    {
     "data": {
      "text/plain": [
       "9"
      ]
     },
     "execution_count": 55,
     "metadata": {},
     "output_type": "execute_result"
    }
   ],
   "source": [
    "folders = glob('C:/Users/Benny/Documents/Fern/aqi_thailand2/data/weather_cities/*/')\n",
    "len(folders)"
   ]
  },
  {
   "cell_type": "code",
   "execution_count": 92,
   "metadata": {},
   "outputs": [
    {
     "name": "stdout",
     "output_type": "stream",
     "text": [
      "bkk 13\n",
      "chiang-mai 36\n",
      "chiang-rai 25\n",
      "kungming 24\n",
      "luang-prabang 24\n",
      "sikhottabong 39\n",
      "tada_u 24\n",
      "tak 26\n",
      "yangong 29\n"
     ]
    }
   ],
   "source": [
    "for folder in folders:\n",
    "    city_name = Path(folder).name\n",
    "    parent_folder = Path(folder).parent\n",
    "    w_files = glob(folder + '/*.csv')\n",
    "    print(city_name, len(w_files))\n",
    "    filename = str(Path(folders[0]).parent) + '/' + city_name + '.csv'\n",
    "    \n",
    "    # concatenate all files \n",
    "    df_all = pd.DataFrame()\n",
    "    for file in w_files:\n",
    "        try:\n",
    "            df = pd.read_csv(file)\n",
    "            \n",
    "        except:\n",
    "            pass\n",
    "        else:\n",
    "            df_all = pd.concat([df_all, df], ignore_index=True)\n",
    "    \n",
    "    # drop missing value \n",
    "    df_all['datetime'] = pd.to_datetime(df_all['date'])\n",
    "    df_all.drop('date',axis=1, inplace=True)\n",
    "    df_all = df_all.sort_values('datetime')\n",
    "    df_all = df_all.drop_duplicates('datetime', ignore_index=True)\n",
    "    \n",
    "    # save file\n",
    "    df_all.to_csv(filename,index=False)"
   ]
  },
  {
   "cell_type": "code",
   "execution_count": 89,
   "metadata": {},
   "outputs": [],
   "source": [
    "# find missing date for chiang-mai data \n",
    "df_all = pd.read_csv('C:/Users/Benny/Documents/Fern/aqi_thailand2/data/weather_cities/chiang-mai.csv')\n",
    "df_all['datetime'] = pd.to_datetime(df_all['datetime'] )\n",
    "# find exisiting date \n",
    "ex_date = df_all['datetime'].dt.strftime('%Y-%m-%d').unique()\n",
    "ex_date = set(ex_date)\n",
    "# calculate the datelist \n",
    "start_date = datetime(2000, 10, 1)\n",
    "stop_date = datetime.now()\n",
    "date_range = pd.date_range(start_date, stop_date).strftime('%Y-%m-%d')\n",
    "missing_date = list(set(date_range).difference(ex_date))"
   ]
  },
  {
   "cell_type": "code",
   "execution_count": 87,
   "metadata": {},
   "outputs": [
    {
     "name": "stdout",
     "output_type": "stream",
     "text": [
      "{'city_name': 'Mueang Chiang Mai', 'province': 'Chiang Mai', 'country': 'Thailand', 'station_name': 'Chiang Mai International Airport Station', 'specific_url': 'th/mueang-chiang-mai/', 'latitude': '18.8 °N', 'longitude': '98.97 °E'}\n"
     ]
    }
   ],
   "source": [
    "with open('../data/weather_cities/weather_station_info.json','r') as f:\n",
    "    station_dict_list = json.load(f)\n",
    "   \n",
    "i = 0 \n",
    "city_json = station_dict_list[i]\n",
    "print(city_json)"
   ]
  },
  {
   "cell_type": "code",
   "execution_count": 90,
   "metadata": {},
   "outputs": [
    {
     "name": "stdout",
     "output_type": "stream",
     "text": [
      "C:/Users/Benny/Documents/Fern/aqi_thailand2/data/weather_cities/chiang-mai/mueang-chiang-mai_weather.csv 2000-10-23\n"
     ]
    },
    {
     "name": "stderr",
     "output_type": "stream",
     "text": [
      "..\\src\\data\\dl_weather.py:20: UserWarning: No parser was explicitly specified, so I'm using the best available HTML parser for this system (\"lxml\"). This usually isn't a problem, but if you run this code on another system, or in a different virtual environment, it may use a different parser and behave differently.\n",
      "\n",
      "The code that caused this warning is on line 20 of the file ..\\src\\data\\dl_weather.py. To get rid of this warning, pass the additional argument 'features=\"lxml\"' to the BeautifulSoup constructor.\n",
      "\n",
      "  soup = BeautifulSoup(innerhtml)\n"
     ]
    }
   ],
   "source": [
    " bad_date_df = scrape_weather(city_json, date_range=missing_date, data_folder='C:/Users/Benny/Documents/Fern/aqi_thailand2/data/weather_cities/chiang-mai/')"
   ]
  },
  {
   "cell_type": "code",
   "execution_count": 97,
   "metadata": {},
   "outputs": [
    {
     "name": "stdout",
     "output_type": "stream",
     "text": [
      "(333126, 11)\n"
     ]
    }
   ],
   "source": [
    "# weather data \n",
    "filename = 'C:/Users/Benny/Documents/Fern/aqi_thailand2/data/weather_cities/chiang-mai.csv'\n",
    "wea = pd.read_csv(filename)\n",
    "wea['datetime']  = pd.to_datetime(wea['datetime'])\n",
    "# roud datetiem to whole 30 mins \n",
    "wea['datetime'] = wea['datetime'].dt.round('30T')\n",
    "\n",
    "dates = wea['datetime'].dropna().dt.date.unique()\n",
    "\n",
    "# fill in the missing value\n",
    "new_datetime = pd.date_range(start=dates[0], end=dates[-1], freq='30T') \n",
    "new_weather = pd.DataFrame(new_datetime, columns=['datetime'])\n",
    "new_weather = new_weather.merge(wea, on='datetime',how='left')\n",
    "print(new_weather.shape)\n",
    "\n",
    "# remove strange T reading\n",
    "lowest_t = 5 \n",
    "idx = new_weather[new_weather['Temperature(C)']< lowest_t].index\n",
    "new_weather.loc[idx,['Temperature(C)','Dew Point(C)','Humidity(%)']] = np.nan\n",
    "\n",
    "highest_t = 60\n",
    "idx = new_weather[new_weather['Temperature(C)']> highest_t].index\n",
    "new_weather.loc[idx,['Temperature(C)','Dew Point(C)','Humidity(%)']] = np.nan\n",
    "\n",
    "new_weather = new_weather.fillna(method='ffill',limit=12)\n",
    "new_weather = new_weather.fillna(method='bfill',limit=12)\n",
    "new_weather = new_weather.set_index('datetime')\n",
    "new_weather = new_weather.dropna(how='all').reset_index()\n",
    "new_weather.to_csv(filename,index=False)"
   ]
  },
  {
   "cell_type": "markdown",
   "metadata": {},
   "source": [
    "## Assemble from raw data "
   ]
  },
  {
   "cell_type": "code",
   "execution_count": 7,
   "metadata": {},
   "outputs": [],
   "source": [
    "# weather folder\n",
    "w_folder = '../data/weather_cities/'"
   ]
  },
  {
   "cell_type": "code",
   "execution_count": 8,
   "metadata": {},
   "outputs": [
    {
     "data": {
      "text/plain": [
       "9"
      ]
     },
     "execution_count": 8,
     "metadata": {},
     "output_type": "execute_result"
    }
   ],
   "source": [
    "# extract station information\n",
    "city_names = ['Mueang Chiang Mai', 'Mueang Chiang Rai', 'Mueang Tak','Bangkok','Yangon', 'Tada-U', 'Sikhottabong', 'Luang Prabang District','Kunming']\n",
    "weather_station_info = find_weather_stations(city_names, weather_json_file=w_folder+'weather_station_info.json')\n",
    "len(weather_station_info)"
   ]
  },
  {
   "cell_type": "code",
   "execution_count": 11,
   "metadata": {
    "scrolled": false
   },
   "outputs": [
    {
     "name": "stdout",
     "output_type": "stream",
     "text": [
      "../data/weather_cities/Mueang_Chiang_Mai.csv\n",
      "36\n",
      "Index(['Time', 'Temperature(C)', 'Dew Point(C)', 'Humidity(%)', 'Wind',\n",
      "       'Wind Speed(mph)', 'Wind Gust(mph)', 'Pressure(in)', 'Precip.(in)',\n",
      "       'Condition', 'datetime'],\n",
      "      dtype='object')\n",
      "../data/weather_cities/Mueang_Chiang_Rai.csv\n",
      "25\n",
      "Index(['Time', 'Temperature(C)', 'Dew Point(C)', 'Humidity(%)', 'Wind',\n",
      "       'Wind Speed(mph)', 'Wind Gust(mph)', 'Pressure(in)', 'Precip.(in)',\n",
      "       'Condition', 'datetime'],\n",
      "      dtype='object')\n",
      "../data/weather_cities/Mueang_Tak.csv\n",
      "26\n",
      "Index(['Time', 'Temperature(C)', 'Dew Point(C)', 'Humidity(%)', 'Wind',\n",
      "       'Wind Speed(mph)', 'Wind Gust(mph)', 'Pressure(in)', 'Precip.(in)',\n",
      "       'Condition', 'datetime'],\n",
      "      dtype='object')\n",
      "../data/weather_cities/Bangkok.csv\n",
      "13\n",
      "Index(['Time', 'Temperature(C)', 'Dew Point(C)', 'Humidity(%)', 'Wind',\n",
      "       'Wind Speed(mph)', 'Wind Gust(mph)', 'Pressure(in)', 'Precip.(in)',\n",
      "       'Condition', 'datetime', 'Temperature(F)', 'Dew Point(F)',\n",
      "       'Precip Accum(in)'],\n",
      "      dtype='object')\n",
      "../data/weather_cities/Yangon.csv\n",
      "28\n",
      "Index(['Time', 'Temperature(C)', 'Dew Point(C)', 'Humidity(%)', 'Wind',\n",
      "       'Wind Speed(mph)', 'Wind Gust(mph)', 'Pressure(in)', 'Precip.(in)',\n",
      "       'Condition', 'datetime'],\n",
      "      dtype='object')\n",
      "../data/weather_cities/Tada-U.csv\n",
      "23\n",
      "Index(['Time', 'Temperature(C)', 'Dew Point(C)', 'Humidity(%)', 'Wind',\n",
      "       'Wind Speed(mph)', 'Wind Gust(mph)', 'Pressure(in)', 'Precip.(in)',\n",
      "       'Condition', 'datetime'],\n",
      "      dtype='object')\n",
      "../data/weather_cities/Sikhottabong.csv\n",
      "39\n",
      "Index(['Time', 'Temperature(C)', 'Dew Point(C)', 'Humidity(%)', 'Wind',\n",
      "       'Wind Speed(mph)', 'Wind Gust(mph)', 'Pressure(in)', 'Precip.(in)',\n",
      "       'Condition', 'datetime'],\n",
      "      dtype='object')\n",
      "../data/weather_cities/Luang_Prabang_District.csv\n",
      "24\n",
      "Index(['Time', 'Temperature(C)', 'Dew Point(C)', 'Humidity(%)', 'Wind',\n",
      "       'Wind Speed(mph)', 'Wind Gust(mph)', 'Pressure(in)', 'Precip.(in)',\n",
      "       'Condition', 'datetime'],\n",
      "      dtype='object')\n",
      "../data/weather_cities/Kunming.csv\n",
      "24\n",
      "Index(['Time', 'Temperature(C)', 'Dew Point(C)', 'Humidity(%)', 'Wind',\n",
      "       'Wind Speed(mph)', 'Wind Gust(mph)', 'Pressure(in)', 'Precip.(in)',\n",
      "       'Condition', 'datetime'],\n",
      "      dtype='object')\n"
     ]
    }
   ],
   "source": [
    "# concatenate raw data files\n",
    "for city_json in weather_station_info: \n",
    "    # read existing file \n",
    "    city_name = ('_').join(city_json['city_name'].split(' '))\n",
    "    current_filename = w_folder + city_name + '.csv'\n",
    "    print(current_filename)\n",
    "    \n",
    "    # locate file in the city folder\n",
    "    files = glob(w_folder + city_name + '/*.csv')\n",
    "    print(len(files))\n",
    "    \n",
    "    weather_all = pd.DataFrame()\n",
    "    for file in files:\n",
    "        try:\n",
    "            df = pd.read_csv(file)\n",
    "        except:\n",
    "            pass\n",
    "        else:\n",
    "            if 'date'== df.columns[-1]:\n",
    "                df.columns = df.columns.str.replace('date','datetime')\n",
    "            weather_all = pd.concat([weather_all, df],ignore_index=True)\n",
    "        \n",
    "    print(weather_all.columns)\n",
    "    weather_all.to_csv(current_filename, index=False)\n",
    "    "
   ]
  },
  {
   "cell_type": "code",
   "execution_count": 12,
   "metadata": {},
   "outputs": [
    {
     "name": "stdout",
     "output_type": "stream",
     "text": [
      "../data/weather_cities\\Bangkok.csv\n",
      "../data/weather_cities\\Kunming.csv\n",
      "../data/weather_cities\\Luang_Prabang_District.csv\n",
      "../data/weather_cities\\Mueang_Chiang_Mai.csv\n",
      "../data/weather_cities\\Mueang_Chiang_Rai.csv\n",
      "../data/weather_cities\\Mueang_Tak.csv\n",
      "../data/weather_cities\\Sikhottabong.csv\n",
      "../data/weather_cities\\Tada-U.csv\n",
      "../data/weather_cities\\Yangon.csv\n"
     ]
    }
   ],
   "source": [
    "# fix the unit of windspeed \n",
    "files = glob(w_folder + '/*.csv')\n",
    "for file in files:\n",
    "    print(file)\n",
    "    df = pd.read_csv(file)\n",
    "    df[['Wind Speed(mph)', 'Wind Gust(mph)']] = df[['Wind Speed(mph)', 'Wind Gust(mph)']]*1.60934\n",
    "    df[['Wind Speed(mph)', 'Wind Gust(mph)']] = df[['Wind Speed(mph)', 'Wind Gust(mph)']].round(0)\n",
    "    df.columns = df.columns.str.replace('mph', 'kmph')\n",
    "    df.to_csv(file,index=False)"
   ]
  },
  {
   "cell_type": "code",
   "execution_count": 188,
   "metadata": {},
   "outputs": [],
   "source": [
    "# drop duplicate datetime \n",
    "files = glob(w_folder + '/*.csv')\n",
    "for file in files:\n",
    "    df = pd.read_csv(file)\n",
    "    df['datetime'] = pd.to_datetime(df['datetime'])\n",
    "    df = df.sort_values('datetime')\n",
    "    df = df.drop_duplicates('datetime')\n",
    "    df.to_csv(file,index=False)"
   ]
  },
  {
   "cell_type": "code",
   "execution_count": 17,
   "metadata": {},
   "outputs": [],
   "source": [
    "# Fill the missing value in raw Weather Data \n",
    "for file in files:\n",
    "    df = pd.read_csv(file)\n",
    "    df = fill_missing_weather(df,limit=12)\n",
    "    df.to_csv(file, index=False)"
   ]
  },
  {
   "cell_type": "markdown",
   "metadata": {},
   "source": [
    "## Update weather all cities"
   ]
  },
  {
   "cell_type": "code",
   "execution_count": 240,
   "metadata": {},
   "outputs": [
    {
     "name": "stdout",
     "output_type": "stream",
     "text": [
      "../data/weather_cities/Mueang_Chiang_Mai.csv\n"
     ]
    },
    {
     "data": {
      "text/plain": [
       "15"
      ]
     },
     "execution_count": 240,
     "metadata": {},
     "output_type": "execute_result"
    }
   ],
   "source": [
    "i = 0\n",
    "start_date = datetime(2020, 1, 1)\n",
    "end_date = datetime.now()\n",
    "city_json = weather_station_info[i]\n",
    "# read existing file \n",
    "city_name = ('_').join(city_json['city_name'].split(' '))\n",
    "current_filename = w_folder + city_name + '.csv'\n",
    "print(current_filename)\n",
    "\n",
    "# obtain a list of existed dates\n",
    "wea = pd.read_csv(current_file)\n",
    "wea['datetime'] = pd.to_datetime(wea['datetime'])\n",
    "# find exisiting date \n",
    "ex_date = wea['datetime'].dt.strftime('%Y-%m-%d').unique()\n",
    "ex_date = set(ex_date)\n",
    "\n",
    "# calculate the missing dates \n",
    "date_range = pd.date_range(start_date, end_date).strftime('%Y-%m-%d')\n",
    "missing_date = list(set(date_range).difference(ex_date))\n",
    "missing_date.sort()\n",
    "len(missing_date)"
   ]
  },
  {
   "cell_type": "code",
   "execution_count": 12,
   "metadata": {},
   "outputs": [
    {
     "data": {
      "text/plain": [
       "9"
      ]
     },
     "execution_count": 12,
     "metadata": {},
     "output_type": "execute_result"
    }
   ],
   "source": [
    "# extract station information\n",
    "city_names = ['Mueang Chiang Mai', 'Mueang Chiang Rai', 'Mueang Tak','Bangkok','Yangon', 'Tada-U', 'Sikhottabong', 'Luang Prabang District','Kunming']\n",
    "weather_station_info = find_weather_stations(city_names, weather_json_file=w_folder+'weather_station_info.json')\n",
    "len(weather_station_info)"
   ]
  },
  {
   "cell_type": "code",
   "execution_count": 13,
   "metadata": {},
   "outputs": [
    {
     "name": "stderr",
     "output_type": "stream",
     "text": [
      "\r",
      "  0%|                                                                                                                                 | 0/2 [00:00<?, ?it/s]"
     ]
    },
    {
     "name": "stdout",
     "output_type": "stream",
     "text": [
      "updateing file: ../data/weather_cities/Mueang_Chiang_Mai.csv\n",
      "missing date 4\n"
     ]
    },
    {
     "data": {
      "application/vnd.jupyter.widget-view+json": {
       "model_id": "7439a2154d0e44718355273849c9e10c",
       "version_major": 2,
       "version_minor": 0
      },
      "text/plain": [
       "HBox(children=(FloatProgress(value=1.0, bar_style='info', max=1.0), HTML(value='')))"
      ]
     },
     "metadata": {},
     "output_type": "display_data"
    },
    {
     "name": "stdout",
     "output_type": "stream",
     "text": [
      "\n"
     ]
    },
    {
     "name": "stderr",
     "output_type": "stream",
     "text": [
      "\r",
      " 50%|████████████████████████████████████████████████████████████                                                            | 1/2 [03:09<03:09, 189.81s/it]"
     ]
    },
    {
     "name": "stdout",
     "output_type": "stream",
     "text": [
      "updateing file: ../data/weather_cities/Mueang_Chiang_Rai.csv\n",
      "missing date 4\n"
     ]
    },
    {
     "data": {
      "application/vnd.jupyter.widget-view+json": {
       "model_id": "3e596273e8554f17a8ce772d508626c4",
       "version_major": 2,
       "version_minor": 0
      },
      "text/plain": [
       "HBox(children=(FloatProgress(value=1.0, bar_style='info', max=1.0), HTML(value='')))"
      ]
     },
     "metadata": {},
     "output_type": "display_data"
    },
    {
     "name": "stdout",
     "output_type": "stream",
     "text": [
      "\n"
     ]
    },
    {
     "name": "stderr",
     "output_type": "stream",
     "text": [
      "100%|████████████████████████████████████████████████████████████████████████████████████████████████████████████████████████| 2/2 [06:14<00:00, 187.46s/it]\n"
     ]
    }
   ],
   "source": [
    "for city_json in tqdm(weather_station_info[:2]):\n",
    "    \n",
    "    start_date = datetime(2020,1,1)\n",
    "    end_date = datetime.now()\n",
    "    update_weather(city_json, data_folder=w_folder, start_date=start_date, end_date=end_date)"
   ]
  },
  {
   "cell_type": "code",
   "execution_count": 3,
   "metadata": {},
   "outputs": [
    {
     "name": "stdout",
     "output_type": "stream",
     "text": [
      "{'city_name': 'Hai Chau', 'province': 'Da Nang', 'country': 'Vietnam', 'station_name': 'Da Nang International Airport Station', 'specific_url': 'vn/hai-chau/', 'latitude': '16.04 °N', 'longitude': '108.2 °E'}\n"
     ]
    }
   ],
   "source": [
    "# extract station information\n",
    "city_names = ['Hai Chau']\n",
    "weather_station_info = find_weather_stations(city_names, weather_json_file=w_folder+'weather_station_info.json')\n",
    "len(weather_station_info)\n",
    "city_json = weather_station_info[0]\n",
    "print(city_json)"
   ]
  },
  {
   "cell_type": "code",
   "execution_count": 4,
   "metadata": {
    "scrolled": true
   },
   "outputs": [
    {
     "name": "stdout",
     "output_type": "stream",
     "text": [
      "2020-03-01 00:00:00\n",
      "updateing file: ../data/weather_cities/Hai_Chau.csv\n",
      "missing date 31\n"
     ]
    },
    {
     "data": {
      "application/vnd.jupyter.widget-view+json": {
       "model_id": "",
       "version_major": 2,
       "version_minor": 0
      },
      "text/plain": [
       "HBox(children=(FloatProgress(value=1.0, bar_style='info', max=1.0), HTML(value='')))"
      ]
     },
     "metadata": {},
     "output_type": "display_data"
    },
    {
     "name": "stdout",
     "output_type": "stream",
     "text": [
      "\n",
      "2020-02-01 00:00:00\n",
      "updateing file: ../data/weather_cities/Hai_Chau.csv\n",
      "missing date 29\n"
     ]
    },
    {
     "data": {
      "application/vnd.jupyter.widget-view+json": {
       "model_id": "",
       "version_major": 2,
       "version_minor": 0
      },
      "text/plain": [
       "HBox(children=(FloatProgress(value=1.0, bar_style='info', max=1.0), HTML(value='')))"
      ]
     },
     "metadata": {},
     "output_type": "display_data"
    },
    {
     "name": "stdout",
     "output_type": "stream",
     "text": [
      "\n",
      "2020-01-01 00:00:00\n",
      "updateing file: ../data/weather_cities/Hai_Chau.csv\n",
      "missing date 31\n"
     ]
    },
    {
     "data": {
      "application/vnd.jupyter.widget-view+json": {
       "model_id": "",
       "version_major": 2,
       "version_minor": 0
      },
      "text/plain": [
       "HBox(children=(FloatProgress(value=1.0, bar_style='info', max=1.0), HTML(value='')))"
      ]
     },
     "metadata": {},
     "output_type": "display_data"
    },
    {
     "name": "stdout",
     "output_type": "stream",
     "text": [
      "\n"
     ]
    }
   ],
   "source": [
    "year_list = [2020]\n",
    "month_list = np.arange(3, 0, -1)\n",
    "\n",
    "for year, month in product(year_list, month_list):\n",
    "    start_date = datetime(year, month, 1)\n",
    "    print(start_date)\n",
    "    end_date = datetime.now() - timedelta(days=1)\n",
    "    update_weather(city_json,data_folder=w_folder, start_date=start_date,end_date=end_date)\n"
   ]
  },
  {
   "cell_type": "code",
   "execution_count": 5,
   "metadata": {
    "scrolled": true
   },
   "outputs": [
    {
     "name": "stdout",
     "output_type": "stream",
     "text": [
      "2019-12-01 00:00:00\n",
      "updateing file: ../data/weather_cities/Hai_Chau.csv\n",
      "missing date 31\n"
     ]
    },
    {
     "data": {
      "application/vnd.jupyter.widget-view+json": {
       "model_id": "50d1973642974868af36301d444a90f2",
       "version_major": 2,
       "version_minor": 0
      },
      "text/plain": [
       "HBox(children=(FloatProgress(value=1.0, bar_style='info', max=1.0), HTML(value='')))"
      ]
     },
     "metadata": {},
     "output_type": "display_data"
    },
    {
     "name": "stdout",
     "output_type": "stream",
     "text": [
      "\n",
      "2019-11-01 00:00:00\n",
      "updateing file: ../data/weather_cities/Hai_Chau.csv\n",
      "missing date 30\n"
     ]
    },
    {
     "data": {
      "application/vnd.jupyter.widget-view+json": {
       "model_id": "e3a3c2f1bc1b40f7a5bd5e8cd9b7a24d",
       "version_major": 2,
       "version_minor": 0
      },
      "text/plain": [
       "HBox(children=(FloatProgress(value=1.0, bar_style='info', max=1.0), HTML(value='')))"
      ]
     },
     "metadata": {},
     "output_type": "display_data"
    },
    {
     "name": "stdout",
     "output_type": "stream",
     "text": [
      "\n",
      "2019-10-01 00:00:00\n",
      "updateing file: ../data/weather_cities/Hai_Chau.csv\n",
      "missing date 31\n"
     ]
    },
    {
     "data": {
      "application/vnd.jupyter.widget-view+json": {
       "model_id": "7ea0e867670a4f82a3dd3e3f810f9b95",
       "version_major": 2,
       "version_minor": 0
      },
      "text/plain": [
       "HBox(children=(FloatProgress(value=1.0, bar_style='info', max=1.0), HTML(value='')))"
      ]
     },
     "metadata": {},
     "output_type": "display_data"
    },
    {
     "name": "stdout",
     "output_type": "stream",
     "text": [
      "\n",
      "2019-09-01 00:00:00\n",
      "updateing file: ../data/weather_cities/Hai_Chau.csv\n",
      "missing date 30\n"
     ]
    },
    {
     "data": {
      "application/vnd.jupyter.widget-view+json": {
       "model_id": "dc337fc657f14e1bba5df1eb5f988d9a",
       "version_major": 2,
       "version_minor": 0
      },
      "text/plain": [
       "HBox(children=(FloatProgress(value=1.0, bar_style='info', max=1.0), HTML(value='')))"
      ]
     },
     "metadata": {},
     "output_type": "display_data"
    },
    {
     "name": "stdout",
     "output_type": "stream",
     "text": [
      "\n",
      "2019-08-01 00:00:00\n",
      "updateing file: ../data/weather_cities/Hai_Chau.csv\n",
      "missing date 31\n"
     ]
    },
    {
     "data": {
      "application/vnd.jupyter.widget-view+json": {
       "model_id": "91f014a445e4482e9f1d084ad30a4bc3",
       "version_major": 2,
       "version_minor": 0
      },
      "text/plain": [
       "HBox(children=(FloatProgress(value=1.0, bar_style='info', max=1.0), HTML(value='')))"
      ]
     },
     "metadata": {},
     "output_type": "display_data"
    },
    {
     "name": "stdout",
     "output_type": "stream",
     "text": [
      "\n",
      "2019-07-01 00:00:00\n",
      "updateing file: ../data/weather_cities/Hai_Chau.csv\n",
      "missing date 31\n"
     ]
    },
    {
     "data": {
      "application/vnd.jupyter.widget-view+json": {
       "model_id": "d30c1f3b4b7a4df590afb3e780d334d1",
       "version_major": 2,
       "version_minor": 0
      },
      "text/plain": [
       "HBox(children=(FloatProgress(value=1.0, bar_style='info', max=1.0), HTML(value='')))"
      ]
     },
     "metadata": {},
     "output_type": "display_data"
    },
    {
     "name": "stdout",
     "output_type": "stream",
     "text": [
      "\n",
      "2019-06-01 00:00:00\n",
      "updateing file: ../data/weather_cities/Hai_Chau.csv\n",
      "missing date 30\n"
     ]
    },
    {
     "data": {
      "application/vnd.jupyter.widget-view+json": {
       "model_id": "4da20545c503439da9e7608dde8b41ec",
       "version_major": 2,
       "version_minor": 0
      },
      "text/plain": [
       "HBox(children=(FloatProgress(value=1.0, bar_style='info', max=1.0), HTML(value='')))"
      ]
     },
     "metadata": {},
     "output_type": "display_data"
    },
    {
     "name": "stdout",
     "output_type": "stream",
     "text": [
      "\n",
      "2019-05-01 00:00:00\n",
      "updateing file: ../data/weather_cities/Hai_Chau.csv\n",
      "missing date 31\n"
     ]
    },
    {
     "data": {
      "application/vnd.jupyter.widget-view+json": {
       "model_id": "7acc4b86b3834a68aa64c047658fbf5d",
       "version_major": 2,
       "version_minor": 0
      },
      "text/plain": [
       "HBox(children=(FloatProgress(value=1.0, bar_style='info', max=1.0), HTML(value='')))"
      ]
     },
     "metadata": {},
     "output_type": "display_data"
    },
    {
     "name": "stdout",
     "output_type": "stream",
     "text": [
      "\n",
      "2019-04-01 00:00:00\n",
      "updateing file: ../data/weather_cities/Hai_Chau.csv\n",
      "missing date 30\n"
     ]
    },
    {
     "data": {
      "application/vnd.jupyter.widget-view+json": {
       "model_id": "b833ad5f1d934715a7b18df6666ebd16",
       "version_major": 2,
       "version_minor": 0
      },
      "text/plain": [
       "HBox(children=(FloatProgress(value=1.0, bar_style='info', max=1.0), HTML(value='')))"
      ]
     },
     "metadata": {},
     "output_type": "display_data"
    },
    {
     "name": "stdout",
     "output_type": "stream",
     "text": [
      "\n",
      "2019-03-01 00:00:00\n",
      "updateing file: ../data/weather_cities/Hai_Chau.csv\n",
      "missing date 31\n"
     ]
    },
    {
     "data": {
      "application/vnd.jupyter.widget-view+json": {
       "model_id": "7fe84a0e12034385b3c1d2ec4fffeeb6",
       "version_major": 2,
       "version_minor": 0
      },
      "text/plain": [
       "HBox(children=(FloatProgress(value=1.0, bar_style='info', max=1.0), HTML(value='')))"
      ]
     },
     "metadata": {},
     "output_type": "display_data"
    },
    {
     "name": "stdout",
     "output_type": "stream",
     "text": [
      "\n",
      "2019-02-01 00:00:00\n",
      "updateing file: ../data/weather_cities/Hai_Chau.csv\n",
      "missing date 28\n"
     ]
    },
    {
     "data": {
      "application/vnd.jupyter.widget-view+json": {
       "model_id": "af7bb1bd7c354399a82e48c720f54d8d",
       "version_major": 2,
       "version_minor": 0
      },
      "text/plain": [
       "HBox(children=(FloatProgress(value=1.0, bar_style='info', max=1.0), HTML(value='')))"
      ]
     },
     "metadata": {},
     "output_type": "display_data"
    },
    {
     "name": "stdout",
     "output_type": "stream",
     "text": [
      "\n",
      "2019-01-01 00:00:00\n",
      "updateing file: ../data/weather_cities/Hai_Chau.csv\n",
      "missing date 31\n"
     ]
    },
    {
     "data": {
      "application/vnd.jupyter.widget-view+json": {
       "model_id": "7c6ba0eaed89415981ecc6dbf95f168e",
       "version_major": 2,
       "version_minor": 0
      },
      "text/plain": [
       "HBox(children=(FloatProgress(value=1.0, bar_style='info', max=1.0), HTML(value='')))"
      ]
     },
     "metadata": {},
     "output_type": "display_data"
    },
    {
     "name": "stdout",
     "output_type": "stream",
     "text": [
      "\n",
      "2018-12-01 00:00:00\n",
      "updateing file: ../data/weather_cities/Hai_Chau.csv\n",
      "missing date 31\n"
     ]
    },
    {
     "data": {
      "application/vnd.jupyter.widget-view+json": {
       "model_id": "032852a72c744b71b6a3c115d2ad00bc",
       "version_major": 2,
       "version_minor": 0
      },
      "text/plain": [
       "HBox(children=(FloatProgress(value=1.0, bar_style='info', max=1.0), HTML(value='')))"
      ]
     },
     "metadata": {},
     "output_type": "display_data"
    },
    {
     "name": "stdout",
     "output_type": "stream",
     "text": [
      "\n",
      "2018-11-01 00:00:00\n",
      "updateing file: ../data/weather_cities/Hai_Chau.csv\n",
      "missing date 30\n"
     ]
    },
    {
     "data": {
      "application/vnd.jupyter.widget-view+json": {
       "model_id": "d364511bcbf24b1d8d2a40251a07ce6a",
       "version_major": 2,
       "version_minor": 0
      },
      "text/plain": [
       "HBox(children=(FloatProgress(value=1.0, bar_style='info', max=1.0), HTML(value='')))"
      ]
     },
     "metadata": {},
     "output_type": "display_data"
    },
    {
     "name": "stdout",
     "output_type": "stream",
     "text": [
      "\n",
      "2018-10-01 00:00:00\n",
      "updateing file: ../data/weather_cities/Hai_Chau.csv\n",
      "missing date 31\n"
     ]
    },
    {
     "data": {
      "application/vnd.jupyter.widget-view+json": {
       "model_id": "a89be41c31f34e7c9a0ffc782c2bd5fd",
       "version_major": 2,
       "version_minor": 0
      },
      "text/plain": [
       "HBox(children=(FloatProgress(value=1.0, bar_style='info', max=1.0), HTML(value='')))"
      ]
     },
     "metadata": {},
     "output_type": "display_data"
    },
    {
     "name": "stdout",
     "output_type": "stream",
     "text": [
      "\n",
      "2018-09-01 00:00:00\n",
      "updateing file: ../data/weather_cities/Hai_Chau.csv\n",
      "missing date 30\n"
     ]
    },
    {
     "data": {
      "application/vnd.jupyter.widget-view+json": {
       "model_id": "0600f106e1164b538c201990c66f9730",
       "version_major": 2,
       "version_minor": 0
      },
      "text/plain": [
       "HBox(children=(FloatProgress(value=1.0, bar_style='info', max=1.0), HTML(value='')))"
      ]
     },
     "metadata": {},
     "output_type": "display_data"
    },
    {
     "name": "stdout",
     "output_type": "stream",
     "text": [
      "\n",
      "2018-08-01 00:00:00\n",
      "updateing file: ../data/weather_cities/Hai_Chau.csv\n",
      "missing date 31\n"
     ]
    },
    {
     "data": {
      "application/vnd.jupyter.widget-view+json": {
       "model_id": "e7ddae2723f647db8a3c789158577294",
       "version_major": 2,
       "version_minor": 0
      },
      "text/plain": [
       "HBox(children=(FloatProgress(value=1.0, bar_style='info', max=1.0), HTML(value='')))"
      ]
     },
     "metadata": {},
     "output_type": "display_data"
    },
    {
     "name": "stdout",
     "output_type": "stream",
     "text": [
      "\n",
      "2018-07-01 00:00:00\n",
      "updateing file: ../data/weather_cities/Hai_Chau.csv\n",
      "missing date 31\n"
     ]
    },
    {
     "data": {
      "application/vnd.jupyter.widget-view+json": {
       "model_id": "caacae02822b4cdd98e34547526a05b6",
       "version_major": 2,
       "version_minor": 0
      },
      "text/plain": [
       "HBox(children=(FloatProgress(value=1.0, bar_style='info', max=1.0), HTML(value='')))"
      ]
     },
     "metadata": {},
     "output_type": "display_data"
    },
    {
     "name": "stdout",
     "output_type": "stream",
     "text": [
      "\n",
      "2018-06-01 00:00:00\n",
      "updateing file: ../data/weather_cities/Hai_Chau.csv\n",
      "missing date 30\n"
     ]
    },
    {
     "data": {
      "application/vnd.jupyter.widget-view+json": {
       "model_id": "f8a422774b3e47669e7a7e792ed71f96",
       "version_major": 2,
       "version_minor": 0
      },
      "text/plain": [
       "HBox(children=(FloatProgress(value=1.0, bar_style='info', max=1.0), HTML(value='')))"
      ]
     },
     "metadata": {},
     "output_type": "display_data"
    },
    {
     "name": "stdout",
     "output_type": "stream",
     "text": [
      "\n",
      "2018-05-01 00:00:00\n",
      "updateing file: ../data/weather_cities/Hai_Chau.csv\n",
      "missing date 31\n"
     ]
    },
    {
     "data": {
      "application/vnd.jupyter.widget-view+json": {
       "model_id": "a1824a7df9cf4c9cae39e0df1fb9b47e",
       "version_major": 2,
       "version_minor": 0
      },
      "text/plain": [
       "HBox(children=(FloatProgress(value=1.0, bar_style='info', max=1.0), HTML(value='')))"
      ]
     },
     "metadata": {},
     "output_type": "display_data"
    },
    {
     "name": "stdout",
     "output_type": "stream",
     "text": [
      "\n",
      "2018-04-01 00:00:00\n",
      "updateing file: ../data/weather_cities/Hai_Chau.csv\n",
      "missing date 30\n"
     ]
    },
    {
     "data": {
      "application/vnd.jupyter.widget-view+json": {
       "model_id": "332b110c257746dcbd8430d74fa3c40b",
       "version_major": 2,
       "version_minor": 0
      },
      "text/plain": [
       "HBox(children=(FloatProgress(value=1.0, bar_style='info', max=1.0), HTML(value='')))"
      ]
     },
     "metadata": {},
     "output_type": "display_data"
    },
    {
     "name": "stdout",
     "output_type": "stream",
     "text": [
      "\n",
      "2018-03-01 00:00:00\n",
      "updateing file: ../data/weather_cities/Hai_Chau.csv\n",
      "missing date 31\n"
     ]
    },
    {
     "data": {
      "application/vnd.jupyter.widget-view+json": {
       "model_id": "e37db20fd2fb44298a910d4bb43bedd6",
       "version_major": 2,
       "version_minor": 0
      },
      "text/plain": [
       "HBox(children=(FloatProgress(value=1.0, bar_style='info', max=1.0), HTML(value='')))"
      ]
     },
     "metadata": {},
     "output_type": "display_data"
    },
    {
     "name": "stdout",
     "output_type": "stream",
     "text": [
      "\n",
      "2018-02-01 00:00:00\n",
      "updateing file: ../data/weather_cities/Hai_Chau.csv\n",
      "missing date 28\n"
     ]
    },
    {
     "data": {
      "application/vnd.jupyter.widget-view+json": {
       "model_id": "c86ad2814f924037835b171a99ccb862",
       "version_major": 2,
       "version_minor": 0
      },
      "text/plain": [
       "HBox(children=(FloatProgress(value=1.0, bar_style='info', max=1.0), HTML(value='')))"
      ]
     },
     "metadata": {},
     "output_type": "display_data"
    },
    {
     "name": "stdout",
     "output_type": "stream",
     "text": [
      "\n",
      "2018-01-01 00:00:00\n",
      "updateing file: ../data/weather_cities/Hai_Chau.csv\n",
      "missing date 31\n"
     ]
    },
    {
     "data": {
      "application/vnd.jupyter.widget-view+json": {
       "model_id": "97e716c241e549eb82f8e98b3178f5ef",
       "version_major": 2,
       "version_minor": 0
      },
      "text/plain": [
       "HBox(children=(FloatProgress(value=1.0, bar_style='info', max=1.0), HTML(value='')))"
      ]
     },
     "metadata": {},
     "output_type": "display_data"
    },
    {
     "name": "stdout",
     "output_type": "stream",
     "text": [
      "\n",
      "2017-12-01 00:00:00\n",
      "updateing file: ../data/weather_cities/Hai_Chau.csv\n",
      "missing date 31\n"
     ]
    },
    {
     "data": {
      "application/vnd.jupyter.widget-view+json": {
       "model_id": "e3b9a193c6e6454d8bde5ef11d9f61af",
       "version_major": 2,
       "version_minor": 0
      },
      "text/plain": [
       "HBox(children=(FloatProgress(value=1.0, bar_style='info', max=1.0), HTML(value='')))"
      ]
     },
     "metadata": {},
     "output_type": "display_data"
    },
    {
     "name": "stdout",
     "output_type": "stream",
     "text": [
      "\n",
      "2017-11-01 00:00:00\n",
      "updateing file: ../data/weather_cities/Hai_Chau.csv\n",
      "missing date 30\n"
     ]
    },
    {
     "data": {
      "application/vnd.jupyter.widget-view+json": {
       "model_id": "25b83b2a44ad4b4c85004ba61f25adc5",
       "version_major": 2,
       "version_minor": 0
      },
      "text/plain": [
       "HBox(children=(FloatProgress(value=1.0, bar_style='info', max=1.0), HTML(value='')))"
      ]
     },
     "metadata": {},
     "output_type": "display_data"
    },
    {
     "name": "stdout",
     "output_type": "stream",
     "text": [
      "\n",
      "2017-10-01 00:00:00\n",
      "updateing file: ../data/weather_cities/Hai_Chau.csv\n",
      "missing date 31\n"
     ]
    },
    {
     "data": {
      "application/vnd.jupyter.widget-view+json": {
       "model_id": "e867a44405bb4025bc15262298f81732",
       "version_major": 2,
       "version_minor": 0
      },
      "text/plain": [
       "HBox(children=(FloatProgress(value=1.0, bar_style='info', max=1.0), HTML(value='')))"
      ]
     },
     "metadata": {},
     "output_type": "display_data"
    },
    {
     "name": "stdout",
     "output_type": "stream",
     "text": [
      "\n",
      "2017-09-01 00:00:00\n",
      "updateing file: ../data/weather_cities/Hai_Chau.csv\n",
      "missing date 30\n"
     ]
    },
    {
     "data": {
      "application/vnd.jupyter.widget-view+json": {
       "model_id": "5d53fe49d53b4bf191fc112200f65e85",
       "version_major": 2,
       "version_minor": 0
      },
      "text/plain": [
       "HBox(children=(FloatProgress(value=1.0, bar_style='info', max=1.0), HTML(value='')))"
      ]
     },
     "metadata": {},
     "output_type": "display_data"
    },
    {
     "name": "stdout",
     "output_type": "stream",
     "text": [
      "\n",
      "2017-08-01 00:00:00\n",
      "updateing file: ../data/weather_cities/Hai_Chau.csv\n",
      "missing date 31\n"
     ]
    },
    {
     "data": {
      "application/vnd.jupyter.widget-view+json": {
       "model_id": "2fe11ed09b9a4b80b0561e4cdb73bfdb",
       "version_major": 2,
       "version_minor": 0
      },
      "text/plain": [
       "HBox(children=(FloatProgress(value=1.0, bar_style='info', max=1.0), HTML(value='')))"
      ]
     },
     "metadata": {},
     "output_type": "display_data"
    },
    {
     "name": "stdout",
     "output_type": "stream",
     "text": [
      "\n",
      "2017-07-01 00:00:00\n",
      "updateing file: ../data/weather_cities/Hai_Chau.csv\n",
      "missing date 31\n"
     ]
    },
    {
     "data": {
      "application/vnd.jupyter.widget-view+json": {
       "model_id": "5fedb178c5d74ba1ae5249da36367fac",
       "version_major": 2,
       "version_minor": 0
      },
      "text/plain": [
       "HBox(children=(FloatProgress(value=1.0, bar_style='info', max=1.0), HTML(value='')))"
      ]
     },
     "metadata": {},
     "output_type": "display_data"
    },
    {
     "name": "stdout",
     "output_type": "stream",
     "text": [
      "\n",
      "2017-06-01 00:00:00\n",
      "updateing file: ../data/weather_cities/Hai_Chau.csv\n",
      "missing date 30\n"
     ]
    },
    {
     "data": {
      "application/vnd.jupyter.widget-view+json": {
       "model_id": "4ca35e30dbf54343831bf0535c224a44",
       "version_major": 2,
       "version_minor": 0
      },
      "text/plain": [
       "HBox(children=(FloatProgress(value=1.0, bar_style='info', max=1.0), HTML(value='')))"
      ]
     },
     "metadata": {},
     "output_type": "display_data"
    },
    {
     "name": "stdout",
     "output_type": "stream",
     "text": [
      "\n",
      "2017-05-01 00:00:00\n",
      "updateing file: ../data/weather_cities/Hai_Chau.csv\n",
      "missing date 31\n"
     ]
    },
    {
     "data": {
      "application/vnd.jupyter.widget-view+json": {
       "model_id": "ffa362e4fdd54f0ea991dba20109a797",
       "version_major": 2,
       "version_minor": 0
      },
      "text/plain": [
       "HBox(children=(FloatProgress(value=1.0, bar_style='info', max=1.0), HTML(value='')))"
      ]
     },
     "metadata": {},
     "output_type": "display_data"
    },
    {
     "name": "stdout",
     "output_type": "stream",
     "text": [
      "\n",
      "2017-04-01 00:00:00\n",
      "updateing file: ../data/weather_cities/Hai_Chau.csv\n",
      "missing date 30\n"
     ]
    },
    {
     "data": {
      "application/vnd.jupyter.widget-view+json": {
       "model_id": "95d6c34a2f5f41bcaf82abe7bc573335",
       "version_major": 2,
       "version_minor": 0
      },
      "text/plain": [
       "HBox(children=(FloatProgress(value=1.0, bar_style='info', max=1.0), HTML(value='')))"
      ]
     },
     "metadata": {},
     "output_type": "display_data"
    },
    {
     "name": "stdout",
     "output_type": "stream",
     "text": [
      "\n",
      "2017-03-01 00:00:00\n",
      "updateing file: ../data/weather_cities/Hai_Chau.csv\n",
      "missing date 31\n"
     ]
    },
    {
     "data": {
      "application/vnd.jupyter.widget-view+json": {
       "model_id": "bf2e2fe4f78f46809d638b1931e0412a",
       "version_major": 2,
       "version_minor": 0
      },
      "text/plain": [
       "HBox(children=(FloatProgress(value=1.0, bar_style='info', max=1.0), HTML(value='')))"
      ]
     },
     "metadata": {},
     "output_type": "display_data"
    },
    {
     "name": "stdout",
     "output_type": "stream",
     "text": [
      "\n",
      "2017-02-01 00:00:00\n",
      "updateing file: ../data/weather_cities/Hai_Chau.csv\n",
      "missing date 28\n"
     ]
    },
    {
     "data": {
      "application/vnd.jupyter.widget-view+json": {
       "model_id": "f2f0308b748742278a57c509e3cee2bc",
       "version_major": 2,
       "version_minor": 0
      },
      "text/plain": [
       "HBox(children=(FloatProgress(value=1.0, bar_style='info', max=1.0), HTML(value='')))"
      ]
     },
     "metadata": {},
     "output_type": "display_data"
    },
    {
     "name": "stdout",
     "output_type": "stream",
     "text": [
      "\n",
      "2017-01-01 00:00:00\n",
      "updateing file: ../data/weather_cities/Hai_Chau.csv\n",
      "missing date 31\n"
     ]
    },
    {
     "data": {
      "application/vnd.jupyter.widget-view+json": {
       "model_id": "1902c51b6658478787c8311e770fc70b",
       "version_major": 2,
       "version_minor": 0
      },
      "text/plain": [
       "HBox(children=(FloatProgress(value=1.0, bar_style='info', max=1.0), HTML(value='')))"
      ]
     },
     "metadata": {},
     "output_type": "display_data"
    },
    {
     "name": "stdout",
     "output_type": "stream",
     "text": [
      "\n",
      "2016-12-01 00:00:00\n",
      "updateing file: ../data/weather_cities/Hai_Chau.csv\n",
      "missing date 31\n"
     ]
    },
    {
     "data": {
      "application/vnd.jupyter.widget-view+json": {
       "model_id": "77446492334b4a4f98ff9ebaa0bf577a",
       "version_major": 2,
       "version_minor": 0
      },
      "text/plain": [
       "HBox(children=(FloatProgress(value=1.0, bar_style='info', max=1.0), HTML(value='')))"
      ]
     },
     "metadata": {},
     "output_type": "display_data"
    },
    {
     "name": "stdout",
     "output_type": "stream",
     "text": [
      "\n",
      "2016-11-01 00:00:00\n",
      "updateing file: ../data/weather_cities/Hai_Chau.csv\n",
      "missing date 30\n"
     ]
    },
    {
     "data": {
      "application/vnd.jupyter.widget-view+json": {
       "model_id": "8ced44c6135f44d493e38483f00778db",
       "version_major": 2,
       "version_minor": 0
      },
      "text/plain": [
       "HBox(children=(FloatProgress(value=1.0, bar_style='info', max=1.0), HTML(value='')))"
      ]
     },
     "metadata": {},
     "output_type": "display_data"
    },
    {
     "name": "stdout",
     "output_type": "stream",
     "text": [
      "\n",
      "2016-10-01 00:00:00\n",
      "updateing file: ../data/weather_cities/Hai_Chau.csv\n",
      "missing date 32\n"
     ]
    },
    {
     "data": {
      "application/vnd.jupyter.widget-view+json": {
       "model_id": "ed8527fd1e564d6db7e1ecda401cd60c",
       "version_major": 2,
       "version_minor": 0
      },
      "text/plain": [
       "HBox(children=(FloatProgress(value=1.0, bar_style='info', max=1.0), HTML(value='')))"
      ]
     },
     "metadata": {},
     "output_type": "display_data"
    },
    {
     "name": "stdout",
     "output_type": "stream",
     "text": [
      "\n",
      "2016-09-01 00:00:00\n",
      "updateing file: ../data/weather_cities/Hai_Chau.csv\n",
      "missing date 30\n"
     ]
    },
    {
     "data": {
      "application/vnd.jupyter.widget-view+json": {
       "model_id": "b920a75b16f740beb1ff0602d03cd4de",
       "version_major": 2,
       "version_minor": 0
      },
      "text/plain": [
       "HBox(children=(FloatProgress(value=1.0, bar_style='info', max=1.0), HTML(value='')))"
      ]
     },
     "metadata": {},
     "output_type": "display_data"
    },
    {
     "name": "stdout",
     "output_type": "stream",
     "text": [
      "\n",
      "2016-08-01 00:00:00\n",
      "updateing file: ../data/weather_cities/Hai_Chau.csv\n",
      "missing date 31\n"
     ]
    },
    {
     "data": {
      "application/vnd.jupyter.widget-view+json": {
       "model_id": "11d8c2b16ee24b37b461ea31c3abacc8",
       "version_major": 2,
       "version_minor": 0
      },
      "text/plain": [
       "HBox(children=(FloatProgress(value=1.0, bar_style='info', max=1.0), HTML(value='')))"
      ]
     },
     "metadata": {},
     "output_type": "display_data"
    },
    {
     "name": "stdout",
     "output_type": "stream",
     "text": [
      "\n",
      "2016-07-01 00:00:00\n",
      "updateing file: ../data/weather_cities/Hai_Chau.csv\n",
      "missing date 31\n"
     ]
    },
    {
     "data": {
      "application/vnd.jupyter.widget-view+json": {
       "model_id": "366fa630cff64132890e8c481b510b47",
       "version_major": 2,
       "version_minor": 0
      },
      "text/plain": [
       "HBox(children=(FloatProgress(value=1.0, bar_style='info', max=1.0), HTML(value='')))"
      ]
     },
     "metadata": {},
     "output_type": "display_data"
    },
    {
     "name": "stdout",
     "output_type": "stream",
     "text": [
      "\n",
      "2016-06-01 00:00:00\n",
      "updateing file: ../data/weather_cities/Hai_Chau.csv\n",
      "missing date 30\n"
     ]
    },
    {
     "data": {
      "application/vnd.jupyter.widget-view+json": {
       "model_id": "5ae2d2ee47ad4b91b5f86d8e65c3af5f",
       "version_major": 2,
       "version_minor": 0
      },
      "text/plain": [
       "HBox(children=(FloatProgress(value=1.0, bar_style='info', max=1.0), HTML(value='')))"
      ]
     },
     "metadata": {},
     "output_type": "display_data"
    },
    {
     "name": "stdout",
     "output_type": "stream",
     "text": [
      "\n",
      "2016-05-01 00:00:00\n",
      "updateing file: ../data/weather_cities/Hai_Chau.csv\n",
      "missing date 31\n"
     ]
    },
    {
     "data": {
      "application/vnd.jupyter.widget-view+json": {
       "model_id": "aa044edde4244217b0167623f9f19661",
       "version_major": 2,
       "version_minor": 0
      },
      "text/plain": [
       "HBox(children=(FloatProgress(value=1.0, bar_style='info', max=1.0), HTML(value='')))"
      ]
     },
     "metadata": {},
     "output_type": "display_data"
    },
    {
     "name": "stdout",
     "output_type": "stream",
     "text": [
      "\n",
      "2016-04-01 00:00:00\n",
      "updateing file: ../data/weather_cities/Hai_Chau.csv\n",
      "missing date 30\n"
     ]
    },
    {
     "data": {
      "application/vnd.jupyter.widget-view+json": {
       "model_id": "91e83ddbb34c4038a53936bc4484c2a6",
       "version_major": 2,
       "version_minor": 0
      },
      "text/plain": [
       "HBox(children=(FloatProgress(value=1.0, bar_style='info', max=1.0), HTML(value='')))"
      ]
     },
     "metadata": {},
     "output_type": "display_data"
    },
    {
     "name": "stdout",
     "output_type": "stream",
     "text": [
      "\n",
      "2016-03-01 00:00:00\n",
      "updateing file: ../data/weather_cities/Hai_Chau.csv\n",
      "missing date 31\n"
     ]
    },
    {
     "data": {
      "application/vnd.jupyter.widget-view+json": {
       "model_id": "ab617fdee4b74a759cf69cd427fc8d59",
       "version_major": 2,
       "version_minor": 0
      },
      "text/plain": [
       "HBox(children=(FloatProgress(value=1.0, bar_style='info', max=1.0), HTML(value='')))"
      ]
     },
     "metadata": {},
     "output_type": "display_data"
    },
    {
     "name": "stdout",
     "output_type": "stream",
     "text": [
      "\n",
      "2016-02-01 00:00:00\n",
      "updateing file: ../data/weather_cities/Hai_Chau.csv\n",
      "missing date 29\n"
     ]
    },
    {
     "data": {
      "application/vnd.jupyter.widget-view+json": {
       "model_id": "1b71463633f24809a13ab66d1476d41a",
       "version_major": 2,
       "version_minor": 0
      },
      "text/plain": [
       "HBox(children=(FloatProgress(value=1.0, bar_style='info', max=1.0), HTML(value='')))"
      ]
     },
     "metadata": {},
     "output_type": "display_data"
    },
    {
     "name": "stdout",
     "output_type": "stream",
     "text": [
      "\n",
      "2016-01-01 00:00:00\n",
      "updateing file: ../data/weather_cities/Hai_Chau.csv\n",
      "missing date 31\n"
     ]
    },
    {
     "data": {
      "application/vnd.jupyter.widget-view+json": {
       "model_id": "f3a97cb25df345d8b1c6d8e2ec3a1bb2",
       "version_major": 2,
       "version_minor": 0
      },
      "text/plain": [
       "HBox(children=(FloatProgress(value=1.0, bar_style='info', max=1.0), HTML(value='')))"
      ]
     },
     "metadata": {},
     "output_type": "display_data"
    },
    {
     "name": "stdout",
     "output_type": "stream",
     "text": [
      "\n",
      "2015-12-01 00:00:00\n",
      "updateing file: ../data/weather_cities/Hai_Chau.csv\n",
      "missing date 31\n"
     ]
    },
    {
     "data": {
      "application/vnd.jupyter.widget-view+json": {
       "model_id": "b647c25563944f1f950b2d7799cfaca5",
       "version_major": 2,
       "version_minor": 0
      },
      "text/plain": [
       "HBox(children=(FloatProgress(value=1.0, bar_style='info', max=1.0), HTML(value='')))"
      ]
     },
     "metadata": {},
     "output_type": "display_data"
    },
    {
     "name": "stdout",
     "output_type": "stream",
     "text": [
      "\n",
      "2015-11-01 00:00:00\n",
      "updateing file: ../data/weather_cities/Hai_Chau.csv\n",
      "missing date 30\n"
     ]
    },
    {
     "data": {
      "application/vnd.jupyter.widget-view+json": {
       "model_id": "b41b656552f54e7aac99b33b6c9516d4",
       "version_major": 2,
       "version_minor": 0
      },
      "text/plain": [
       "HBox(children=(FloatProgress(value=1.0, bar_style='info', max=1.0), HTML(value='')))"
      ]
     },
     "metadata": {},
     "output_type": "display_data"
    },
    {
     "name": "stdout",
     "output_type": "stream",
     "text": [
      "\n",
      "2015-10-01 00:00:00\n",
      "updateing file: ../data/weather_cities/Hai_Chau.csv\n",
      "missing date 33\n"
     ]
    },
    {
     "data": {
      "application/vnd.jupyter.widget-view+json": {
       "model_id": "41f05613111645099e4542fcdd966f4c",
       "version_major": 2,
       "version_minor": 0
      },
      "text/plain": [
       "HBox(children=(FloatProgress(value=1.0, bar_style='info', max=1.0), HTML(value='')))"
      ]
     },
     "metadata": {},
     "output_type": "display_data"
    },
    {
     "name": "stdout",
     "output_type": "stream",
     "text": [
      "\n",
      "2015-09-01 00:00:00\n",
      "updateing file: ../data/weather_cities/Hai_Chau.csv\n",
      "missing date 33\n"
     ]
    },
    {
     "data": {
      "application/vnd.jupyter.widget-view+json": {
       "model_id": "73ff306d8dbd47cea51532ce0d600a12",
       "version_major": 2,
       "version_minor": 0
      },
      "text/plain": [
       "HBox(children=(FloatProgress(value=1.0, bar_style='info', max=1.0), HTML(value='')))"
      ]
     },
     "metadata": {},
     "output_type": "display_data"
    },
    {
     "name": "stdout",
     "output_type": "stream",
     "text": [
      "\n",
      "2015-08-01 00:00:00\n",
      "updateing file: ../data/weather_cities/Hai_Chau.csv\n",
      "missing date 34\n"
     ]
    },
    {
     "data": {
      "application/vnd.jupyter.widget-view+json": {
       "model_id": "80f34f98855c49efa30b4e3a8711cf6e",
       "version_major": 2,
       "version_minor": 0
      },
      "text/plain": [
       "HBox(children=(FloatProgress(value=1.0, bar_style='info', max=1.0), HTML(value='')))"
      ]
     },
     "metadata": {},
     "output_type": "display_data"
    },
    {
     "name": "stdout",
     "output_type": "stream",
     "text": [
      "\n",
      "2015-07-01 00:00:00\n",
      "updateing file: ../data/weather_cities/Hai_Chau.csv\n",
      "missing date 34\n"
     ]
    },
    {
     "data": {
      "application/vnd.jupyter.widget-view+json": {
       "model_id": "460470bfa6744d15987d2a1ceb35d514",
       "version_major": 2,
       "version_minor": 0
      },
      "text/plain": [
       "HBox(children=(FloatProgress(value=1.0, bar_style='info', max=1.0), HTML(value='')))"
      ]
     },
     "metadata": {},
     "output_type": "display_data"
    },
    {
     "name": "stdout",
     "output_type": "stream",
     "text": [
      "\n",
      "2015-06-01 00:00:00\n",
      "updateing file: ../data/weather_cities/Hai_Chau.csv\n",
      "missing date 33\n"
     ]
    },
    {
     "data": {
      "application/vnd.jupyter.widget-view+json": {
       "model_id": "534de9e1e80644eba35124e2ab24a9aa",
       "version_major": 2,
       "version_minor": 0
      },
      "text/plain": [
       "HBox(children=(FloatProgress(value=1.0, bar_style='info', max=1.0), HTML(value='')))"
      ]
     },
     "metadata": {},
     "output_type": "display_data"
    },
    {
     "name": "stdout",
     "output_type": "stream",
     "text": [
      "\n",
      "2015-05-01 00:00:00\n",
      "updateing file: ../data/weather_cities/Hai_Chau.csv\n",
      "missing date 34\n"
     ]
    },
    {
     "data": {
      "application/vnd.jupyter.widget-view+json": {
       "model_id": "60578b8c61c441058da3c12078168cee",
       "version_major": 2,
       "version_minor": 0
      },
      "text/plain": [
       "HBox(children=(FloatProgress(value=1.0, bar_style='info', max=1.0), HTML(value='')))"
      ]
     },
     "metadata": {},
     "output_type": "display_data"
    },
    {
     "name": "stdout",
     "output_type": "stream",
     "text": [
      "\n",
      "2015-04-01 00:00:00\n",
      "updateing file: ../data/weather_cities/Hai_Chau.csv\n",
      "missing date 33\n"
     ]
    },
    {
     "data": {
      "application/vnd.jupyter.widget-view+json": {
       "model_id": "09ba13d7081045169fc6027aacf36009",
       "version_major": 2,
       "version_minor": 0
      },
      "text/plain": [
       "HBox(children=(FloatProgress(value=1.0, bar_style='info', max=1.0), HTML(value='')))"
      ]
     },
     "metadata": {},
     "output_type": "display_data"
    },
    {
     "name": "stdout",
     "output_type": "stream",
     "text": [
      "\n",
      "2015-03-01 00:00:00\n",
      "updateing file: ../data/weather_cities/Hai_Chau.csv\n",
      "missing date 34\n"
     ]
    },
    {
     "data": {
      "application/vnd.jupyter.widget-view+json": {
       "model_id": "0c6b20f665f34d52b0d9afd2fa72b181",
       "version_major": 2,
       "version_minor": 0
      },
      "text/plain": [
       "HBox(children=(FloatProgress(value=1.0, bar_style='info', max=1.0), HTML(value='')))"
      ]
     },
     "metadata": {},
     "output_type": "display_data"
    },
    {
     "name": "stdout",
     "output_type": "stream",
     "text": [
      "\n",
      "2015-02-01 00:00:00\n",
      "updateing file: ../data/weather_cities/Hai_Chau.csv\n",
      "missing date 31\n"
     ]
    },
    {
     "data": {
      "application/vnd.jupyter.widget-view+json": {
       "model_id": "1c27e4991cdb4791845b52fd9cf081a7",
       "version_major": 2,
       "version_minor": 0
      },
      "text/plain": [
       "HBox(children=(FloatProgress(value=1.0, bar_style='info', max=1.0), HTML(value='')))"
      ]
     },
     "metadata": {},
     "output_type": "display_data"
    },
    {
     "name": "stdout",
     "output_type": "stream",
     "text": [
      "\n",
      "2015-01-01 00:00:00\n",
      "updateing file: ../data/weather_cities/Hai_Chau.csv\n",
      "missing date 34\n"
     ]
    },
    {
     "data": {
      "application/vnd.jupyter.widget-view+json": {
       "model_id": "8769f3ad26fd41598df9294c0e47cc8b",
       "version_major": 2,
       "version_minor": 0
      },
      "text/plain": [
       "HBox(children=(FloatProgress(value=1.0, bar_style='info', max=1.0), HTML(value='')))"
      ]
     },
     "metadata": {},
     "output_type": "display_data"
    },
    {
     "name": "stdout",
     "output_type": "stream",
     "text": [
      "\n"
     ]
    }
   ],
   "source": [
    "# add weather data for Hai Chau\n",
    "year_list = [2019, 2018, 2017, 2016, 2015]\n",
    "month_list = np.arange(12, 0, -1)\n",
    "\n",
    "for year, month in product(year_list, month_list):\n",
    "    start_date = datetime(year, month, 1)\n",
    "    print(start_date)\n",
    "    end_date = datetime.now() - timedelta(days=1)\n",
    "    update_weather(city_json,data_folder=w_folder, start_date=start_date,end_date=end_date)"
   ]
  },
  {
   "cell_type": "markdown",
   "metadata": {},
   "source": [
    "## Add New Weather Stations from URL"
   ]
  },
  {
   "cell_type": "code",
   "execution_count": 77,
   "metadata": {
    "collapsed": true
   },
   "outputs": [
    {
     "data": {
      "text/plain": [
       "[{'city_name': 'Mueang Chiang Mai',\n",
       "  'province': 'Chiang Mai',\n",
       "  'country': 'Thailand',\n",
       "  'station_name': 'Chiang Mai International Airport Station',\n",
       "  'specific_url': 'th/mueang-chiang-mai/',\n",
       "  'latitude': '18.8 °N',\n",
       "  'longitude': '98.97 °E'},\n",
       " {'city_name': 'Mueang Chiang Rai',\n",
       "  'province': 'Chiang Rai',\n",
       "  'country': 'Thailand',\n",
       "  'station_name': 'Chiang Rai Station',\n",
       "  'specific_url': 'th/mueang-chiang-rai/',\n",
       "  'latitude': '19.91 °N',\n",
       "  'longitude': '99.83 °E'},\n",
       " {'city_name': 'Mueang Tak',\n",
       "  'province': 'Tak',\n",
       "  'country': 'Thailand',\n",
       "  'station_name': 'Tak Airport Station',\n",
       "  'specific_url': 'th/mueang-tak/',\n",
       "  'latitude': '16.87 °N',\n",
       "  'longitude': '99.13 °E'},\n",
       " {'city_name': 'Mueang Mae Hong Son',\n",
       "  'province': 'Mae Hong Son',\n",
       "  'country': 'Thailand',\n",
       "  'station_name': 'Mae Hong Son Airport Station',\n",
       "  'specific_url': 'th/mueang-mae-hong-son/',\n",
       "  'latitude': '19.3 °N',\n",
       "  'longitude': '97.97 °E'},\n",
       " {'city_name': 'Mueang Nan',\n",
       "  'province': 'Nan',\n",
       "  'country': 'Thailand',\n",
       "  'station_name': 'Nan Airport Station',\n",
       "  'specific_url': 'th/mueang-nan/',\n",
       "  'latitude': '18.78 °N',\n",
       "  'longitude': '100.77 °E'},\n",
       " {'city_name': 'Sawankhalok',\n",
       "  'province': 'Sukhothai',\n",
       "  'country': 'Thailand',\n",
       "  'station_name': 'Sukhothai Airport Station',\n",
       "  'specific_url': 'th/sawankhalok/',\n",
       "  'latitude': '17.31 °N',\n",
       "  'longitude': '99.83 °E'},\n",
       " {'city_name': 'Bangkok',\n",
       "  'province': 'Bangkok Metropolitan Region',\n",
       "  'country': 'Thailand',\n",
       "  'station_name': 'Don Mueang International Airport Station',\n",
       "  'specific_url': 'th/bangkok/',\n",
       "  'latitude': '13.91 °N',\n",
       "  'longitude': '100.59 °E'},\n",
       " {'city_name': 'Bang Phli',\n",
       "  'province': 'Samut Prakan',\n",
       "  'country': 'Thailand',\n",
       "  'station_name': 'Suvarnabhumi Airport Station',\n",
       "  'specific_url': 'th/bang-phli/',\n",
       "  'latitude': '13.69 °N',\n",
       "  'longitude': '100.75 °E'},\n",
       " {'city_name': 'Ban Chang',\n",
       "  'province': 'Rayong',\n",
       "  'country': 'Thailand',\n",
       "  'station_name': 'U-Tapao International Airport Station',\n",
       "  'specific_url': 'th/ban-chang/',\n",
       "  'latitude': '12.72 °N',\n",
       "  'longitude': '101.05 °E'},\n",
       " {'city_name': 'Hai Chau',\n",
       "  'province': 'Da Nang',\n",
       "  'country': 'Vietnam',\n",
       "  'station_name': 'Da Nang International Airport Station',\n",
       "  'specific_url': 'vn/hai-chau/',\n",
       "  'latitude': '16.04 °N',\n",
       "  'longitude': '108.2 °E'},\n",
       " {'city_name': 'Siem Reap District',\n",
       "  'province': 'Siem Reap Province',\n",
       "  'country': 'Cambodia',\n",
       "  'station_name': 'Siem Reap International Airport Station',\n",
       "  'specific_url': 'kh/siem-reap-district/',\n",
       "  'latitude': '13.41 °N',\n",
       "  'longitude': '103.81 °E'},\n",
       " {'city_name': 'Phnom Penh',\n",
       "  'province': '',\n",
       "  'country': 'Cambodia',\n",
       "  'station_name': 'Phnom Penh International Airport Station',\n",
       "  'specific_url': 'kh/phnom-penh/',\n",
       "  'latitude': '11.55 °N',\n",
       "  'longitude': '104.84 °E'},\n",
       " {'city_name': 'Quận Tân Bình',\n",
       "  'province': 'Ho Chi Minh City',\n",
       "  'country': 'Vietnam',\n",
       "  'station_name': 'Tan Son Nhat International Airport Station',\n",
       "  'specific_url': 'vn/qu%E1%BA%ADn-t%C3%A2n-b%C3%ACnh/',\n",
       "  'latitude': '10.82 °N',\n",
       "  'longitude': '106.65 °E'},\n",
       " {'city_name': 'Soc Son',\n",
       "  'province': 'Hanoi',\n",
       "  'country': 'Vietnam',\n",
       "  'station_name': 'Noi Bai International Airport Station',\n",
       "  'specific_url': 'vn/soc-son/',\n",
       "  'latitude': '21.25 °N',\n",
       "  'longitude': '105.82 °E'},\n",
       " {'city_name': 'Yangon',\n",
       "  'province': 'Yangon Region',\n",
       "  'country': 'Myanmar',\n",
       "  'station_name': 'Yangon International Airport Station',\n",
       "  'specific_url': 'mm/yangon/',\n",
       "  'latitude': '16.99 °N',\n",
       "  'longitude': '96.14 °E'},\n",
       " {'city_name': 'Tada-U',\n",
       "  'province': 'Mandalay Region',\n",
       "  'country': 'Myanmar',\n",
       "  'station_name': 'Mandalay International Airport Station',\n",
       "  'specific_url': 'mm/tada-u/',\n",
       "  'latitude': '21.82 °N',\n",
       "  'longitude': '95.97 °E'},\n",
       " {'city_name': 'Chittagong',\n",
       "  'province': 'Chittagong',\n",
       "  'country': 'Bangladesh',\n",
       "  'station_name': 'Shah Amanat International Airport Station',\n",
       "  'specific_url': 'bd/chittagong/',\n",
       "  'latitude': '22.32 °N',\n",
       "  'longitude': '91.82 °E'},\n",
       " {'city_name': 'Dhaka',\n",
       "  'province': 'Dhaka Division',\n",
       "  'country': 'Bangladesh',\n",
       "  'station_name': 'Shahjalal International Airport Station',\n",
       "  'specific_url': 'bd/dhaka/',\n",
       "  'latitude': '23.7 °N',\n",
       "  'longitude': '90.37 °E'},\n",
       " {'city_name': 'Kunming',\n",
       "  'province': 'Yunnan',\n",
       "  'country': \"People's Republic of China\",\n",
       "  'station_name': 'Kunming Changshui International Airport Station',\n",
       "  'specific_url': 'cn/kunming/',\n",
       "  'latitude': '25.02 °N',\n",
       "  'longitude': '102.74 °E'},\n",
       " {'city_name': 'Sikhottabong',\n",
       "  'province': 'Vientiane',\n",
       "  'country': 'Laos',\n",
       "  'station_name': 'Wattay International Airport Station',\n",
       "  'specific_url': 'la/sikhottabong/',\n",
       "  'latitude': '18.01 °N',\n",
       "  'longitude': '102.48 °E'},\n",
       " {'city_name': 'Luang Prabang District',\n",
       "  'province': 'Luang Prabang Province',\n",
       "  'country': 'Laos',\n",
       "  'station_name': 'Luang Prabang International Airport Station',\n",
       "  'specific_url': 'la/luang-prabang-district/',\n",
       "  'latitude': '19.9 °N',\n",
       "  'longitude': '102.15 °E'},\n",
       " {'city_name': 'Namtha District',\n",
       "  'province': 'Luang Namtha Province',\n",
       "  'country': 'Laos',\n",
       "  'station_name': 'Luang Namtha Station',\n",
       "  'specific_url': 'la/namtha-district/',\n",
       "  'latitude': '21 °N',\n",
       "  'longitude': '101.45 °E'},\n",
       " {'city_name': 'Soc Son',\n",
       "  'province': 'Hanoi',\n",
       "  'country': 'Vietnam',\n",
       "  'station_name': 'Noi Bai International Airport Station',\n",
       "  'specific_url': 'vn/soc-son/',\n",
       "  'latitude': '21.25 °N',\n",
       "  'longitude': '105.82 °E'}]"
      ]
     },
     "execution_count": 77,
     "metadata": {},
     "output_type": "execute_result"
    }
   ],
   "source": [
    "station_info"
   ]
  },
  {
   "cell_type": "code",
   "execution_count": 12,
   "metadata": {},
   "outputs": [
    {
     "name": "stdout",
     "output_type": "stream",
     "text": [
      "add  Chaloem Phra Kiat\n"
     ]
    }
   ],
   "source": [
    "station_list = ['https://www.wunderground.com/history/daily/th/chaloem-phra-kiat/VTUQ/date/2020-10-21' ] \n",
    "add_weather_station(station_list)"
   ]
  },
  {
   "cell_type": "markdown",
   "metadata": {},
   "source": [
    "## Weather Debug"
   ]
  },
  {
   "cell_type": "code",
   "execution_count": 35,
   "metadata": {},
   "outputs": [],
   "source": [
    "url = 'https://www.wunderground.com/history/daily/th/bangkok/date/2020-12-27'\n",
    "waittime = 2"
   ]
  },
  {
   "cell_type": "code",
   "execution_count": 36,
   "metadata": {},
   "outputs": [],
   "source": [
    "browser = webdriver.Firefox()"
   ]
  },
  {
   "cell_type": "code",
   "execution_count": 37,
   "metadata": {},
   "outputs": [],
   "source": [
    "browser.get(url)\n",
    "time.sleep(5)\n",
    "innerhtml = browser.execute_script(\"return document.body.innerHTML\")\n",
    "soup = BeautifulSoup(innerhtml, features=\"lxml\")"
   ]
  },
  {
   "cell_type": "code",
   "execution_count": 38,
   "metadata": {},
   "outputs": [],
   "source": [
    "df_list = pd.read_html(str(soup))"
   ]
  },
  {
   "cell_type": "code",
   "execution_count": 40,
   "metadata": {},
   "outputs": [
    {
     "data": {
      "text/html": [
       "<div>\n",
       "<style scoped>\n",
       "    .dataframe tbody tr th:only-of-type {\n",
       "        vertical-align: middle;\n",
       "    }\n",
       "\n",
       "    .dataframe tbody tr th {\n",
       "        vertical-align: top;\n",
       "    }\n",
       "\n",
       "    .dataframe thead th {\n",
       "        text-align: right;\n",
       "    }\n",
       "</style>\n",
       "<table border=\"1\" class=\"dataframe\">\n",
       "  <thead>\n",
       "    <tr style=\"text-align: right;\">\n",
       "      <th></th>\n",
       "      <th>Time</th>\n",
       "      <th>Temperature</th>\n",
       "      <th>Dew Point</th>\n",
       "      <th>Humidity</th>\n",
       "      <th>Wind</th>\n",
       "      <th>Wind Speed</th>\n",
       "      <th>Wind Gust</th>\n",
       "      <th>Pressure</th>\n",
       "      <th>Precip.</th>\n",
       "      <th>Condition</th>\n",
       "    </tr>\n",
       "  </thead>\n",
       "  <tbody>\n",
       "    <tr>\n",
       "      <th>0</th>\n",
       "      <td>12:00 AM</td>\n",
       "      <td>81 F</td>\n",
       "      <td>72 F</td>\n",
       "      <td>74 %</td>\n",
       "      <td>CALM</td>\n",
       "      <td>0 mph</td>\n",
       "      <td>0 mph</td>\n",
       "      <td>29.87 in</td>\n",
       "      <td>0.0 in</td>\n",
       "      <td>Fair</td>\n",
       "    </tr>\n",
       "    <tr>\n",
       "      <th>1</th>\n",
       "      <td>12:30 AM</td>\n",
       "      <td>81 F</td>\n",
       "      <td>72 F</td>\n",
       "      <td>74 %</td>\n",
       "      <td>CALM</td>\n",
       "      <td>0 mph</td>\n",
       "      <td>0 mph</td>\n",
       "      <td>29.87 in</td>\n",
       "      <td>0.0 in</td>\n",
       "      <td>Fair</td>\n",
       "    </tr>\n",
       "    <tr>\n",
       "      <th>2</th>\n",
       "      <td>1:00 AM</td>\n",
       "      <td>81 F</td>\n",
       "      <td>73 F</td>\n",
       "      <td>79 %</td>\n",
       "      <td>CALM</td>\n",
       "      <td>0 mph</td>\n",
       "      <td>0 mph</td>\n",
       "      <td>29.87 in</td>\n",
       "      <td>0.0 in</td>\n",
       "      <td>Fair</td>\n",
       "    </tr>\n",
       "    <tr>\n",
       "      <th>3</th>\n",
       "      <td>1:30 AM</td>\n",
       "      <td>81 F</td>\n",
       "      <td>73 F</td>\n",
       "      <td>79 %</td>\n",
       "      <td>SE</td>\n",
       "      <td>2 mph</td>\n",
       "      <td>0 mph</td>\n",
       "      <td>29.87 in</td>\n",
       "      <td>0.0 in</td>\n",
       "      <td>Fair</td>\n",
       "    </tr>\n",
       "    <tr>\n",
       "      <th>4</th>\n",
       "      <td>2:00 AM</td>\n",
       "      <td>81 F</td>\n",
       "      <td>72 F</td>\n",
       "      <td>74 %</td>\n",
       "      <td>CALM</td>\n",
       "      <td>0 mph</td>\n",
       "      <td>0 mph</td>\n",
       "      <td>29.87 in</td>\n",
       "      <td>0.0 in</td>\n",
       "      <td>Fair</td>\n",
       "    </tr>\n",
       "    <tr>\n",
       "      <th>5</th>\n",
       "      <td>2:30 AM</td>\n",
       "      <td>81 F</td>\n",
       "      <td>73 F</td>\n",
       "      <td>79 %</td>\n",
       "      <td>CALM</td>\n",
       "      <td>0 mph</td>\n",
       "      <td>0 mph</td>\n",
       "      <td>29.84 in</td>\n",
       "      <td>0.0 in</td>\n",
       "      <td>Fair</td>\n",
       "    </tr>\n",
       "    <tr>\n",
       "      <th>6</th>\n",
       "      <td>3:00 AM</td>\n",
       "      <td>79 F</td>\n",
       "      <td>73 F</td>\n",
       "      <td>83 %</td>\n",
       "      <td>N</td>\n",
       "      <td>3 mph</td>\n",
       "      <td>0 mph</td>\n",
       "      <td>29.84 in</td>\n",
       "      <td>0.0 in</td>\n",
       "      <td>Fair</td>\n",
       "    </tr>\n",
       "    <tr>\n",
       "      <th>7</th>\n",
       "      <td>3:30 AM</td>\n",
       "      <td>79 F</td>\n",
       "      <td>72 F</td>\n",
       "      <td>78 %</td>\n",
       "      <td>NNE</td>\n",
       "      <td>3 mph</td>\n",
       "      <td>0 mph</td>\n",
       "      <td>29.81 in</td>\n",
       "      <td>0.0 in</td>\n",
       "      <td>Fair</td>\n",
       "    </tr>\n",
       "    <tr>\n",
       "      <th>8</th>\n",
       "      <td>4:00 AM</td>\n",
       "      <td>79 F</td>\n",
       "      <td>72 F</td>\n",
       "      <td>78 %</td>\n",
       "      <td>NE</td>\n",
       "      <td>3 mph</td>\n",
       "      <td>0 mph</td>\n",
       "      <td>29.81 in</td>\n",
       "      <td>0.0 in</td>\n",
       "      <td>Fair</td>\n",
       "    </tr>\n",
       "    <tr>\n",
       "      <th>9</th>\n",
       "      <td>4:30 AM</td>\n",
       "      <td>79 F</td>\n",
       "      <td>72 F</td>\n",
       "      <td>78 %</td>\n",
       "      <td>CALM</td>\n",
       "      <td>0 mph</td>\n",
       "      <td>0 mph</td>\n",
       "      <td>29.81 in</td>\n",
       "      <td>0.0 in</td>\n",
       "      <td>Fair</td>\n",
       "    </tr>\n",
       "    <tr>\n",
       "      <th>10</th>\n",
       "      <td>5:00 AM</td>\n",
       "      <td>79 F</td>\n",
       "      <td>73 F</td>\n",
       "      <td>83 %</td>\n",
       "      <td>CALM</td>\n",
       "      <td>0 mph</td>\n",
       "      <td>0 mph</td>\n",
       "      <td>29.81 in</td>\n",
       "      <td>0.0 in</td>\n",
       "      <td>Fair</td>\n",
       "    </tr>\n",
       "    <tr>\n",
       "      <th>11</th>\n",
       "      <td>5:30 AM</td>\n",
       "      <td>79 F</td>\n",
       "      <td>72 F</td>\n",
       "      <td>78 %</td>\n",
       "      <td>CALM</td>\n",
       "      <td>0 mph</td>\n",
       "      <td>0 mph</td>\n",
       "      <td>29.81 in</td>\n",
       "      <td>0.0 in</td>\n",
       "      <td>Fair</td>\n",
       "    </tr>\n",
       "    <tr>\n",
       "      <th>12</th>\n",
       "      <td>6:00 AM</td>\n",
       "      <td>79 F</td>\n",
       "      <td>72 F</td>\n",
       "      <td>78 %</td>\n",
       "      <td>E</td>\n",
       "      <td>1 mph</td>\n",
       "      <td>0 mph</td>\n",
       "      <td>29.84 in</td>\n",
       "      <td>0.0 in</td>\n",
       "      <td>Fair</td>\n",
       "    </tr>\n",
       "    <tr>\n",
       "      <th>13</th>\n",
       "      <td>6:30 AM</td>\n",
       "      <td>79 F</td>\n",
       "      <td>72 F</td>\n",
       "      <td>78 %</td>\n",
       "      <td>ESE</td>\n",
       "      <td>2 mph</td>\n",
       "      <td>0 mph</td>\n",
       "      <td>29.84 in</td>\n",
       "      <td>0.0 in</td>\n",
       "      <td>Fair</td>\n",
       "    </tr>\n",
       "    <tr>\n",
       "      <th>14</th>\n",
       "      <td>7:00 AM</td>\n",
       "      <td>79 F</td>\n",
       "      <td>73 F</td>\n",
       "      <td>83 %</td>\n",
       "      <td>ESE</td>\n",
       "      <td>2 mph</td>\n",
       "      <td>0 mph</td>\n",
       "      <td>29.84 in</td>\n",
       "      <td>0.0 in</td>\n",
       "      <td>Fair</td>\n",
       "    </tr>\n",
       "    <tr>\n",
       "      <th>15</th>\n",
       "      <td>7:30 AM</td>\n",
       "      <td>81 F</td>\n",
       "      <td>73 F</td>\n",
       "      <td>79 %</td>\n",
       "      <td>ESE</td>\n",
       "      <td>3 mph</td>\n",
       "      <td>0 mph</td>\n",
       "      <td>29.87 in</td>\n",
       "      <td>0.0 in</td>\n",
       "      <td>Fair</td>\n",
       "    </tr>\n",
       "    <tr>\n",
       "      <th>16</th>\n",
       "      <td>8:00 AM</td>\n",
       "      <td>81 F</td>\n",
       "      <td>72 F</td>\n",
       "      <td>74 %</td>\n",
       "      <td>ESE</td>\n",
       "      <td>3 mph</td>\n",
       "      <td>0 mph</td>\n",
       "      <td>29.87 in</td>\n",
       "      <td>0.0 in</td>\n",
       "      <td>Fair</td>\n",
       "    </tr>\n",
       "    <tr>\n",
       "      <th>17</th>\n",
       "      <td>8:30 AM</td>\n",
       "      <td>82 F</td>\n",
       "      <td>72 F</td>\n",
       "      <td>70 %</td>\n",
       "      <td>ESE</td>\n",
       "      <td>3 mph</td>\n",
       "      <td>0 mph</td>\n",
       "      <td>29.90 in</td>\n",
       "      <td>0.0 in</td>\n",
       "      <td>Fair</td>\n",
       "    </tr>\n",
       "    <tr>\n",
       "      <th>18</th>\n",
       "      <td>9:00 AM</td>\n",
       "      <td>84 F</td>\n",
       "      <td>72 F</td>\n",
       "      <td>66 %</td>\n",
       "      <td>E</td>\n",
       "      <td>5 mph</td>\n",
       "      <td>0 mph</td>\n",
       "      <td>29.90 in</td>\n",
       "      <td>0.0 in</td>\n",
       "      <td>Fair</td>\n",
       "    </tr>\n",
       "    <tr>\n",
       "      <th>19</th>\n",
       "      <td>9:30 AM</td>\n",
       "      <td>86 F</td>\n",
       "      <td>73 F</td>\n",
       "      <td>66 %</td>\n",
       "      <td>ESE</td>\n",
       "      <td>3 mph</td>\n",
       "      <td>0 mph</td>\n",
       "      <td>29.90 in</td>\n",
       "      <td>0.0 in</td>\n",
       "      <td>Fair</td>\n",
       "    </tr>\n",
       "    <tr>\n",
       "      <th>20</th>\n",
       "      <td>10:00 AM</td>\n",
       "      <td>86 F</td>\n",
       "      <td>73 F</td>\n",
       "      <td>66 %</td>\n",
       "      <td>E</td>\n",
       "      <td>3 mph</td>\n",
       "      <td>0 mph</td>\n",
       "      <td>29.90 in</td>\n",
       "      <td>0.0 in</td>\n",
       "      <td>Fair</td>\n",
       "    </tr>\n",
       "    <tr>\n",
       "      <th>21</th>\n",
       "      <td>10:30 AM</td>\n",
       "      <td>88 F</td>\n",
       "      <td>72 F</td>\n",
       "      <td>58 %</td>\n",
       "      <td>ESE</td>\n",
       "      <td>5 mph</td>\n",
       "      <td>0 mph</td>\n",
       "      <td>29.90 in</td>\n",
       "      <td>0.0 in</td>\n",
       "      <td>Fair</td>\n",
       "    </tr>\n",
       "    <tr>\n",
       "      <th>22</th>\n",
       "      <td>11:00 AM</td>\n",
       "      <td>88 F</td>\n",
       "      <td>73 F</td>\n",
       "      <td>62 %</td>\n",
       "      <td>E</td>\n",
       "      <td>7 mph</td>\n",
       "      <td>0 mph</td>\n",
       "      <td>29.87 in</td>\n",
       "      <td>0.0 in</td>\n",
       "      <td>Fair</td>\n",
       "    </tr>\n",
       "    <tr>\n",
       "      <th>23</th>\n",
       "      <td>11:30 AM</td>\n",
       "      <td>88 F</td>\n",
       "      <td>72 F</td>\n",
       "      <td>58 %</td>\n",
       "      <td>E</td>\n",
       "      <td>7 mph</td>\n",
       "      <td>0 mph</td>\n",
       "      <td>29.87 in</td>\n",
       "      <td>0.0 in</td>\n",
       "      <td>Fair</td>\n",
       "    </tr>\n",
       "    <tr>\n",
       "      <th>24</th>\n",
       "      <td>12:00 PM</td>\n",
       "      <td>90 F</td>\n",
       "      <td>72 F</td>\n",
       "      <td>55 %</td>\n",
       "      <td>ENE</td>\n",
       "      <td>3 mph</td>\n",
       "      <td>0 mph</td>\n",
       "      <td>29.84 in</td>\n",
       "      <td>0.0 in</td>\n",
       "      <td>Fair</td>\n",
       "    </tr>\n",
       "    <tr>\n",
       "      <th>25</th>\n",
       "      <td>12:30 PM</td>\n",
       "      <td>91 F</td>\n",
       "      <td>70 F</td>\n",
       "      <td>49 %</td>\n",
       "      <td>SSE</td>\n",
       "      <td>6 mph</td>\n",
       "      <td>0 mph</td>\n",
       "      <td>29.84 in</td>\n",
       "      <td>0.0 in</td>\n",
       "      <td>Fair</td>\n",
       "    </tr>\n",
       "    <tr>\n",
       "      <th>26</th>\n",
       "      <td>1:00 PM</td>\n",
       "      <td>93 F</td>\n",
       "      <td>70 F</td>\n",
       "      <td>46 %</td>\n",
       "      <td>S</td>\n",
       "      <td>5 mph</td>\n",
       "      <td>0 mph</td>\n",
       "      <td>29.81 in</td>\n",
       "      <td>0.0 in</td>\n",
       "      <td>Partly Cloudy</td>\n",
       "    </tr>\n",
       "    <tr>\n",
       "      <th>27</th>\n",
       "      <td>1:30 PM</td>\n",
       "      <td>90 F</td>\n",
       "      <td>70 F</td>\n",
       "      <td>52 %</td>\n",
       "      <td>ESE</td>\n",
       "      <td>2 mph</td>\n",
       "      <td>0 mph</td>\n",
       "      <td>29.79 in</td>\n",
       "      <td>0.0 in</td>\n",
       "      <td>Partly Cloudy</td>\n",
       "    </tr>\n",
       "    <tr>\n",
       "      <th>28</th>\n",
       "      <td>2:00 PM</td>\n",
       "      <td>91 F</td>\n",
       "      <td>70 F</td>\n",
       "      <td>49 %</td>\n",
       "      <td>ENE</td>\n",
       "      <td>5 mph</td>\n",
       "      <td>0 mph</td>\n",
       "      <td>29.79 in</td>\n",
       "      <td>0.0 in</td>\n",
       "      <td>Partly Cloudy</td>\n",
       "    </tr>\n",
       "    <tr>\n",
       "      <th>29</th>\n",
       "      <td>2:30 PM</td>\n",
       "      <td>93 F</td>\n",
       "      <td>72 F</td>\n",
       "      <td>49 %</td>\n",
       "      <td>E</td>\n",
       "      <td>5 mph</td>\n",
       "      <td>0 mph</td>\n",
       "      <td>29.76 in</td>\n",
       "      <td>0.0 in</td>\n",
       "      <td>Fair</td>\n",
       "    </tr>\n",
       "    <tr>\n",
       "      <th>30</th>\n",
       "      <td>3:00 PM</td>\n",
       "      <td>93 F</td>\n",
       "      <td>70 F</td>\n",
       "      <td>46 %</td>\n",
       "      <td>ENE</td>\n",
       "      <td>8 mph</td>\n",
       "      <td>0 mph</td>\n",
       "      <td>29.76 in</td>\n",
       "      <td>0.0 in</td>\n",
       "      <td>Fair</td>\n",
       "    </tr>\n",
       "    <tr>\n",
       "      <th>31</th>\n",
       "      <td>3:30 PM</td>\n",
       "      <td>90 F</td>\n",
       "      <td>70 F</td>\n",
       "      <td>52 %</td>\n",
       "      <td>ENE</td>\n",
       "      <td>8 mph</td>\n",
       "      <td>0 mph</td>\n",
       "      <td>29.76 in</td>\n",
       "      <td>0.0 in</td>\n",
       "      <td>Fair</td>\n",
       "    </tr>\n",
       "    <tr>\n",
       "      <th>32</th>\n",
       "      <td>4:00 PM</td>\n",
       "      <td>90 F</td>\n",
       "      <td>70 F</td>\n",
       "      <td>52 %</td>\n",
       "      <td>E</td>\n",
       "      <td>3 mph</td>\n",
       "      <td>0 mph</td>\n",
       "      <td>29.76 in</td>\n",
       "      <td>0.0 in</td>\n",
       "      <td>Fair</td>\n",
       "    </tr>\n",
       "    <tr>\n",
       "      <th>33</th>\n",
       "      <td>4:30 PM</td>\n",
       "      <td>90 F</td>\n",
       "      <td>70 F</td>\n",
       "      <td>52 %</td>\n",
       "      <td>SE</td>\n",
       "      <td>5 mph</td>\n",
       "      <td>0 mph</td>\n",
       "      <td>29.76 in</td>\n",
       "      <td>0.0 in</td>\n",
       "      <td>Fair</td>\n",
       "    </tr>\n",
       "    <tr>\n",
       "      <th>34</th>\n",
       "      <td>5:00 PM</td>\n",
       "      <td>91 F</td>\n",
       "      <td>70 F</td>\n",
       "      <td>49 %</td>\n",
       "      <td>SSW</td>\n",
       "      <td>2 mph</td>\n",
       "      <td>0 mph</td>\n",
       "      <td>29.76 in</td>\n",
       "      <td>0.0 in</td>\n",
       "      <td>Fair</td>\n",
       "    </tr>\n",
       "    <tr>\n",
       "      <th>35</th>\n",
       "      <td>5:30 PM</td>\n",
       "      <td>90 F</td>\n",
       "      <td>72 F</td>\n",
       "      <td>55 %</td>\n",
       "      <td>SW</td>\n",
       "      <td>2 mph</td>\n",
       "      <td>0 mph</td>\n",
       "      <td>29.76 in</td>\n",
       "      <td>0.0 in</td>\n",
       "      <td>Fair</td>\n",
       "    </tr>\n",
       "    <tr>\n",
       "      <th>36</th>\n",
       "      <td>6:00 PM</td>\n",
       "      <td>88 F</td>\n",
       "      <td>72 F</td>\n",
       "      <td>58 %</td>\n",
       "      <td>WSW</td>\n",
       "      <td>8 mph</td>\n",
       "      <td>0 mph</td>\n",
       "      <td>29.76 in</td>\n",
       "      <td>0.0 in</td>\n",
       "      <td>Fair</td>\n",
       "    </tr>\n",
       "    <tr>\n",
       "      <th>37</th>\n",
       "      <td>6:30 PM</td>\n",
       "      <td>86 F</td>\n",
       "      <td>72 F</td>\n",
       "      <td>62 %</td>\n",
       "      <td>SSW</td>\n",
       "      <td>6 mph</td>\n",
       "      <td>0 mph</td>\n",
       "      <td>29.79 in</td>\n",
       "      <td>0.0 in</td>\n",
       "      <td>Fair</td>\n",
       "    </tr>\n",
       "    <tr>\n",
       "      <th>38</th>\n",
       "      <td>7:00 PM</td>\n",
       "      <td>84 F</td>\n",
       "      <td>72 F</td>\n",
       "      <td>66 %</td>\n",
       "      <td>SSW</td>\n",
       "      <td>3 mph</td>\n",
       "      <td>0 mph</td>\n",
       "      <td>29.79 in</td>\n",
       "      <td>0.0 in</td>\n",
       "      <td>Fair</td>\n",
       "    </tr>\n",
       "    <tr>\n",
       "      <th>39</th>\n",
       "      <td>7:30 PM</td>\n",
       "      <td>82 F</td>\n",
       "      <td>72 F</td>\n",
       "      <td>70 %</td>\n",
       "      <td>SSW</td>\n",
       "      <td>6 mph</td>\n",
       "      <td>0 mph</td>\n",
       "      <td>29.79 in</td>\n",
       "      <td>0.0 in</td>\n",
       "      <td>Fair</td>\n",
       "    </tr>\n",
       "    <tr>\n",
       "      <th>40</th>\n",
       "      <td>8:00 PM</td>\n",
       "      <td>82 F</td>\n",
       "      <td>72 F</td>\n",
       "      <td>70 %</td>\n",
       "      <td>SSW</td>\n",
       "      <td>7 mph</td>\n",
       "      <td>0 mph</td>\n",
       "      <td>29.81 in</td>\n",
       "      <td>0.0 in</td>\n",
       "      <td>Fair</td>\n",
       "    </tr>\n",
       "    <tr>\n",
       "      <th>41</th>\n",
       "      <td>8:30 PM</td>\n",
       "      <td>82 F</td>\n",
       "      <td>72 F</td>\n",
       "      <td>70 %</td>\n",
       "      <td>SSW</td>\n",
       "      <td>6 mph</td>\n",
       "      <td>0 mph</td>\n",
       "      <td>29.81 in</td>\n",
       "      <td>0.0 in</td>\n",
       "      <td>Fair</td>\n",
       "    </tr>\n",
       "    <tr>\n",
       "      <th>42</th>\n",
       "      <td>9:00 PM</td>\n",
       "      <td>82 F</td>\n",
       "      <td>72 F</td>\n",
       "      <td>70 %</td>\n",
       "      <td>SSW</td>\n",
       "      <td>5 mph</td>\n",
       "      <td>0 mph</td>\n",
       "      <td>29.81 in</td>\n",
       "      <td>0.0 in</td>\n",
       "      <td>Fair</td>\n",
       "    </tr>\n",
       "    <tr>\n",
       "      <th>43</th>\n",
       "      <td>9:30 PM</td>\n",
       "      <td>82 F</td>\n",
       "      <td>72 F</td>\n",
       "      <td>70 %</td>\n",
       "      <td>SSW</td>\n",
       "      <td>5 mph</td>\n",
       "      <td>0 mph</td>\n",
       "      <td>29.81 in</td>\n",
       "      <td>0.0 in</td>\n",
       "      <td>Fair</td>\n",
       "    </tr>\n",
       "    <tr>\n",
       "      <th>44</th>\n",
       "      <td>10:00 PM</td>\n",
       "      <td>82 F</td>\n",
       "      <td>72 F</td>\n",
       "      <td>70 %</td>\n",
       "      <td>SSW</td>\n",
       "      <td>5 mph</td>\n",
       "      <td>0 mph</td>\n",
       "      <td>29.81 in</td>\n",
       "      <td>0.0 in</td>\n",
       "      <td>Fair</td>\n",
       "    </tr>\n",
       "    <tr>\n",
       "      <th>45</th>\n",
       "      <td>10:30 PM</td>\n",
       "      <td>82 F</td>\n",
       "      <td>72 F</td>\n",
       "      <td>70 %</td>\n",
       "      <td>SSW</td>\n",
       "      <td>5 mph</td>\n",
       "      <td>0 mph</td>\n",
       "      <td>29.81 in</td>\n",
       "      <td>0.0 in</td>\n",
       "      <td>Fair</td>\n",
       "    </tr>\n",
       "    <tr>\n",
       "      <th>46</th>\n",
       "      <td>11:00 PM</td>\n",
       "      <td>82 F</td>\n",
       "      <td>72 F</td>\n",
       "      <td>70 %</td>\n",
       "      <td>S</td>\n",
       "      <td>2 mph</td>\n",
       "      <td>0 mph</td>\n",
       "      <td>29.81 in</td>\n",
       "      <td>0.0 in</td>\n",
       "      <td>Fair</td>\n",
       "    </tr>\n",
       "    <tr>\n",
       "      <th>47</th>\n",
       "      <td>11:30 PM</td>\n",
       "      <td>81 F</td>\n",
       "      <td>73 F</td>\n",
       "      <td>79 %</td>\n",
       "      <td>CALM</td>\n",
       "      <td>0 mph</td>\n",
       "      <td>0 mph</td>\n",
       "      <td>29.81 in</td>\n",
       "      <td>0.0 in</td>\n",
       "      <td>Fair</td>\n",
       "    </tr>\n",
       "    <tr>\n",
       "      <th>48</th>\n",
       "      <td>NaN</td>\n",
       "      <td>NaN</td>\n",
       "      <td>NaN</td>\n",
       "      <td>NaN</td>\n",
       "      <td>NaN</td>\n",
       "      <td>NaN</td>\n",
       "      <td>NaN</td>\n",
       "      <td>NaN</td>\n",
       "      <td>NaN</td>\n",
       "      <td>NaN</td>\n",
       "    </tr>\n",
       "    <tr>\n",
       "      <th>49</th>\n",
       "      <td>NaN</td>\n",
       "      <td>NaN</td>\n",
       "      <td>NaN</td>\n",
       "      <td>NaN</td>\n",
       "      <td>NaN</td>\n",
       "      <td>NaN</td>\n",
       "      <td>NaN</td>\n",
       "      <td>NaN</td>\n",
       "      <td>NaN</td>\n",
       "      <td>NaN</td>\n",
       "    </tr>\n",
       "    <tr>\n",
       "      <th>50</th>\n",
       "      <td>NaN</td>\n",
       "      <td>NaN</td>\n",
       "      <td>NaN</td>\n",
       "      <td>NaN</td>\n",
       "      <td>NaN</td>\n",
       "      <td>NaN</td>\n",
       "      <td>NaN</td>\n",
       "      <td>NaN</td>\n",
       "      <td>NaN</td>\n",
       "      <td>NaN</td>\n",
       "    </tr>\n",
       "    <tr>\n",
       "      <th>51</th>\n",
       "      <td>NaN</td>\n",
       "      <td>NaN</td>\n",
       "      <td>NaN</td>\n",
       "      <td>NaN</td>\n",
       "      <td>NaN</td>\n",
       "      <td>NaN</td>\n",
       "      <td>NaN</td>\n",
       "      <td>NaN</td>\n",
       "      <td>NaN</td>\n",
       "      <td>NaN</td>\n",
       "    </tr>\n",
       "    <tr>\n",
       "      <th>52</th>\n",
       "      <td>NaN</td>\n",
       "      <td>NaN</td>\n",
       "      <td>NaN</td>\n",
       "      <td>NaN</td>\n",
       "      <td>NaN</td>\n",
       "      <td>NaN</td>\n",
       "      <td>NaN</td>\n",
       "      <td>NaN</td>\n",
       "      <td>NaN</td>\n",
       "      <td>NaN</td>\n",
       "    </tr>\n",
       "    <tr>\n",
       "      <th>53</th>\n",
       "      <td>NaN</td>\n",
       "      <td>NaN</td>\n",
       "      <td>NaN</td>\n",
       "      <td>NaN</td>\n",
       "      <td>NaN</td>\n",
       "      <td>NaN</td>\n",
       "      <td>NaN</td>\n",
       "      <td>NaN</td>\n",
       "      <td>NaN</td>\n",
       "      <td>NaN</td>\n",
       "    </tr>\n",
       "    <tr>\n",
       "      <th>54</th>\n",
       "      <td>NaN</td>\n",
       "      <td>NaN</td>\n",
       "      <td>NaN</td>\n",
       "      <td>NaN</td>\n",
       "      <td>NaN</td>\n",
       "      <td>NaN</td>\n",
       "      <td>NaN</td>\n",
       "      <td>NaN</td>\n",
       "      <td>NaN</td>\n",
       "      <td>NaN</td>\n",
       "    </tr>\n",
       "    <tr>\n",
       "      <th>55</th>\n",
       "      <td>NaN</td>\n",
       "      <td>NaN</td>\n",
       "      <td>NaN</td>\n",
       "      <td>NaN</td>\n",
       "      <td>NaN</td>\n",
       "      <td>NaN</td>\n",
       "      <td>NaN</td>\n",
       "      <td>NaN</td>\n",
       "      <td>NaN</td>\n",
       "      <td>NaN</td>\n",
       "    </tr>\n",
       "    <tr>\n",
       "      <th>56</th>\n",
       "      <td>NaN</td>\n",
       "      <td>NaN</td>\n",
       "      <td>NaN</td>\n",
       "      <td>NaN</td>\n",
       "      <td>NaN</td>\n",
       "      <td>NaN</td>\n",
       "      <td>NaN</td>\n",
       "      <td>NaN</td>\n",
       "      <td>NaN</td>\n",
       "      <td>NaN</td>\n",
       "    </tr>\n",
       "    <tr>\n",
       "      <th>57</th>\n",
       "      <td>NaN</td>\n",
       "      <td>NaN</td>\n",
       "      <td>NaN</td>\n",
       "      <td>NaN</td>\n",
       "      <td>NaN</td>\n",
       "      <td>NaN</td>\n",
       "      <td>NaN</td>\n",
       "      <td>NaN</td>\n",
       "      <td>NaN</td>\n",
       "      <td>NaN</td>\n",
       "    </tr>\n",
       "  </tbody>\n",
       "</table>\n",
       "</div>"
      ],
      "text/plain": [
       "        Time Temperature Dew Point Humidity  Wind Wind Speed Wind Gust  \\\n",
       "0   12:00 AM        81 F      72 F     74 %  CALM      0 mph     0 mph   \n",
       "1   12:30 AM        81 F      72 F     74 %  CALM      0 mph     0 mph   \n",
       "2    1:00 AM        81 F      73 F     79 %  CALM      0 mph     0 mph   \n",
       "3    1:30 AM        81 F      73 F     79 %    SE      2 mph     0 mph   \n",
       "4    2:00 AM        81 F      72 F     74 %  CALM      0 mph     0 mph   \n",
       "5    2:30 AM        81 F      73 F     79 %  CALM      0 mph     0 mph   \n",
       "6    3:00 AM        79 F      73 F     83 %     N      3 mph     0 mph   \n",
       "7    3:30 AM        79 F      72 F     78 %   NNE      3 mph     0 mph   \n",
       "8    4:00 AM        79 F      72 F     78 %    NE      3 mph     0 mph   \n",
       "9    4:30 AM        79 F      72 F     78 %  CALM      0 mph     0 mph   \n",
       "10   5:00 AM        79 F      73 F     83 %  CALM      0 mph     0 mph   \n",
       "11   5:30 AM        79 F      72 F     78 %  CALM      0 mph     0 mph   \n",
       "12   6:00 AM        79 F      72 F     78 %     E      1 mph     0 mph   \n",
       "13   6:30 AM        79 F      72 F     78 %   ESE      2 mph     0 mph   \n",
       "14   7:00 AM        79 F      73 F     83 %   ESE      2 mph     0 mph   \n",
       "15   7:30 AM        81 F      73 F     79 %   ESE      3 mph     0 mph   \n",
       "16   8:00 AM        81 F      72 F     74 %   ESE      3 mph     0 mph   \n",
       "17   8:30 AM        82 F      72 F     70 %   ESE      3 mph     0 mph   \n",
       "18   9:00 AM        84 F      72 F     66 %     E      5 mph     0 mph   \n",
       "19   9:30 AM        86 F      73 F     66 %   ESE      3 mph     0 mph   \n",
       "20  10:00 AM        86 F      73 F     66 %     E      3 mph     0 mph   \n",
       "21  10:30 AM        88 F      72 F     58 %   ESE      5 mph     0 mph   \n",
       "22  11:00 AM        88 F      73 F     62 %     E      7 mph     0 mph   \n",
       "23  11:30 AM        88 F      72 F     58 %     E      7 mph     0 mph   \n",
       "24  12:00 PM        90 F      72 F     55 %   ENE      3 mph     0 mph   \n",
       "25  12:30 PM        91 F      70 F     49 %   SSE      6 mph     0 mph   \n",
       "26   1:00 PM        93 F      70 F     46 %     S      5 mph     0 mph   \n",
       "27   1:30 PM        90 F      70 F     52 %   ESE      2 mph     0 mph   \n",
       "28   2:00 PM        91 F      70 F     49 %   ENE      5 mph     0 mph   \n",
       "29   2:30 PM        93 F      72 F     49 %     E      5 mph     0 mph   \n",
       "30   3:00 PM        93 F      70 F     46 %   ENE      8 mph     0 mph   \n",
       "31   3:30 PM        90 F      70 F     52 %   ENE      8 mph     0 mph   \n",
       "32   4:00 PM        90 F      70 F     52 %     E      3 mph     0 mph   \n",
       "33   4:30 PM        90 F      70 F     52 %    SE      5 mph     0 mph   \n",
       "34   5:00 PM        91 F      70 F     49 %   SSW      2 mph     0 mph   \n",
       "35   5:30 PM        90 F      72 F     55 %    SW      2 mph     0 mph   \n",
       "36   6:00 PM        88 F      72 F     58 %   WSW      8 mph     0 mph   \n",
       "37   6:30 PM        86 F      72 F     62 %   SSW      6 mph     0 mph   \n",
       "38   7:00 PM        84 F      72 F     66 %   SSW      3 mph     0 mph   \n",
       "39   7:30 PM        82 F      72 F     70 %   SSW      6 mph     0 mph   \n",
       "40   8:00 PM        82 F      72 F     70 %   SSW      7 mph     0 mph   \n",
       "41   8:30 PM        82 F      72 F     70 %   SSW      6 mph     0 mph   \n",
       "42   9:00 PM        82 F      72 F     70 %   SSW      5 mph     0 mph   \n",
       "43   9:30 PM        82 F      72 F     70 %   SSW      5 mph     0 mph   \n",
       "44  10:00 PM        82 F      72 F     70 %   SSW      5 mph     0 mph   \n",
       "45  10:30 PM        82 F      72 F     70 %   SSW      5 mph     0 mph   \n",
       "46  11:00 PM        82 F      72 F     70 %     S      2 mph     0 mph   \n",
       "47  11:30 PM        81 F      73 F     79 %  CALM      0 mph     0 mph   \n",
       "48       NaN         NaN       NaN      NaN   NaN        NaN       NaN   \n",
       "49       NaN         NaN       NaN      NaN   NaN        NaN       NaN   \n",
       "50       NaN         NaN       NaN      NaN   NaN        NaN       NaN   \n",
       "51       NaN         NaN       NaN      NaN   NaN        NaN       NaN   \n",
       "52       NaN         NaN       NaN      NaN   NaN        NaN       NaN   \n",
       "53       NaN         NaN       NaN      NaN   NaN        NaN       NaN   \n",
       "54       NaN         NaN       NaN      NaN   NaN        NaN       NaN   \n",
       "55       NaN         NaN       NaN      NaN   NaN        NaN       NaN   \n",
       "56       NaN         NaN       NaN      NaN   NaN        NaN       NaN   \n",
       "57       NaN         NaN       NaN      NaN   NaN        NaN       NaN   \n",
       "\n",
       "    Pressure Precip.      Condition  \n",
       "0   29.87 in  0.0 in           Fair  \n",
       "1   29.87 in  0.0 in           Fair  \n",
       "2   29.87 in  0.0 in           Fair  \n",
       "3   29.87 in  0.0 in           Fair  \n",
       "4   29.87 in  0.0 in           Fair  \n",
       "5   29.84 in  0.0 in           Fair  \n",
       "6   29.84 in  0.0 in           Fair  \n",
       "7   29.81 in  0.0 in           Fair  \n",
       "8   29.81 in  0.0 in           Fair  \n",
       "9   29.81 in  0.0 in           Fair  \n",
       "10  29.81 in  0.0 in           Fair  \n",
       "11  29.81 in  0.0 in           Fair  \n",
       "12  29.84 in  0.0 in           Fair  \n",
       "13  29.84 in  0.0 in           Fair  \n",
       "14  29.84 in  0.0 in           Fair  \n",
       "15  29.87 in  0.0 in           Fair  \n",
       "16  29.87 in  0.0 in           Fair  \n",
       "17  29.90 in  0.0 in           Fair  \n",
       "18  29.90 in  0.0 in           Fair  \n",
       "19  29.90 in  0.0 in           Fair  \n",
       "20  29.90 in  0.0 in           Fair  \n",
       "21  29.90 in  0.0 in           Fair  \n",
       "22  29.87 in  0.0 in           Fair  \n",
       "23  29.87 in  0.0 in           Fair  \n",
       "24  29.84 in  0.0 in           Fair  \n",
       "25  29.84 in  0.0 in           Fair  \n",
       "26  29.81 in  0.0 in  Partly Cloudy  \n",
       "27  29.79 in  0.0 in  Partly Cloudy  \n",
       "28  29.79 in  0.0 in  Partly Cloudy  \n",
       "29  29.76 in  0.0 in           Fair  \n",
       "30  29.76 in  0.0 in           Fair  \n",
       "31  29.76 in  0.0 in           Fair  \n",
       "32  29.76 in  0.0 in           Fair  \n",
       "33  29.76 in  0.0 in           Fair  \n",
       "34  29.76 in  0.0 in           Fair  \n",
       "35  29.76 in  0.0 in           Fair  \n",
       "36  29.76 in  0.0 in           Fair  \n",
       "37  29.79 in  0.0 in           Fair  \n",
       "38  29.79 in  0.0 in           Fair  \n",
       "39  29.79 in  0.0 in           Fair  \n",
       "40  29.81 in  0.0 in           Fair  \n",
       "41  29.81 in  0.0 in           Fair  \n",
       "42  29.81 in  0.0 in           Fair  \n",
       "43  29.81 in  0.0 in           Fair  \n",
       "44  29.81 in  0.0 in           Fair  \n",
       "45  29.81 in  0.0 in           Fair  \n",
       "46  29.81 in  0.0 in           Fair  \n",
       "47  29.81 in  0.0 in           Fair  \n",
       "48       NaN     NaN            NaN  \n",
       "49       NaN     NaN            NaN  \n",
       "50       NaN     NaN            NaN  \n",
       "51       NaN     NaN            NaN  \n",
       "52       NaN     NaN            NaN  \n",
       "53       NaN     NaN            NaN  \n",
       "54       NaN     NaN            NaN  \n",
       "55       NaN     NaN            NaN  \n",
       "56       NaN     NaN            NaN  \n",
       "57       NaN     NaN            NaN  "
      ]
     },
     "execution_count": 40,
     "metadata": {},
     "output_type": "execute_result"
    }
   ],
   "source": [
    "df_list[-1]"
   ]
  },
  {
   "cell_type": "code",
   "execution_count": 11,
   "metadata": {},
   "outputs": [
    {
     "data": {
      "text/plain": [
       "'Mueang Chiang Mai, Chiang Mai, Thailand Weather History'"
      ]
     },
     "execution_count": 11,
     "metadata": {},
     "output_type": "execute_result"
    }
   ],
   "source": [
    "city_header = soup.find_all('lib-city-header')[0]\n",
    "lat_long = city_header.find_all('span')[0].text\n",
    "city_info = city_header.find_all('span')[1].text\n",
    "city_info"
   ]
  },
  {
   "cell_type": "code",
   "execution_count": null,
   "metadata": {},
   "outputs": [],
   "source": []
  },
  {
   "cell_type": "markdown",
   "metadata": {},
   "source": [
    "# Merge Weather Data from OpenWeatherMap"
   ]
  },
  {
   "cell_type": "code",
   "execution_count": 9,
   "metadata": {},
   "outputs": [],
   "source": [
    "# weather data \n",
    "city_name = 'Chaloem_Phra_Kiat'\n",
    "final_filename = f'C:/Users/Benny/Documents/Fern/aqi_thailand2/data/weather_cities/{city_name}.csv'\n",
    "try: \n",
    "    wea = pd.read_csv(filename)\n",
    "    wea['datetime'] = pd.to_datetime(wea['datetime'])\n",
    "    \n",
    "except:\n",
    "    wea = pd.DataFrame()"
   ]
  },
  {
   "cell_type": "code",
   "execution_count": 10,
   "metadata": {},
   "outputs": [],
   "source": [
    "folder = f'C:/Users/Benny/Documents/Fern/BKK-AQI/data/weather_cities/{city_name}/'\n",
    "files = glob(folder+'*.csv')\n",
    "# process data from OpenWeatherMap.org \n",
    "wea_df = pd.read_csv(files[0])\n",
    "wea_df = proc_open_weather(wea_df)"
   ]
  },
  {
   "cell_type": "code",
   "execution_count": 11,
   "metadata": {},
   "outputs": [],
   "source": [
    "new_wea = pd.concat([wea_df,wea])\n",
    "new_wea = new_wea.sort_values(['datetime'],ignore_index=True)\n",
    "new_wea = new_wea.drop_duplicates('datetime')"
   ]
  },
  {
   "cell_type": "code",
   "execution_count": 12,
   "metadata": {},
   "outputs": [
    {
     "data": {
      "text/html": [
       "<div>\n",
       "<style scoped>\n",
       "    .dataframe tbody tr th:only-of-type {\n",
       "        vertical-align: middle;\n",
       "    }\n",
       "\n",
       "    .dataframe tbody tr th {\n",
       "        vertical-align: top;\n",
       "    }\n",
       "\n",
       "    .dataframe thead th {\n",
       "        text-align: right;\n",
       "    }\n",
       "</style>\n",
       "<table border=\"1\" class=\"dataframe\">\n",
       "  <thead>\n",
       "    <tr style=\"text-align: right;\">\n",
       "      <th></th>\n",
       "      <th>datetime</th>\n",
       "      <th>Time</th>\n",
       "      <th>Temperature(C)</th>\n",
       "      <th>Humidity(%)</th>\n",
       "      <th>Wind</th>\n",
       "      <th>Wind_Speed(kmph</th>\n",
       "      <th>Pressure(hPa)</th>\n",
       "      <th>Precip.(mm)</th>\n",
       "      <th>Condition</th>\n",
       "    </tr>\n",
       "  </thead>\n",
       "  <tbody>\n",
       "    <tr>\n",
       "      <th>271582</th>\n",
       "      <td>2020-10-21 21:00:00</td>\n",
       "      <td>09:00 PM</td>\n",
       "      <td>22.37</td>\n",
       "      <td>85</td>\n",
       "      <td>ENE</td>\n",
       "      <td>10.692</td>\n",
       "      <td>1011</td>\n",
       "      <td>0.0</td>\n",
       "      <td>Clouds</td>\n",
       "    </tr>\n",
       "    <tr>\n",
       "      <th>271583</th>\n",
       "      <td>2020-10-21 22:00:00</td>\n",
       "      <td>10:00 PM</td>\n",
       "      <td>22.34</td>\n",
       "      <td>85</td>\n",
       "      <td>ENE</td>\n",
       "      <td>10.692</td>\n",
       "      <td>1011</td>\n",
       "      <td>0.0</td>\n",
       "      <td>Clouds</td>\n",
       "    </tr>\n",
       "    <tr>\n",
       "      <th>271584</th>\n",
       "      <td>2020-10-21 23:00:00</td>\n",
       "      <td>11:00 PM</td>\n",
       "      <td>22.37</td>\n",
       "      <td>85</td>\n",
       "      <td>ENE</td>\n",
       "      <td>10.692</td>\n",
       "      <td>1011</td>\n",
       "      <td>0.0</td>\n",
       "      <td>Clouds</td>\n",
       "    </tr>\n",
       "    <tr>\n",
       "      <th>271585</th>\n",
       "      <td>2020-10-22 00:00:00</td>\n",
       "      <td>12:00 AM</td>\n",
       "      <td>20.48</td>\n",
       "      <td>83</td>\n",
       "      <td>E</td>\n",
       "      <td>11.628</td>\n",
       "      <td>1011</td>\n",
       "      <td>0.0</td>\n",
       "      <td>Clear</td>\n",
       "    </tr>\n",
       "    <tr>\n",
       "      <th>271586</th>\n",
       "      <td>2020-10-22 01:00:00</td>\n",
       "      <td>01:00 AM</td>\n",
       "      <td>20.46</td>\n",
       "      <td>83</td>\n",
       "      <td>E</td>\n",
       "      <td>11.628</td>\n",
       "      <td>1011</td>\n",
       "      <td>0.0</td>\n",
       "      <td>Clear</td>\n",
       "    </tr>\n",
       "    <tr>\n",
       "      <th>271587</th>\n",
       "      <td>2020-10-22 02:00:00</td>\n",
       "      <td>02:00 AM</td>\n",
       "      <td>20.48</td>\n",
       "      <td>83</td>\n",
       "      <td>E</td>\n",
       "      <td>11.628</td>\n",
       "      <td>1011</td>\n",
       "      <td>0.0</td>\n",
       "      <td>Clear</td>\n",
       "    </tr>\n",
       "    <tr>\n",
       "      <th>271588</th>\n",
       "      <td>2020-10-22 03:00:00</td>\n",
       "      <td>03:00 AM</td>\n",
       "      <td>19.42</td>\n",
       "      <td>87</td>\n",
       "      <td>ENE</td>\n",
       "      <td>7.884</td>\n",
       "      <td>1010</td>\n",
       "      <td>0.0</td>\n",
       "      <td>Clouds</td>\n",
       "    </tr>\n",
       "    <tr>\n",
       "      <th>271589</th>\n",
       "      <td>2020-10-22 04:00:00</td>\n",
       "      <td>04:00 AM</td>\n",
       "      <td>19.42</td>\n",
       "      <td>87</td>\n",
       "      <td>ENE</td>\n",
       "      <td>7.884</td>\n",
       "      <td>1010</td>\n",
       "      <td>0.0</td>\n",
       "      <td>Clouds</td>\n",
       "    </tr>\n",
       "    <tr>\n",
       "      <th>271590</th>\n",
       "      <td>2020-10-22 05:00:00</td>\n",
       "      <td>05:00 AM</td>\n",
       "      <td>20.29</td>\n",
       "      <td>100</td>\n",
       "      <td>N</td>\n",
       "      <td>3.600</td>\n",
       "      <td>1011</td>\n",
       "      <td>0.0</td>\n",
       "      <td>Clouds</td>\n",
       "    </tr>\n",
       "    <tr>\n",
       "      <th>271591</th>\n",
       "      <td>2020-10-22 06:00:00</td>\n",
       "      <td>06:00 AM</td>\n",
       "      <td>20.46</td>\n",
       "      <td>100</td>\n",
       "      <td>N</td>\n",
       "      <td>3.600</td>\n",
       "      <td>1012</td>\n",
       "      <td>0.0</td>\n",
       "      <td>Clouds</td>\n",
       "    </tr>\n",
       "  </tbody>\n",
       "</table>\n",
       "</div>"
      ],
      "text/plain": [
       "                  datetime      Time  Temperature(C)  Humidity(%) Wind  \\\n",
       "271582 2020-10-21 21:00:00  09:00 PM           22.37           85  ENE   \n",
       "271583 2020-10-21 22:00:00  10:00 PM           22.34           85  ENE   \n",
       "271584 2020-10-21 23:00:00  11:00 PM           22.37           85  ENE   \n",
       "271585 2020-10-22 00:00:00  12:00 AM           20.48           83    E   \n",
       "271586 2020-10-22 01:00:00  01:00 AM           20.46           83    E   \n",
       "271587 2020-10-22 02:00:00  02:00 AM           20.48           83    E   \n",
       "271588 2020-10-22 03:00:00  03:00 AM           19.42           87  ENE   \n",
       "271589 2020-10-22 04:00:00  04:00 AM           19.42           87  ENE   \n",
       "271590 2020-10-22 05:00:00  05:00 AM           20.29          100    N   \n",
       "271591 2020-10-22 06:00:00  06:00 AM           20.46          100    N   \n",
       "\n",
       "        Wind_Speed(kmph  Pressure(hPa)  Precip.(mm) Condition  \n",
       "271582            10.692           1011          0.0    Clouds  \n",
       "271583            10.692           1011          0.0    Clouds  \n",
       "271584            10.692           1011          0.0    Clouds  \n",
       "271585            11.628           1011          0.0     Clear  \n",
       "271586            11.628           1011          0.0     Clear  \n",
       "271587            11.628           1011          0.0     Clear  \n",
       "271588             7.884           1010          0.0    Clouds  \n",
       "271589             7.884           1010          0.0    Clouds  \n",
       "271590             3.600           1011          0.0    Clouds  \n",
       "271591             3.600           1012          0.0    Clouds  "
      ]
     },
     "execution_count": 12,
     "metadata": {},
     "output_type": "execute_result"
    }
   ],
   "source": [
    "new_wea[new_wea['datetime'] > '2019-01-01'].tail(10)"
   ]
  },
  {
   "cell_type": "code",
   "execution_count": 17,
   "metadata": {},
   "outputs": [],
   "source": [
    "new_wea.to_csv(final_filename, index=False)"
   ]
  },
  {
   "cell_type": "markdown",
   "metadata": {},
   "source": [
    "## Fix Weather Units"
   ]
  },
  {
   "cell_type": "code",
   "execution_count": 59,
   "metadata": {},
   "outputs": [],
   "source": [
    "weather_files = glob(f'C:/Users/Benny/Documents/Fern/BKK-AQI/data/weather_cities/*.csv')\n",
    "\n",
    "for file in weather_files:\n",
    "    wea = pd.read_csv(file)\n",
    "    \n",
    "    # change columns order \n",
    "    wea = wea[['datetime', 'Time', 'Temperature(C)', 'Dew Point(C)', 'Humidity(%)',\n",
    "       'Wind', 'Wind_Speed(kmph)', 'Wind Gust(kmph)', 'Pressure(in)',\n",
    "       'Precip.(in)', 'Condition']]\n",
    "    # change Pressure col \n",
    "    col = 'Pressure(in)'\n",
    "    wea[col] = (wea[col]* 33.8638).round(0)\n",
    "    #wea.columns = wea.columns.str.replace('in', 'hPa')\n",
    "    col = 'Precip.(in)'\n",
    "    wea[col] = (wea[col]* 25.4).round(2)\n",
    "\n",
    "    wea.columns = ['datetime', 'Time', 'Temperature(C)', 'Dew Point(C)', 'Humidity(%)',\n",
    "       'Wind', 'Wind_Speed(kmph)', 'Wind Gust(kmph)', 'Pressure(hPa)',\n",
    "       'Precip.(mm)', 'Condition'] \n",
    "    wea.to_csv(file, index=False)"
   ]
  },
  {
   "cell_type": "code",
   "execution_count": 3,
   "metadata": {},
   "outputs": [],
   "source": [
    "weather_files = glob(f'C:/Users/Benny/Documents/Fern/BKK-AQI/data/weather_cities/*.csv')"
   ]
  },
  {
   "cell_type": "code",
   "execution_count": null,
   "metadata": {},
   "outputs": [],
   "source": [
    "for file in weather_files:\n",
    "    df = pd.read_csv(weather_files[-1])\n",
    "    df.columns = df.columns.str.replace(' ', '_')\n",
    "    df.to_csv(file, index=False)\n",
    "    "
   ]
  },
  {
   "cell_type": "markdown",
   "metadata": {},
   "source": [
    "# Holiday In Thailand\n",
    "\n",
    "https://www.timeanddate.com/holidays/thailand/2001"
   ]
  },
  {
   "cell_type": "code",
   "execution_count": 13,
   "metadata": {},
   "outputs": [],
   "source": [
    "years = np.arange(2000,2021)"
   ]
  },
  {
   "cell_type": "code",
   "execution_count": 14,
   "metadata": {},
   "outputs": [],
   "source": [
    "# scrape holiday from all websites\n",
    "th_holiday = pd.DataFrame()\n",
    "for year in years:\n",
    "    url = f'https://www.timeanddate.com/holidays/thailand/{year}'\n",
    "    df = pd.read_html(url)[0]\n",
    "    df['year'] = year\n",
    "    th_holiday = pd.concat([th_holiday,df],ignore_index=True)"
   ]
  },
  {
   "cell_type": "code",
   "execution_count": 17,
   "metadata": {},
   "outputs": [],
   "source": [
    "th_holiday.columns = ['Date', 'day_of_week','name','type','year']"
   ]
  },
  {
   "cell_type": "code",
   "execution_count": 22,
   "metadata": {},
   "outputs": [],
   "source": [
    "th_holiday = th_holiday[~th_holiday['Date'].isna()]"
   ]
  },
  {
   "cell_type": "code",
   "execution_count": 28,
   "metadata": {},
   "outputs": [],
   "source": [
    "th_holiday['date'] = th_holiday['Date'] + ', ' + th_holiday['year'].astype(str)\n",
    "th_holiday['date'] = pd.to_datetime(th_holiday['date'])"
   ]
  },
  {
   "cell_type": "code",
   "execution_count": 30,
   "metadata": {},
   "outputs": [],
   "source": [
    "th_holiday.to_csv('C:/Users/Benny/Documents/Fern/aqi_thailand2/data/th_holiday.csv',index=False)"
   ]
  },
  {
   "cell_type": "markdown",
   "metadata": {},
   "source": [
    "# Hotspots Data "
   ]
  },
  {
   "cell_type": "code",
   "execution_count": 16,
   "metadata": {},
   "outputs": [
    {
     "name": "stdout",
     "output_type": "stream",
     "text": [
      "{'stationID': '36t', 'nameTH': 'โรงเรียนยุพราชวิทยาลัย ', 'nameEN': 'Yupparaj Wittayalai School', 'areaTH': 'ต.ศรีภูมิ อ.เมือง, เชียงใหม่', 'areaEN': 'Si Phum, Meuang, Chiang Mai', 'stationType': 'GROUND', 'lat': '18.7909205', 'long': '98.9881062', 'LastUpdate': {'date': '2020-03-27', 'time': '03:00', 'PM25': {'value': '87', 'unit': 'µg/m³'}, 'PM10': {'value': '110', 'unit': 'µg/m³'}, 'O3': {'value': 'N/A', 'unit': 'ppb'}, 'CO': {'value': '1.09', 'unit': 'ppm'}, 'NO2': {'value': '-', 'unit': 'ppb'}, 'SO2': {'value': '2', 'unit': 'ppb'}, 'AQI': {'Level': '4', 'aqi': '192'}}}\n"
     ]
    }
   ],
   "source": [
    "# load stations information for Chiangmai\n",
    "station_info_file = aqm_folder + 'stations_locations.json'\n",
    "with open(station_info_file, 'r',encoding=\"utf8\") as f:\n",
    "    station_info = json.load(f)\n",
    "station_info = station_info['stations']\n",
    "\n",
    "print(station_info[124])"
   ]
  },
  {
   "cell_type": "code",
   "execution_count": 17,
   "metadata": {},
   "outputs": [
    {
     "name": "stdout",
     "output_type": "stream",
     "text": [
      "2117.0 11019.0\n"
     ]
    }
   ],
   "source": [
    "# obtain the lat and long in km\n",
    "lat_km = (merc_y(station_info[124]['lat'])/1E3 ).round()\n",
    "long_km = (merc_x(station_info[124]['long'])/1E3).round()\n",
    "print(lat_km,  long_km )"
   ]
  },
  {
   "cell_type": "code",
   "execution_count": 2,
   "metadata": {},
   "outputs": [],
   "source": [
    "# file map folder \n",
    "m_files = glob('C:/Users/Benny/Documents/Fern/aqi_thailand2/data/fire_map/world_2000-2020/M6/*.csv')\n",
    "v_files = glob('C:/Users/Benny/Documents/Fern/aqi_thailand2/data/fire_map/world_2000-2020/V1/*.csv')"
   ]
  },
  {
   "cell_type": "code",
   "execution_count": 19,
   "metadata": {
    "scrolled": false
   },
   "outputs": [
    {
     "name": "stderr",
     "output_type": "stream",
     "text": [
      "100%|█████████████████████████████████████████████████████████████████████████████████████████████████████| 21/21 [13:35<00:00, 38.83s/it]\n"
     ]
    }
   ],
   "source": [
    "# keep the file spot with distance 1000 km from the station\n",
    "distance = 1000 # km\n",
    "\n",
    "filename = 'C:/Users/Benny/Documents/Fern/aqi_thailand2/data/cm_proc/file_m.csv'\n",
    "\n",
    "\n",
    "file_all = pd.DataFrame()\n",
    "\n",
    "for file in tqdm(m_files):\n",
    "    f = pd.read_csv(file)\n",
    "     \n",
    "    # convert lat \n",
    "    f['lat_km'] = (f['latitude'].apply(merc_y)/1E3).round().astype(int)\n",
    "    f['long_km'] = (merc_x(f['longitude'])/1E3).round().astype(int)\n",
    "    # remove by lat \n",
    "    f = f[f['lat_km'] <= (lat_km+1000)]\n",
    "    f = f[f['lat_km'] >= (lat_km-1000)]\n",
    "    # remove by long \n",
    "\n",
    "    f = f[f['long_km'] <= (long_km+1000)]\n",
    "    f = f[f['long_km'] >= (long_km-1000)]\n",
    "     \n",
    "    file_all = pd.concat([file_all,f],ignore_index=True)\n",
    "        \n",
    "        \n",
    "file_all.to_csv(filename, index=False)"
   ]
  },
  {
   "cell_type": "code",
   "execution_count": 20,
   "metadata": {},
   "outputs": [
    {
     "name": "stderr",
     "output_type": "stream",
     "text": [
      "c:\\users\\benny\\pyenv\\geo\\lib\\site-packages\\IPython\\core\\interactiveshell.py:3242: DtypeWarning: Columns (10) have mixed types.Specify dtype option on import or set low_memory=False.\n",
      "  if (await self.run_code(code, result,  async_=asy)):\n"
     ]
    },
    {
     "name": "stdout",
     "output_type": "stream",
     "text": [
      "before drop (3901918, 18)\n",
      "after drop (3829241, 18)\n"
     ]
    }
   ],
   "source": [
    "m_filename = 'C:/Users/Benny/Documents/Fern/aqi_thailand2/data/cm_proc/file_m.csv'\n",
    "process_fire_data(m_filename)\n"
   ]
  },
  {
   "cell_type": "code",
   "execution_count": 40,
   "metadata": {},
   "outputs": [],
   "source": [
    "# keep the file spot with distance 1000 km from the station\n",
    "distance = 1000 # km\n",
    "\n",
    "filename = 'C:/Users/Benny/Documents/Fern/aqi_thailand2/data/cm_proc/file_v.csv'\n",
    "\n",
    "fire_all = pd.DataFrame()\n",
    "\n",
    "for file in v_files:\n",
    "    f = pd.read_csv(file)\n",
    "     \n",
    "    # convert lat \n",
    "    f['lat_km'] = (f['latitude'].apply(merc_y)/1E3).round()\n",
    "    f['long_km'] = (merc_x(f['longitude'])/1E3).round()\n",
    "    # remove by lat \n",
    "    f = f[f['lat_km'] <= (lat_km+1000)]\n",
    "    f = f[f['lat_km'] >= (lat_km-1000)]\n",
    "    # remove by long \n",
    "\n",
    "    f = f[f['long_km'] <= (long_km+1000)]\n",
    "    f = f[f['long_km'] >= (long_km-1000)]\n",
    "    \n",
    "    fire_all = pd.concat([fire_all,f],ignore_index=True)  \n",
    "     \n",
    "        \n",
    "fire_all.to_csv(filename, index=False)"
   ]
  },
  {
   "cell_type": "code",
   "execution_count": 19,
   "metadata": {},
   "outputs": [
    {
     "name": "stderr",
     "output_type": "stream",
     "text": [
      "c:\\users\\benny\\pyenv\\geo\\lib\\site-packages\\IPython\\core\\interactiveshell.py:3051: DtypeWarning: Columns (10,16) have mixed types.Specify dtype option on import or set low_memory=False.\n",
      "  interactivity=interactivity, compiler=compiler, result=result)\n"
     ]
    },
    {
     "data": {
      "text/plain": [
       "Index(['latitude', 'longitude', 'bright_ti4', 'scan', 'track', 'acq_date',\n",
       "       'acq_time', 'satellite', 'instrument', 'confidence', 'version',\n",
       "       'bright_ti5', 'frp', 'type', 'lat_km', 'long_km', 'daynight'],\n",
       "      dtype='object')"
      ]
     },
     "execution_count": 19,
     "metadata": {},
     "output_type": "execute_result"
    }
   ],
   "source": [
    "df = pd.read_csv('C:/Users/Benny/Documents/Fern/aqi_thailand2/data/cm_proc/file_v.csv')\n",
    "df.columns"
   ]
  },
  {
   "cell_type": "code",
   "execution_count": 20,
   "metadata": {},
   "outputs": [
    {
     "name": "stdout",
     "output_type": "stream",
     "text": [
      "before drop (9092222, 18)\n",
      "after drop (6925015, 18)\n"
     ]
    }
   ],
   "source": [
    "process_fire_data('C:/Users/Benny/Documents/Fern/aqi_thailand2/data/cm_proc/file_v.csv')"
   ]
  },
  {
   "cell_type": "markdown",
   "metadata": {},
   "source": [
    "## Fire For Chiang Mai"
   ]
  },
  {
   "cell_type": "code",
   "execution_count": 21,
   "metadata": {},
   "outputs": [
    {
     "name": "stdout",
     "output_type": "stream",
     "text": [
      "(3779468, 10)\n"
     ]
    },
    {
     "ename": "KeyError",
     "evalue": "\"['year' 'season'] not found in axis\"",
     "output_type": "error",
     "traceback": [
      "\u001b[1;31m---------------------------------------------------------------------------\u001b[0m",
      "\u001b[1;31mKeyError\u001b[0m                                  Traceback (most recent call last)",
      "\u001b[1;32m<ipython-input-21-be2f93342166>\u001b[0m in \u001b[0;36m<module>\u001b[1;34m\u001b[0m\n\u001b[0;32m     33\u001b[0m \u001b[0mfire\u001b[0m\u001b[1;33m[\u001b[0m\u001b[1;34m'power'\u001b[0m\u001b[1;33m]\u001b[0m \u001b[1;33m=\u001b[0m \u001b[0mfire\u001b[0m\u001b[1;33m[\u001b[0m\u001b[1;34m'scan'\u001b[0m\u001b[1;33m]\u001b[0m\u001b[1;33m*\u001b[0m\u001b[0mfire\u001b[0m\u001b[1;33m[\u001b[0m\u001b[1;34m'track'\u001b[0m\u001b[1;33m]\u001b[0m\u001b[1;33m*\u001b[0m\u001b[0mfire\u001b[0m\u001b[1;33m[\u001b[0m\u001b[1;34m'frp'\u001b[0m\u001b[1;33m]\u001b[0m\u001b[1;33m\u001b[0m\u001b[1;33m\u001b[0m\u001b[0m\n\u001b[0;32m     34\u001b[0m \u001b[0mfire\u001b[0m\u001b[1;33m[\u001b[0m\u001b[1;34m'count'\u001b[0m\u001b[1;33m]\u001b[0m \u001b[1;33m=\u001b[0m \u001b[1;36m1\u001b[0m\u001b[1;33m\u001b[0m\u001b[1;33m\u001b[0m\u001b[0m\n\u001b[1;32m---> 35\u001b[1;33m \u001b[0mfire\u001b[0m \u001b[1;33m=\u001b[0m \u001b[0mfire\u001b[0m\u001b[1;33m.\u001b[0m\u001b[0mdrop\u001b[0m\u001b[1;33m(\u001b[0m\u001b[1;33m[\u001b[0m\u001b[1;34m'latitude'\u001b[0m\u001b[1;33m,\u001b[0m \u001b[1;34m'longitude'\u001b[0m\u001b[1;33m,\u001b[0m \u001b[1;34m'brightness'\u001b[0m\u001b[1;33m,\u001b[0m\u001b[1;34m'year'\u001b[0m\u001b[1;33m,\u001b[0m\u001b[1;34m'season'\u001b[0m\u001b[1;33m,\u001b[0m\u001b[1;34m'acq_time'\u001b[0m\u001b[1;33m,\u001b[0m\u001b[1;34m'track'\u001b[0m\u001b[1;33m,\u001b[0m\u001b[1;34m'scan'\u001b[0m\u001b[1;33m,\u001b[0m\u001b[1;34m'frp'\u001b[0m\u001b[1;33m]\u001b[0m\u001b[1;33m,\u001b[0m \u001b[0maxis\u001b[0m\u001b[1;33m=\u001b[0m\u001b[1;36m1\u001b[0m\u001b[1;33m)\u001b[0m\u001b[1;33m\u001b[0m\u001b[1;33m\u001b[0m\u001b[0m\n\u001b[0m\u001b[0;32m     36\u001b[0m \u001b[0mfire\u001b[0m\u001b[1;33m.\u001b[0m\u001b[0mto_csv\u001b[0m\u001b[1;33m(\u001b[0m\u001b[1;34m'C:/Users/Benny/Documents/Fern/aqi_thailand2/data/cm_proc/file_m_proc.csv'\u001b[0m\u001b[1;33m)\u001b[0m\u001b[1;33m\u001b[0m\u001b[1;33m\u001b[0m\u001b[0m\n",
      "\u001b[1;32mc:\\users\\benny\\pyenv\\geo\\lib\\site-packages\\pandas\\core\\frame.py\u001b[0m in \u001b[0;36mdrop\u001b[1;34m(self, labels, axis, index, columns, level, inplace, errors)\u001b[0m\n\u001b[0;32m   3992\u001b[0m             \u001b[0mlevel\u001b[0m\u001b[1;33m=\u001b[0m\u001b[0mlevel\u001b[0m\u001b[1;33m,\u001b[0m\u001b[1;33m\u001b[0m\u001b[1;33m\u001b[0m\u001b[0m\n\u001b[0;32m   3993\u001b[0m             \u001b[0minplace\u001b[0m\u001b[1;33m=\u001b[0m\u001b[0minplace\u001b[0m\u001b[1;33m,\u001b[0m\u001b[1;33m\u001b[0m\u001b[1;33m\u001b[0m\u001b[0m\n\u001b[1;32m-> 3994\u001b[1;33m             \u001b[0merrors\u001b[0m\u001b[1;33m=\u001b[0m\u001b[0merrors\u001b[0m\u001b[1;33m,\u001b[0m\u001b[1;33m\u001b[0m\u001b[1;33m\u001b[0m\u001b[0m\n\u001b[0m\u001b[0;32m   3995\u001b[0m         )\n\u001b[0;32m   3996\u001b[0m \u001b[1;33m\u001b[0m\u001b[0m\n",
      "\u001b[1;32mc:\\users\\benny\\pyenv\\geo\\lib\\site-packages\\pandas\\core\\generic.py\u001b[0m in \u001b[0;36mdrop\u001b[1;34m(self, labels, axis, index, columns, level, inplace, errors)\u001b[0m\n\u001b[0;32m   3933\u001b[0m         \u001b[1;32mfor\u001b[0m \u001b[0maxis\u001b[0m\u001b[1;33m,\u001b[0m \u001b[0mlabels\u001b[0m \u001b[1;32min\u001b[0m \u001b[0maxes\u001b[0m\u001b[1;33m.\u001b[0m\u001b[0mitems\u001b[0m\u001b[1;33m(\u001b[0m\u001b[1;33m)\u001b[0m\u001b[1;33m:\u001b[0m\u001b[1;33m\u001b[0m\u001b[1;33m\u001b[0m\u001b[0m\n\u001b[0;32m   3934\u001b[0m             \u001b[1;32mif\u001b[0m \u001b[0mlabels\u001b[0m \u001b[1;32mis\u001b[0m \u001b[1;32mnot\u001b[0m \u001b[1;32mNone\u001b[0m\u001b[1;33m:\u001b[0m\u001b[1;33m\u001b[0m\u001b[1;33m\u001b[0m\u001b[0m\n\u001b[1;32m-> 3935\u001b[1;33m                 \u001b[0mobj\u001b[0m \u001b[1;33m=\u001b[0m \u001b[0mobj\u001b[0m\u001b[1;33m.\u001b[0m\u001b[0m_drop_axis\u001b[0m\u001b[1;33m(\u001b[0m\u001b[0mlabels\u001b[0m\u001b[1;33m,\u001b[0m \u001b[0maxis\u001b[0m\u001b[1;33m,\u001b[0m \u001b[0mlevel\u001b[0m\u001b[1;33m=\u001b[0m\u001b[0mlevel\u001b[0m\u001b[1;33m,\u001b[0m \u001b[0merrors\u001b[0m\u001b[1;33m=\u001b[0m\u001b[0merrors\u001b[0m\u001b[1;33m)\u001b[0m\u001b[1;33m\u001b[0m\u001b[1;33m\u001b[0m\u001b[0m\n\u001b[0m\u001b[0;32m   3936\u001b[0m \u001b[1;33m\u001b[0m\u001b[0m\n\u001b[0;32m   3937\u001b[0m         \u001b[1;32mif\u001b[0m \u001b[0minplace\u001b[0m\u001b[1;33m:\u001b[0m\u001b[1;33m\u001b[0m\u001b[1;33m\u001b[0m\u001b[0m\n",
      "\u001b[1;32mc:\\users\\benny\\pyenv\\geo\\lib\\site-packages\\pandas\\core\\generic.py\u001b[0m in \u001b[0;36m_drop_axis\u001b[1;34m(self, labels, axis, level, errors)\u001b[0m\n\u001b[0;32m   3967\u001b[0m                 \u001b[0mnew_axis\u001b[0m \u001b[1;33m=\u001b[0m \u001b[0maxis\u001b[0m\u001b[1;33m.\u001b[0m\u001b[0mdrop\u001b[0m\u001b[1;33m(\u001b[0m\u001b[0mlabels\u001b[0m\u001b[1;33m,\u001b[0m \u001b[0mlevel\u001b[0m\u001b[1;33m=\u001b[0m\u001b[0mlevel\u001b[0m\u001b[1;33m,\u001b[0m \u001b[0merrors\u001b[0m\u001b[1;33m=\u001b[0m\u001b[0merrors\u001b[0m\u001b[1;33m)\u001b[0m\u001b[1;33m\u001b[0m\u001b[1;33m\u001b[0m\u001b[0m\n\u001b[0;32m   3968\u001b[0m             \u001b[1;32melse\u001b[0m\u001b[1;33m:\u001b[0m\u001b[1;33m\u001b[0m\u001b[1;33m\u001b[0m\u001b[0m\n\u001b[1;32m-> 3969\u001b[1;33m                 \u001b[0mnew_axis\u001b[0m \u001b[1;33m=\u001b[0m \u001b[0maxis\u001b[0m\u001b[1;33m.\u001b[0m\u001b[0mdrop\u001b[0m\u001b[1;33m(\u001b[0m\u001b[0mlabels\u001b[0m\u001b[1;33m,\u001b[0m \u001b[0merrors\u001b[0m\u001b[1;33m=\u001b[0m\u001b[0merrors\u001b[0m\u001b[1;33m)\u001b[0m\u001b[1;33m\u001b[0m\u001b[1;33m\u001b[0m\u001b[0m\n\u001b[0m\u001b[0;32m   3970\u001b[0m             \u001b[0mresult\u001b[0m \u001b[1;33m=\u001b[0m \u001b[0mself\u001b[0m\u001b[1;33m.\u001b[0m\u001b[0mreindex\u001b[0m\u001b[1;33m(\u001b[0m\u001b[1;33m**\u001b[0m\u001b[1;33m{\u001b[0m\u001b[0maxis_name\u001b[0m\u001b[1;33m:\u001b[0m \u001b[0mnew_axis\u001b[0m\u001b[1;33m}\u001b[0m\u001b[1;33m)\u001b[0m\u001b[1;33m\u001b[0m\u001b[1;33m\u001b[0m\u001b[0m\n\u001b[0;32m   3971\u001b[0m \u001b[1;33m\u001b[0m\u001b[0m\n",
      "\u001b[1;32mc:\\users\\benny\\pyenv\\geo\\lib\\site-packages\\pandas\\core\\indexes\\base.py\u001b[0m in \u001b[0;36mdrop\u001b[1;34m(self, labels, errors)\u001b[0m\n\u001b[0;32m   5016\u001b[0m         \u001b[1;32mif\u001b[0m \u001b[0mmask\u001b[0m\u001b[1;33m.\u001b[0m\u001b[0many\u001b[0m\u001b[1;33m(\u001b[0m\u001b[1;33m)\u001b[0m\u001b[1;33m:\u001b[0m\u001b[1;33m\u001b[0m\u001b[1;33m\u001b[0m\u001b[0m\n\u001b[0;32m   5017\u001b[0m             \u001b[1;32mif\u001b[0m \u001b[0merrors\u001b[0m \u001b[1;33m!=\u001b[0m \u001b[1;34m\"ignore\"\u001b[0m\u001b[1;33m:\u001b[0m\u001b[1;33m\u001b[0m\u001b[1;33m\u001b[0m\u001b[0m\n\u001b[1;32m-> 5018\u001b[1;33m                 \u001b[1;32mraise\u001b[0m \u001b[0mKeyError\u001b[0m\u001b[1;33m(\u001b[0m\u001b[1;34mf\"{labels[mask]} not found in axis\"\u001b[0m\u001b[1;33m)\u001b[0m\u001b[1;33m\u001b[0m\u001b[1;33m\u001b[0m\u001b[0m\n\u001b[0m\u001b[0;32m   5019\u001b[0m             \u001b[0mindexer\u001b[0m \u001b[1;33m=\u001b[0m \u001b[0mindexer\u001b[0m\u001b[1;33m[\u001b[0m\u001b[1;33m~\u001b[0m\u001b[0mmask\u001b[0m\u001b[1;33m]\u001b[0m\u001b[1;33m\u001b[0m\u001b[1;33m\u001b[0m\u001b[0m\n\u001b[0;32m   5020\u001b[0m         \u001b[1;32mreturn\u001b[0m \u001b[0mself\u001b[0m\u001b[1;33m.\u001b[0m\u001b[0mdelete\u001b[0m\u001b[1;33m(\u001b[0m\u001b[0mindexer\u001b[0m\u001b[1;33m)\u001b[0m\u001b[1;33m\u001b[0m\u001b[1;33m\u001b[0m\u001b[0m\n",
      "\u001b[1;31mKeyError\u001b[0m: \"['year' 'season'] not found in axis\""
     ]
    }
   ],
   "source": [
    "city_info = {'Country': 'Thailand',\n",
    " 'City': 'Chiang Mai',\n",
    " 'City (ASCII)': 'Chiang Mai',\n",
    " 'Region': 'Chiang Mai',\n",
    " 'Region (ASCII)': 'Chiang Mai',\n",
    " 'Population': '200952',\n",
    " 'Latitude': '18.7904',\n",
    " 'Longitude': '98.9847',\n",
    " 'Time Zone': 'Asia/Bangkok'}\n",
    "\n",
    "x = merc_x(city_info['Longitude'])\n",
    "y = merc_y(city_info['Latitude'])\n",
    "stepx = 800E3\n",
    "stepy = stepx\n",
    "\n",
    "#fire_v = pd.read_csv('C:/Users/Benny/Documents/Fern/aqi_thailand2/data/cm_proc/file_v.csv')\n",
    "m_filename = 'C:/Users/Benny/Documents/Fern/aqi_thailand2/data/cm_proc/file_m.csv'\n",
    "fire = pd.read_csv(m_filename, dtype={'version': str})\n",
    "columns_to_drop = ['acq_date','satellite','instrument','version','daynight','bright_t31','type']\n",
    "fire = fire.drop(columns_to_drop,axis=1)\n",
    "fire['datetime'] = pd.to_datetime(fire['datetime'])\n",
    "fire = fire.sort_values('datetime')\n",
    "fire = fire.set_index('datetime')\n",
    "# remove the data before '2002-07-04' because there is only one satellite\n",
    "fire = fire.loc['2002-07-04':]\n",
    "print(fire.shape)\n",
    "\n",
    "\n",
    "# add distance columns\n",
    "fire['distance'] = np.sqrt((fire['lat_km'] - y/1000) **2 + ((fire['long_km'] - x/1000)**2))\n",
    "\n",
    "# create power column and drop unncessary columns\n",
    "fire['power'] = fire['scan']*fire['track']*fire['frp']\n",
    "fire['count'] = 1\n",
    "fire = fire.drop(['latitude', 'longitude', 'brightness','year','season','acq_time','track','scan','frp'], axis=1)\n",
    "fire.to_csv('C:/Users/Benny/Documents/Fern/aqi_thailand2/data/cm_proc/file_m_proc.csv')"
   ]
  },
  {
   "cell_type": "markdown",
   "metadata": {},
   "source": [
    "## Impove Speed of Files reading"
   ]
  },
  {
   "cell_type": "code",
   "execution_count": 6,
   "metadata": {},
   "outputs": [],
   "source": [
    "lat_km = 2117.0 \n",
    "long_km = 11019.0\n",
    "m_files = glob('C:/Users/Benny/Documents/Fern/aqi_thailand2/data/fire_map/world_2000-2020/M6/*.csv')"
   ]
  },
  {
   "cell_type": "code",
   "execution_count": 4,
   "metadata": {},
   "outputs": [
    {
     "name": "stderr",
     "output_type": "stream",
     "text": [
      "100%|█████████████████████████████████████████████████████████████████████████████████████████████████████| 22/22 [16:11<00:00, 44.15s/it]"
     ]
    },
    {
     "name": "stdout",
     "output_type": "stream",
     "text": [
      "Wall time: 16min 11s\n"
     ]
    },
    {
     "name": "stderr",
     "output_type": "stream",
     "text": [
      "\n"
     ]
    }
   ],
   "source": [
    "%%time\n",
    "\n",
    "# check the time without threading  \n",
    "file_all = pd.DataFrame()\n",
    "\n",
    "for file in tqdm(m_files):\n",
    "    f = pd.read_csv(file)\n",
    "     \n",
    "    # convert lat \n",
    "    f['lat_km'] = (f['latitude'].apply(merc_y)/1E3).round().astype(int)\n",
    "    f['long_km'] = (merc_x(f['longitude'])/1E3).round().astype(int)\n",
    "    # remove by lat \n",
    "    f = f[f['lat_km'] <= (lat_km+1000)]\n",
    "    f = f[f['lat_km'] >= (lat_km-1000)]\n",
    "    # remove by long \n",
    "\n",
    "    f = f[f['long_km'] <= (long_km+1000)]\n",
    "    f = f[f['long_km'] >= (long_km-1000)]\n",
    "     \n",
    "    file_all = pd.concat([file_all,f],ignore_index=True)"
   ]
  },
  {
   "cell_type": "code",
   "execution_count": 5,
   "metadata": {},
   "outputs": [],
   "source": [
    "from concurrent.futures import ThreadPoolExecutor\n",
    "import concurrent.futures"
   ]
  },
  {
   "cell_type": "code",
   "execution_count": 22,
   "metadata": {},
   "outputs": [],
   "source": [
    "\n",
    "def read_fire(file,lat_km, long_km):\n",
    "   \n",
    "    f = pd.read_csv(file)\n",
    "     \n",
    "    # convert lat \n",
    "    f['lat_km'] = (f['latitude'].apply(merc_y)/1E3).round().astype(int)\n",
    "    f['long_km'] = (merc_x(f['longitude'])/1E3).round().astype(int)\n",
    "    # remove by lat \n",
    "    f = f[(f['lat_km'] <= (lat_km+1000)) & (f['lat_km'] >= (lat_km-1000))]\n",
    "    # remove by long \n",
    "    f = f[(f['long_km'] <= (long_km+1000)) & (f['long_km'] >= (long_km-1000))]\n",
    "    return f\n",
    " \n",
    "\n",
    "def read_fire_dd(file,lat_km, long_km):\n",
    "   \n",
    "    f = dd.read_csv(file)\n",
    "     \n",
    "    # convert lat \n",
    "    f['lat_km'] = (f['latitude'].apply(merc_y)/1E3).round().astype(int)\n",
    "    f['long_km'] = (merc_x(f['longitude'])/1E3).round().astype(int)\n",
    "    # remove by lat \n",
    "    f = f[(f['lat_km'] <= (lat_km+1000)) & (f['lat_km'] >= (lat_km-1000))]\n",
    "    # remove by long \n",
    "    f = f[(f['long_km'] <= (long_km+1000)) & (f['long_km'] >= (long_km-1000))]\n",
    "    return f\n",
    "    \n",
    "    "
   ]
  },
  {
   "cell_type": "code",
   "execution_count": 24,
   "metadata": {
    "code_folding": [
     0
    ]
   },
   "outputs": [],
   "source": [
    "def read_fires(files,lat_km, long_km):\n",
    "    \n",
    "    all_fire = pd.DataFrame()\n",
    "    for file in files:\n",
    "        if file != None:\n",
    "            f = pd.read_csv(file)\n",
    "     \n",
    "            # convert lat \n",
    "            f['lat_km'] = (f['latitude'].apply(merc_y)/1E3).round().astype(int)\n",
    "            f['long_km'] = (merc_x(f['longitude'])/1E3).round().astype(int)\n",
    "            # remove by lat \n",
    "            f = f[(f['lat_km'] <= (lat_km+1000)) & (f['lat_km'] >= (lat_km-1000))]\n",
    "            # remove by long \n",
    "            f = f[(f['long_km'] <= (long_km+1000)) & (f['long_km'] >= (long_km-1000))]\n",
    "            all_fire = pd.concat([all_fire, f], ignore_index=True)\n",
    "    return all_fire"
   ]
  },
  {
   "cell_type": "code",
   "execution_count": 15,
   "metadata": {},
   "outputs": [],
   "source": [
    "from itertools import zip_longest\n",
    "\n",
    "def grouper(iterable, n, fillvalue=None):\n",
    "    \"Collect data into fixed-length chunks or blocks\"\n",
    "    # grouper('ABCDEFG', 3, 'x') --> ABC DEF Gxx\"\n",
    "    args = [iter(iterable)] * n\n",
    "    return zip_longest(*args, fillvalue=fillvalue)"
   ]
  },
  {
   "cell_type": "code",
   "execution_count": 11,
   "metadata": {},
   "outputs": [
    {
     "name": "stdout",
     "output_type": "stream",
     "text": [
      "(229176, 17)\n",
      "(235249, 17)\n",
      "(214976, 17)\n",
      "(234913, 17)\n",
      "(165272, 17)\n",
      "(288160, 17)\n",
      "(230523, 17)\n",
      "(176189, 17)\n",
      "(276734, 17)\n",
      "(198856, 17)\n",
      "(225431, 17)\n",
      "(276406, 17)\n",
      "(7802, 17)\n",
      "(2898, 17)\n",
      "(195966, 17)\n",
      "(45055, 17)\n",
      "(210563, 17)\n",
      "(198697, 17)\n",
      "(142868, 17)\n",
      "(155097, 17)\n",
      "(49102, 16)\n",
      "(149221, 17)\n",
      "Wall time: 13min 16s\n"
     ]
    }
   ],
   "source": [
    "%%time\n",
    "# try with threadpoolExecutor\n",
    "with ThreadPoolExecutor(max_workers=3) as executor:\n",
    "    future_list = [executor.submit(read_fire, file, lat_km, long_km) for file in m_files]\n",
    "    fire_all = pd.DataFrame()\n",
    "    for future in concurrent.futures.as_completed(future_list):\n",
    "        df = future.result()\n",
    "        print(df.shape)"
   ]
  },
  {
   "cell_type": "code",
   "execution_count": 25,
   "metadata": {},
   "outputs": [
    {
     "name": "stdout",
     "output_type": "stream",
     "text": [
      "(251721, 17)\n",
      "(860144, 17)\n",
      "(914314, 17)\n",
      "(204199, 17)\n",
      "(977427, 17)\n",
      "(701349, 17)\n",
      "Wall time: 17min 39s\n"
     ]
    }
   ],
   "source": [
    "%%time\n",
    "\n",
    "with ThreadPoolExecutor(max_workers=4) as executor:\n",
    "    future_list = [executor.submit(read_fires, group, lat_km, long_km) for group in grouper(m_files, 4)]\n",
    "    fire_all = pd.DataFrame()\n",
    "    for future in concurrent.futures.as_completed(future_list):\n",
    "        df = future.result()\n",
    "        print(df.shape)"
   ]
  },
  {
   "cell_type": "code",
   "execution_count": 4,
   "metadata": {},
   "outputs": [],
   "source": [
    "import dask.dataframe as dd"
   ]
  },
  {
   "cell_type": "code",
   "execution_count": 7,
   "metadata": {},
   "outputs": [
    {
     "data": {
      "text/plain": [
       "'C:/Users/Benny/Documents/Fern/aqi_thailand2/data/fire_map/world_2000-2020/M6\\\\fire_archive_M6_100871.csv'"
      ]
     },
     "execution_count": 7,
     "metadata": {},
     "output_type": "execute_result"
    }
   ],
   "source": [
    "m_files[0]"
   ]
  },
  {
   "cell_type": "code",
   "execution_count": 10,
   "metadata": {},
   "outputs": [],
   "source": [
    "df = dd.read_csv(m_files[0])\n",
    "df['lat_km'] = (df['latitude'].apply(merc_y)/1E3).round().astype(int)\n",
    "df['long_km'] = (merc_x(df['longitude'])/1E3).round().astype(int)\n",
    "# remove by lat \n",
    "df = df[(df['lat_km'] <= (lat_km+1000)) & (df['lat_km'] >= (lat_km-1000))]\n",
    "# remove by long \n",
    "df = df[(df['long_km'] <= (long_km+1000)) & (df['long_km'] >= (long_km-1000))]"
   ]
  },
  {
   "cell_type": "code",
   "execution_count": 11,
   "metadata": {},
   "outputs": [
    {
     "data": {
      "text/html": [
       "<div>\n",
       "<style scoped>\n",
       "    .dataframe tbody tr th:only-of-type {\n",
       "        vertical-align: middle;\n",
       "    }\n",
       "\n",
       "    .dataframe tbody tr th {\n",
       "        vertical-align: top;\n",
       "    }\n",
       "\n",
       "    .dataframe thead th {\n",
       "        text-align: right;\n",
       "    }\n",
       "</style>\n",
       "<table border=\"1\" class=\"dataframe\">\n",
       "  <thead>\n",
       "    <tr style=\"text-align: right;\">\n",
       "      <th></th>\n",
       "      <th>latitude</th>\n",
       "      <th>longitude</th>\n",
       "      <th>brightness</th>\n",
       "      <th>scan</th>\n",
       "      <th>track</th>\n",
       "      <th>acq_date</th>\n",
       "      <th>acq_time</th>\n",
       "      <th>satellite</th>\n",
       "      <th>instrument</th>\n",
       "      <th>confidence</th>\n",
       "      <th>version</th>\n",
       "      <th>bright_t31</th>\n",
       "      <th>frp</th>\n",
       "      <th>daynight</th>\n",
       "      <th>type</th>\n",
       "      <th>lat_km</th>\n",
       "      <th>long_km</th>\n",
       "    </tr>\n",
       "  </thead>\n",
       "  <tbody>\n",
       "    <tr>\n",
       "      <th>259</th>\n",
       "      <td>23.4521</td>\n",
       "      <td>107.8448</td>\n",
       "      <td>307.5</td>\n",
       "      <td>3.4</td>\n",
       "      <td>1.7</td>\n",
       "      <td>2015-01-01</td>\n",
       "      <td>410</td>\n",
       "      <td>Terra</td>\n",
       "      <td>MODIS</td>\n",
       "      <td>66</td>\n",
       "      <td>6.2</td>\n",
       "      <td>286.6</td>\n",
       "      <td>49.5</td>\n",
       "      <td>D</td>\n",
       "      <td>0</td>\n",
       "      <td>2670</td>\n",
       "      <td>12005</td>\n",
       "    </tr>\n",
       "    <tr>\n",
       "      <th>260</th>\n",
       "      <td>23.4631</td>\n",
       "      <td>107.8534</td>\n",
       "      <td>304.2</td>\n",
       "      <td>3.4</td>\n",
       "      <td>1.7</td>\n",
       "      <td>2015-01-01</td>\n",
       "      <td>410</td>\n",
       "      <td>Terra</td>\n",
       "      <td>MODIS</td>\n",
       "      <td>58</td>\n",
       "      <td>6.2</td>\n",
       "      <td>286.7</td>\n",
       "      <td>37.4</td>\n",
       "      <td>D</td>\n",
       "      <td>0</td>\n",
       "      <td>2671</td>\n",
       "      <td>12006</td>\n",
       "    </tr>\n",
       "    <tr>\n",
       "      <th>261</th>\n",
       "      <td>21.6968</td>\n",
       "      <td>103.0861</td>\n",
       "      <td>318.7</td>\n",
       "      <td>1.7</td>\n",
       "      <td>1.3</td>\n",
       "      <td>2015-01-01</td>\n",
       "      <td>411</td>\n",
       "      <td>Terra</td>\n",
       "      <td>MODIS</td>\n",
       "      <td>79</td>\n",
       "      <td>6.2</td>\n",
       "      <td>291.9</td>\n",
       "      <td>35.2</td>\n",
       "      <td>D</td>\n",
       "      <td>0</td>\n",
       "      <td>2459</td>\n",
       "      <td>11475</td>\n",
       "    </tr>\n",
       "    <tr>\n",
       "      <th>262</th>\n",
       "      <td>21.6998</td>\n",
       "      <td>103.0696</td>\n",
       "      <td>309.5</td>\n",
       "      <td>1.7</td>\n",
       "      <td>1.3</td>\n",
       "      <td>2015-01-01</td>\n",
       "      <td>411</td>\n",
       "      <td>Terra</td>\n",
       "      <td>MODIS</td>\n",
       "      <td>69</td>\n",
       "      <td>6.2</td>\n",
       "      <td>292.6</td>\n",
       "      <td>19.3</td>\n",
       "      <td>D</td>\n",
       "      <td>0</td>\n",
       "      <td>2460</td>\n",
       "      <td>11474</td>\n",
       "    </tr>\n",
       "    <tr>\n",
       "      <th>263</th>\n",
       "      <td>22.1135</td>\n",
       "      <td>101.1773</td>\n",
       "      <td>305.3</td>\n",
       "      <td>1.3</td>\n",
       "      <td>1.1</td>\n",
       "      <td>2015-01-01</td>\n",
       "      <td>411</td>\n",
       "      <td>Terra</td>\n",
       "      <td>MODIS</td>\n",
       "      <td>61</td>\n",
       "      <td>6.2</td>\n",
       "      <td>289.2</td>\n",
       "      <td>9.1</td>\n",
       "      <td>D</td>\n",
       "      <td>0</td>\n",
       "      <td>2509</td>\n",
       "      <td>11263</td>\n",
       "    </tr>\n",
       "  </tbody>\n",
       "</table>\n",
       "</div>"
      ],
      "text/plain": [
       "     latitude  longitude  brightness  scan  track    acq_date  acq_time  \\\n",
       "259   23.4521   107.8448       307.5   3.4    1.7  2015-01-01       410   \n",
       "260   23.4631   107.8534       304.2   3.4    1.7  2015-01-01       410   \n",
       "261   21.6968   103.0861       318.7   1.7    1.3  2015-01-01       411   \n",
       "262   21.6998   103.0696       309.5   1.7    1.3  2015-01-01       411   \n",
       "263   22.1135   101.1773       305.3   1.3    1.1  2015-01-01       411   \n",
       "\n",
       "    satellite instrument  confidence  version  bright_t31   frp daynight  \\\n",
       "259     Terra      MODIS          66      6.2       286.6  49.5        D   \n",
       "260     Terra      MODIS          58      6.2       286.7  37.4        D   \n",
       "261     Terra      MODIS          79      6.2       291.9  35.2        D   \n",
       "262     Terra      MODIS          69      6.2       292.6  19.3        D   \n",
       "263     Terra      MODIS          61      6.2       289.2   9.1        D   \n",
       "\n",
       "     type  lat_km  long_km  \n",
       "259     0    2670    12005  \n",
       "260     0    2671    12006  \n",
       "261     0    2459    11475  \n",
       "262     0    2460    11474  \n",
       "263     0    2509    11263  "
      ]
     },
     "execution_count": 11,
     "metadata": {},
     "output_type": "execute_result"
    }
   ],
   "source": [
    "df.head()"
   ]
  },
  {
   "cell_type": "code",
   "execution_count": 18,
   "metadata": {},
   "outputs": [
    {
     "name": "stdout",
     "output_type": "stream",
     "text": [
      "Wall time: 12min 57s\n"
     ]
    }
   ],
   "source": [
    "%%time\n",
    "# try with dask\n",
    "all_fire = [read_fire_dd(file,lat_km, long_km) for file in m_files]\n",
    "all_fire = dd.concat(all_fire)\n",
    "fire_df = all_fire.compute()"
   ]
  },
  {
   "cell_type": "code",
   "execution_count": 2,
   "metadata": {},
   "outputs": [
    {
     "data": {
      "text/plain": [
       "[0.0, 1.0, 2.0, 3.0, 4.0, 5.0, 6.0, 7.0, 8.0, 9.0]"
      ]
     },
     "execution_count": 2,
     "metadata": {},
     "output_type": "execute_result"
    }
   ],
   "source": [
    "from math import sqrt\n",
    "from joblib import Parallel, delayed\n",
    "Parallel(n_jobs=2)(delayed(sqrt)(i ** 2) for i in range(10))\n",
    "[0.0, 1.0, 2.0, 3.0, 4.0, 5.0, 6.0, 7.0, 8.0, 9.0]"
   ]
  },
  {
   "cell_type": "code",
   "execution_count": 20,
   "metadata": {},
   "outputs": [
    {
     "name": "stdout",
     "output_type": "stream",
     "text": [
      "Wall time: 7min 36s\n"
     ]
    }
   ],
   "source": [
    "%%time\n",
    "all_fire_list = Parallel(n_jobs=2)(delayed(read_fire)(file, lat_km, long_km) for file in m_files)\n",
    "fire_df = pd.concat(all_fire_list, ignore_index=True)"
   ]
  },
  {
   "cell_type": "markdown",
   "metadata": {},
   "source": [
    "# Data From Hanoi US Embassy"
   ]
  },
  {
   "cell_type": "code",
   "execution_count": 114,
   "metadata": {},
   "outputs": [
    {
     "name": "stdout",
     "output_type": "stream",
     "text": [
      "100% [............................................................................] 389775 / 389775"
     ]
    },
    {
     "data": {
      "text/plain": [
       "'../data/us_emb/Hanoi_PM2.5_2020_YTD (1).csv'"
      ]
     },
     "execution_count": 114,
     "metadata": {},
     "output_type": "execute_result"
    }
   ],
   "source": [
    "wget.download('http://dosairnowdata.org/dos/historical/Hanoi/2020/Hanoi_PM2.5_2020_YTD.csv','../data/us_emb/Hanoi_PM2.5_2020_YTD.csv')"
   ]
  },
  {
   "cell_type": "markdown",
   "metadata": {},
   "source": [
    "# Vietnam EPA"
   ]
  },
  {
   "cell_type": "code",
   "execution_count": 335,
   "metadata": {},
   "outputs": [
    {
     "name": "stderr",
     "output_type": "stream",
     "text": [
      "\r",
      "  0%|                                                                                                                                | 0/33 [00:00<?, ?it/s]"
     ]
    },
    {
     "name": "stdout",
     "output_type": "stream",
     "text": [
      "number of station 33. Takes about 1 mins per station\n"
     ]
    },
    {
     "name": "stderr",
     "output_type": "stream",
     "text": [
      "100%|███████████████████████████████████████████████████████████████████████████████████████████████████████████████████████| 33/33 [25:34<00:00, 46.49s/it]\n"
     ]
    },
    {
     "name": "stdout",
     "output_type": "stream",
     "text": [
      "the total data has len 796\n",
      "save file as  C:\\Users\\Benny\\Documents\\Fern\\aqi_thailand2\\data\\vn_epa\\2020-08-31_19-20.csv\n",
      "Wall time: 27min 25s\n"
     ]
    }
   ],
   "source": [
    "%%time\n",
    "data, station_info_list  = download_vn_data()"
   ]
  },
  {
   "cell_type": "code",
   "execution_count": 11,
   "metadata": {},
   "outputs": [
    {
     "name": "stdout",
     "output_type": "stream",
     "text": [
      "old file length  133470\n",
      "new file length  34027\n"
     ]
    }
   ],
   "source": [
    "concat_vn_data()"
   ]
  },
  {
   "cell_type": "code",
   "execution_count": null,
   "metadata": {},
   "outputs": [],
   "source": []
  }
 ],
 "metadata": {
  "kernelspec": {
   "display_name": "Python 3",
   "language": "python",
   "name": "python3"
  },
  "language_info": {
   "codemirror_mode": {
    "name": "ipython",
    "version": 3
   },
   "file_extension": ".py",
   "mimetype": "text/x-python",
   "name": "python",
   "nbconvert_exporter": "python",
   "pygments_lexer": "ipython3",
   "version": "3.7.5"
  },
  "toc": {
   "base_numbering": 1,
   "nav_menu": {},
   "number_sections": true,
   "sideBar": true,
   "skip_h1_title": false,
   "title_cell": "Table of Contents",
   "title_sidebar": "Contents",
   "toc_cell": true,
   "toc_position": {
    "height": "calc(100% - 180px)",
    "left": "10px",
    "top": "150px",
    "width": "186.175px"
   },
   "toc_section_display": true,
   "toc_window_display": true
  }
 },
 "nbformat": 4,
 "nbformat_minor": 4
}
